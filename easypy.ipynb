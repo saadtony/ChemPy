{
 "cells": [
  {
   "cell_type": "markdown",
   "metadata": {
    "slideshow": {
     "slide_type": "slide"
    }
   },
   "source": [
    "![](ChemE_logo.png \"ChemE Logo\")\n",
    "\n",
    "# Easy Python\n",
    "by [Tony Saad](www.tonysaad.net) <br/>\n",
    "Assistant Professor of [Chemical Engineering](www.che.utah.edu) <br/>\n",
    "[University of Utah](www.utah.edu)\n",
    "\n",
    "\n",
    "Please press the right arrow on your keyboard to proceed."
   ]
  },
  {
   "cell_type": "markdown",
   "metadata": {
    "slideshow": {
     "slide_type": "slide"
    }
   },
   "source": [
    "This is an easy guide for learning Python. In my opinion, you don't need more than this guide to get started with Python. Once you get familiar with the syntax you can dig deeper on your own."
   ]
  },
  {
   "cell_type": "markdown",
   "metadata": {
    "slideshow": {
     "slide_type": "fragment"
    }
   },
   "source": [
    "In fact, my attitude towards programming consists of the following two steps:\n",
    "1. Articulate what you want to accomplish (e.g. `I need to sort this array`)\n",
    "2. google it! (e.g. `how to sort an array in Python?`)"
   ]
  },
  {
   "cell_type": "markdown",
   "metadata": {
    "slideshow": {
     "slide_type": "fragment"
    }
   },
   "source": [
    "As an engineer, programming languages are fundamental tools in my arsenal to tackle research problems. But they are only a means to an end. Therefore, I am happy to learn programming by mimicking what other professional programmers and software developers do. That's why google is your best friend."
   ]
  },
  {
   "cell_type": "markdown",
   "metadata": {
    "slideshow": {
     "slide_type": "fragment"
    }
   },
   "source": [
    "A key reference used for this guide is: <a href=\"http://www.cambridge.org/us/academic/subjects/engineering/engineering-mathematics-and-programming/numerical-methods-engineering-python-3-3rd-edition?format=HB&isbn=9781107033856#pxBTbtZyd8sAQIUY.97\"> Numerical Methods in Engineering with Python 3 </a> by Jaan Kiusalaas."
   ]
  },
  {
   "cell_type": "markdown",
   "metadata": {
    "slideshow": {
     "slide_type": "slide"
    }
   },
   "source": [
    "# Python: Anyone Can Code!"
   ]
  },
  {
   "cell_type": "markdown",
   "metadata": {
    "slideshow": {
     "slide_type": "-"
    }
   },
   "source": [
    "![anyone can code](anyone_can_code.jpg)"
   ]
  },
  {
   "cell_type": "markdown",
   "metadata": {
    "slideshow": {
     "slide_type": "slide"
    }
   },
   "source": [
    "Python is a modern programming language that is very easy to use. Python promotes productivity and a clear focus on accomplishing the tasks at hand."
   ]
  },
  {
   "cell_type": "markdown",
   "metadata": {
    "slideshow": {
     "slide_type": "fragment"
    }
   },
   "source": [
    "In an age of extreme technology and unsurpassed information exchange, it is unacceptable for a modern engineer to **NOT** know a programming language. Python stands among the easiest and most enjoyable programming languages out there."
   ]
  },
  {
   "cell_type": "markdown",
   "metadata": {
    "slideshow": {
     "slide_type": "slide"
    }
   },
   "source": [
    "If there's ever an example of why someone needs to learn programming, here it is:"
   ]
  },
  {
   "cell_type": "code",
   "execution_count": 1,
   "metadata": {
    "collapsed": false,
    "slideshow": {
     "slide_type": "fragment"
    }
   },
   "outputs": [
    {
     "data": {
      "image/jpeg": "[encoded data removed]",
      "text/html": [
       "\n",
       "        <iframe\n",
       "            width=\"600\"\n",
       "            height=\"300\"\n",
       "            src=\"https://www.youtube.com/embed/XetHU_pAWOo\"\n",
       "            frameborder=\"0\"\n",
       "            allowfullscreen\n",
       "        ></iframe>\n",
       "        "
      ],
      "text/plain": [
       "<IPython.lib.display.YouTubeVideo at 0x109b960b8>"
      ]
     },
     "execution_count": 1,
     "metadata": {},
     "output_type": "execute_result"
    }
   ],
   "source": [
    "from IPython.display import YouTubeVideo\n",
    "YouTubeVideo('XetHU_pAWOo',width=600, height=300)"
   ]
  },
  {
   "cell_type": "markdown",
   "metadata": {
    "slideshow": {
     "slide_type": "-"
    }
   },
   "source": [
    "Back in the 60s, when our nation needed it the most... It was programming that saved the day! (Thanks to Dr. Sean Smith for the suggestion to include a clip from the movie Hidden Figures)"
   ]
  },
  {
   "cell_type": "markdown",
   "metadata": {
    "slideshow": {
     "slide_type": "slide"
    }
   },
   "source": [
    "Here's why you should learn Python:\n",
    "1. Because your future will likely depend on it. Programming job trends rank python among the [top](https://www.indeed.com/jobtrends/q-%22C++%22-q-Matlab-q-Python.html). Moreover, coding Dojo places python [Numero Uno](http://www.codingdojo.com/blog/our-approach-to-curriculum/).\n",
    "2. Python is **FREE**!\n",
    "3. It is very easy to get started programming with Python\n",
    "5. Python is very forgiving\n",
    "6. There is significant community support around Python\n",
    "7. You can even use Python in a web browser!"
   ]
  },
  {
   "cell_type": "markdown",
   "metadata": {
    "slideshow": {
     "slide_type": "slide"
    }
   },
   "source": [
    "## Obtaining Python: (Can't you just Google it?)\n",
    "My favorite way of obtaining python is to download the Anaconda distribution: http://www.anaconda.com. Once you install it, Python mysteriously resides on your computer."
   ]
  },
  {
   "cell_type": "markdown",
   "metadata": {
    "slideshow": {
     "slide_type": "fragment"
    }
   },
   "source": [
    "## Executing Python Code\n",
    "There are a few ways you can run Python:\n",
    "1. Write your code in a text file with the extension **`py`**. Then from the terminal type **`python myPythonCode.py`**\n",
    "2. Use one of the editors that ship with python. Anaconda ships with `Spyder`. Another famous editor is called <a href=\"https://www.jetbrains.com/pycharm/\"> `PyCharm` </a>. Using these editors (actually Integrated Development Environments, IDEs), you can write code and execute it on the spot.\n",
    "3. Use **`Jupyter Notebook`**. This my favorite approach as it allows you to write Python code from within your browser and mix it with text and equation. Simply open up a terminal (command prompt on windows) and type **`jupyter notebook`**."
   ]
  },
  {
   "cell_type": "markdown",
   "metadata": {
    "slideshow": {
     "slide_type": "fragment"
    }
   },
   "source": [
    "For more information on jupyter notebooks, please see <a href=\"https://nbviewer.jupyter.org/format/slides/urls/software.crsim.utah.edu%3A8443/Teaching/public-projects/jupyter-tips/raw/master/JupyterIntro.ipynb#/\"> this guide</a> by Prof. James Sutherland."
   ]
  },
  {
   "cell_type": "markdown",
   "metadata": {
    "slideshow": {
     "slide_type": "slide"
    }
   },
   "source": [
    "# Core Python\n",
    "Python has a bunch of key core functionality including the ability to define variables, strings, lists and other types. Let's get started:"
   ]
  },
  {
   "cell_type": "markdown",
   "metadata": {
    "slideshow": {
     "slide_type": "slide"
    }
   },
   "source": [
    "## Variables\n",
    "Variables, just like any programming language, can be declared and assigned *on the spot*"
   ]
  },
  {
   "cell_type": "code",
   "execution_count": 2,
   "metadata": {
    "collapsed": false,
    "slideshow": {
     "slide_type": "fragment"
    }
   },
   "outputs": [
    {
     "name": "stdout",
     "output_type": "stream",
     "text": [
      "33\n"
     ]
    }
   ],
   "source": [
    "myVar = 33   # my var is an integer in this case\n",
    "print(myVar) # this will print the value of myVar"
   ]
  },
  {
   "cell_type": "code",
   "execution_count": 3,
   "metadata": {
    "collapsed": false,
    "slideshow": {
     "slide_type": "fragment"
    }
   },
   "outputs": [
    {
     "name": "stdout",
     "output_type": "stream",
     "text": [
      "99.0\n"
     ]
    }
   ],
   "source": [
    "b = 3.0 * myVar # b is now floating point variable\n",
    "print(b)"
   ]
  },
  {
   "cell_type": "markdown",
   "metadata": {
    "slideshow": {
     "slide_type": "fragment"
    }
   },
   "source": [
    "Note that Python automatically detects the data type of a variable. This is called dynamic typing."
   ]
  },
  {
   "cell_type": "markdown",
   "metadata": {
    "slideshow": {
     "slide_type": "slide"
    }
   },
   "source": [
    "### Strings\n",
    "Strings are a special type of variable that represent text. Simply use single (or double) quotations to define a string variable."
   ]
  },
  {
   "cell_type": "code",
   "execution_count": 4,
   "metadata": {
    "collapsed": false,
    "slideshow": {
     "slide_type": "fragment"
    }
   },
   "outputs": [
    {
     "name": "stdout",
     "output_type": "stream",
     "text": [
      "This is my first string variable.\n"
     ]
    }
   ],
   "source": [
    "str1 = 'This is my first string variable.'\n",
    "print(str1)"
   ]
  },
  {
   "cell_type": "code",
   "execution_count": 5,
   "metadata": {
    "collapsed": false,
    "slideshow": {
     "slide_type": "fragment"
    }
   },
   "outputs": [
    {
     "name": "stdout",
     "output_type": "stream",
     "text": [
      "this is also another string\n"
     ]
    }
   ],
   "source": [
    "str2 = \"this is also another string\"\n",
    "print(str2)"
   ]
  },
  {
   "cell_type": "markdown",
   "metadata": {
    "slideshow": {
     "slide_type": "slide"
    }
   },
   "source": [
    "You can concatenate strings together:"
   ]
  },
  {
   "cell_type": "code",
   "execution_count": 6,
   "metadata": {
    "collapsed": false,
    "slideshow": {
     "slide_type": "fragment"
    }
   },
   "outputs": [
    {
     "name": "stdout",
     "output_type": "stream",
     "text": [
      "This is my first string variable.this is also another string\n"
     ]
    }
   ],
   "source": [
    "str3 = str1 + str2\n",
    "print(str3)"
   ]
  },
  {
   "cell_type": "markdown",
   "metadata": {
    "slideshow": {
     "slide_type": "fragment"
    }
   },
   "source": [
    "and you can add extra strings in between"
   ]
  },
  {
   "cell_type": "code",
   "execution_count": 7,
   "metadata": {
    "collapsed": false,
    "slideshow": {
     "slide_type": "fragment"
    }
   },
   "outputs": [
    {
     "name": "stdout",
     "output_type": "stream",
     "text": [
      "This is my first string variable. this is also another string.\n"
     ]
    }
   ],
   "source": [
    "str4 = str1 + \" \" + str2 + \".\"\n",
    "print(str4)"
   ]
  },
  {
   "cell_type": "markdown",
   "metadata": {
    "collapsed": false,
    "slideshow": {
     "slide_type": "slide"
    }
   },
   "source": [
    "Strings represent an **immutable** list of characters - that is, you *cannot* assign values of individual characters - otherwise, you will get an error."
   ]
  },
  {
   "cell_type": "code",
   "execution_count": 8,
   "metadata": {
    "collapsed": false,
    "slideshow": {
     "slide_type": "fragment"
    }
   },
   "outputs": [
    {
     "ename": "TypeError",
     "evalue": "'str' object does not support item assignment",
     "output_type": "error",
     "traceback": [
      "\u001b[0;31m---------------------------------------------------------------------------\u001b[0m",
      "\u001b[0;31mTypeError\u001b[0m                                 Traceback (most recent call last)",
      "\u001b[0;32m<ipython-input-8-8f098f301cdc>\u001b[0m in \u001b[0;36m<module>\u001b[0;34m()\u001b[0m\n\u001b[0;32m----> 1\u001b[0;31m \u001b[0mstr4\u001b[0m\u001b[0;34m[\u001b[0m\u001b[0;36m2\u001b[0m\u001b[0;34m]\u001b[0m\u001b[0;34m=\u001b[0m\u001b[0;34m'b'\u001b[0m\u001b[0;34m\u001b[0m\u001b[0m\n\u001b[0m",
      "\u001b[0;31mTypeError\u001b[0m: 'str' object does not support item assignment"
     ]
    }
   ],
   "source": [
    "str4[2]='b'"
   ]
  },
  {
   "cell_type": "markdown",
   "metadata": {
    "slideshow": {
     "slide_type": "fragment"
    }
   },
   "source": [
    "But you can certainly loop through a string:"
   ]
  },
  {
   "cell_type": "code",
   "execution_count": null,
   "metadata": {
    "collapsed": false,
    "slideshow": {
     "slide_type": "fragment"
    }
   },
   "outputs": [],
   "source": [
    "newstr = 'string'\n",
    "for val in newstr: # you will learn about this kind of loop later\n",
    "    print(val)"
   ]
  },
  {
   "cell_type": "markdown",
   "metadata": {
    "slideshow": {
     "slide_type": "slide"
    }
   },
   "source": [
    "### Tuples"
   ]
  },
  {
   "cell_type": "markdown",
   "metadata": {
    "slideshow": {
     "slide_type": "fragment"
    }
   },
   "source": [
    "A tuple is an **immutable** sequence of **arbitrary** objects separated by commas and enclosed in parentheses."
   ]
  },
  {
   "cell_type": "code",
   "execution_count": 9,
   "metadata": {
    "collapsed": true,
    "slideshow": {
     "slide_type": "fragment"
    }
   },
   "outputs": [],
   "source": [
    "a=(1,'b',2)"
   ]
  },
  {
   "cell_type": "markdown",
   "metadata": {
    "slideshow": {
     "slide_type": "fragment"
    }
   },
   "source": [
    "You can access items in a tuple"
   ]
  },
  {
   "cell_type": "code",
   "execution_count": 10,
   "metadata": {
    "collapsed": false,
    "slideshow": {
     "slide_type": "fragment"
    }
   },
   "outputs": [
    {
     "name": "stdout",
     "output_type": "stream",
     "text": [
      "2\n"
     ]
    }
   ],
   "source": [
    "print(a[2])"
   ]
  },
  {
   "cell_type": "markdown",
   "metadata": {
    "slideshow": {
     "slide_type": "fragment"
    }
   },
   "source": [
    "but cannot modify the contents because they are immutable"
   ]
  },
  {
   "cell_type": "code",
   "execution_count": 11,
   "metadata": {
    "collapsed": false,
    "slideshow": {
     "slide_type": "fragment"
    }
   },
   "outputs": [
    {
     "ename": "TypeError",
     "evalue": "'tuple' object does not support item assignment",
     "output_type": "error",
     "traceback": [
      "\u001b[0;31m---------------------------------------------------------------------------\u001b[0m",
      "\u001b[0;31mTypeError\u001b[0m                                 Traceback (most recent call last)",
      "\u001b[0;32m<ipython-input-11-b4d7398304bd>\u001b[0m in \u001b[0;36m<module>\u001b[0;34m()\u001b[0m\n\u001b[0;32m----> 1\u001b[0;31m \u001b[0ma\u001b[0m\u001b[0;34m[\u001b[0m\u001b[0;36m3\u001b[0m\u001b[0;34m]\u001b[0m\u001b[0;34m=\u001b[0m\u001b[0;36m2.0\u001b[0m\u001b[0;34m\u001b[0m\u001b[0m\n\u001b[0m",
      "\u001b[0;31mTypeError\u001b[0m: 'tuple' object does not support item assignment"
     ]
    }
   ],
   "source": [
    "a[3]=2.0"
   ]
  },
  {
   "cell_type": "markdown",
   "metadata": {
    "slideshow": {
     "slide_type": "slide"
    }
   },
   "source": [
    "### Lists"
   ]
  },
  {
   "cell_type": "markdown",
   "metadata": {
    "slideshow": {
     "slide_type": "fragment"
    }
   },
   "source": [
    "Lists are a like tuples but are **mutable**. They are defined using square brackets with items separated by a comma."
   ]
  },
  {
   "cell_type": "code",
   "execution_count": 12,
   "metadata": {
    "collapsed": false,
    "slideshow": {
     "slide_type": "fragment"
    }
   },
   "outputs": [
    {
     "name": "stdout",
     "output_type": "stream",
     "text": [
      "[1, 2, 3, 'b']\n"
     ]
    }
   ],
   "source": [
    "myList = [1,2,3,'b']\n",
    "print(myList)"
   ]
  },
  {
   "cell_type": "markdown",
   "metadata": {
    "slideshow": {
     "slide_type": "slide"
    }
   },
   "source": [
    "You can modify items in a list"
   ]
  },
  {
   "cell_type": "code",
   "execution_count": 13,
   "metadata": {
    "collapsed": false,
    "slideshow": {
     "slide_type": "fragment"
    }
   },
   "outputs": [
    {
     "name": "stdout",
     "output_type": "stream",
     "text": [
      "[1, 2, 3, 'a']\n"
     ]
    }
   ],
   "source": [
    "myList[3]='a'\n",
    "print(myList)"
   ]
  },
  {
   "cell_type": "markdown",
   "metadata": {
    "slideshow": {
     "slide_type": "fragment"
    }
   },
   "source": [
    "You can append items to a list"
   ]
  },
  {
   "cell_type": "code",
   "execution_count": 14,
   "metadata": {
    "collapsed": false,
    "slideshow": {
     "slide_type": "fragment"
    }
   },
   "outputs": [
    {
     "name": "stdout",
     "output_type": "stream",
     "text": [
      "[1, 2, 3, 'a', 43]\n"
     ]
    }
   ],
   "source": [
    "myList.append(43)\n",
    "print(myList)"
   ]
  },
  {
   "cell_type": "markdown",
   "metadata": {
    "slideshow": {
     "slide_type": "fragment"
    }
   },
   "source": [
    "You can also insert items in a list at a specified location"
   ]
  },
  {
   "cell_type": "code",
   "execution_count": 15,
   "metadata": {
    "collapsed": false,
    "slideshow": {
     "slide_type": "fragment"
    }
   },
   "outputs": [
    {
     "name": "stdout",
     "output_type": "stream",
     "text": [
      "[1, 2, 3, 'inserted item', 'a', 43]\n"
     ]
    }
   ],
   "source": [
    "myList.insert(3,'inserted item')\n",
    "print(myList)"
   ]
  },
  {
   "cell_type": "markdown",
   "metadata": {
    "slideshow": {
     "slide_type": "slide"
    }
   },
   "source": [
    "You can create a list of lists as well"
   ]
  },
  {
   "cell_type": "code",
   "execution_count": 16,
   "metadata": {
    "collapsed": false,
    "slideshow": {
     "slide_type": "fragment"
    }
   },
   "outputs": [
    {
     "name": "stdout",
     "output_type": "stream",
     "text": [
      "[[1, 2, 3], [5, 7, 8], [17, 0, 9]]\n"
     ]
    }
   ],
   "source": [
    "b = [[1,2,3],\n",
    "     [5,7,8],\n",
    "     [17,0,9]]\n",
    "print(b)"
   ]
  },
  {
   "cell_type": "markdown",
   "metadata": {
    "slideshow": {
     "slide_type": "fragment"
    }
   },
   "source": [
    "You can create an empty list with: <code> x = [] </code> and then you can append things to it."
   ]
  },
  {
   "cell_type": "code",
   "execution_count": 17,
   "metadata": {
    "collapsed": false,
    "slideshow": {
     "slide_type": "fragment"
    }
   },
   "outputs": [
    {
     "name": "stdout",
     "output_type": "stream",
     "text": [
      "[1, 'apple']\n"
     ]
    }
   ],
   "source": [
    "x =[]\n",
    "x.append(1)\n",
    "x.append('apple')\n",
    "print(x)"
   ]
  },
  {
   "cell_type": "markdown",
   "metadata": {
    "slideshow": {
     "slide_type": "slide"
    }
   },
   "source": [
    "For scientific computing applications, it is recommended to use numpy arrays instead of lists. We will look at [numpy](#The-Almighty-numpy) arrays a little bit later."
   ]
  },
  {
   "cell_type": "markdown",
   "metadata": {
    "slideshow": {
     "slide_type": "slide"
    }
   },
   "source": [
    "### WARNING!\n",
    "If `b` is a list, then the assignment `a = b` does **NOT** create a copy of `b`. Instead, `a` **AND** `b` both point to the same data. So if you change `a`, `b` will also change. and vice versa."
   ]
  },
  {
   "cell_type": "code",
   "execution_count": 18,
   "metadata": {
    "collapsed": false,
    "slideshow": {
     "slide_type": "fragment"
    }
   },
   "outputs": [
    {
     "name": "stdout",
     "output_type": "stream",
     "text": [
      "b =  [1, 3, 5]\n",
      "a =  [1, 3, 1.11]\n",
      "b is now also changed to:  [1, 3, 1.11]\n"
     ]
    }
   ],
   "source": [
    "b=[1,3,5] # create a list called b\n",
    "print(\"b = \", b)  # b should be [1,3,5]\n",
    "a = b     # a is [1,3,5]\n",
    "a[2]=1.11 # a is [1,3,1.11] BUT THIS ALSO CHANGES b!\n",
    "print(\"a = \", a)\n",
    "print(\"b is now also changed to: \", b)  # b is [1,3,1.11]"
   ]
  },
  {
   "cell_type": "markdown",
   "metadata": {
    "slideshow": {
     "slide_type": "slide"
    }
   },
   "source": [
    "If you want to make a copy, you should use: `a = b.copy()`"
   ]
  },
  {
   "cell_type": "code",
   "execution_count": 19,
   "metadata": {
    "collapsed": false,
    "slideshow": {
     "slide_type": "fragment"
    }
   },
   "outputs": [
    {
     "name": "stdout",
     "output_type": "stream",
     "text": [
      "b =  [1, 3, 5]\n",
      "a =  [1, 3, 1.11]\n",
      "b remains unchanged:  [1, 3, 5]\n"
     ]
    }
   ],
   "source": [
    "b=[1,3,5] # create a list called b\n",
    "print(\"b = \", b)  # b should be [1,3,5]\n",
    "a = b.copy()     # a is [1,3,5]\n",
    "a[2]=1.11 # a is [1,3,1.11] BUT THIS ALSO CHANGES b!\n",
    "print(\"a = \", a)\n",
    "print(\"b remains unchanged: \", b)  # b is [1,3,1.11]"
   ]
  },
  {
   "cell_type": "markdown",
   "metadata": {
    "slideshow": {
     "slide_type": "slide"
    }
   },
   "source": [
    "### Displaying Variables"
   ]
  },
  {
   "cell_type": "markdown",
   "metadata": {
    "slideshow": {
     "slide_type": "fragment"
    }
   },
   "source": [
    "You can display variables simply by typing them"
   ]
  },
  {
   "cell_type": "code",
   "execution_count": 20,
   "metadata": {
    "collapsed": false,
    "slideshow": {
     "slide_type": "fragment"
    }
   },
   "outputs": [
    {
     "data": {
      "text/plain": [
       "[1, 2, 3, 'inserted item', 'a', 43]"
      ]
     },
     "execution_count": 20,
     "metadata": {},
     "output_type": "execute_result"
    }
   ],
   "source": [
    "myList"
   ]
  },
  {
   "cell_type": "markdown",
   "metadata": {
    "slideshow": {
     "slide_type": "fragment"
    }
   },
   "source": [
    "or by using <code>print</code>"
   ]
  },
  {
   "cell_type": "code",
   "execution_count": 21,
   "metadata": {
    "collapsed": false,
    "slideshow": {
     "slide_type": "fragment"
    }
   },
   "outputs": [
    {
     "name": "stdout",
     "output_type": "stream",
     "text": [
      "[1, 2, 3, 'inserted item', 'a', 43]\n"
     ]
    }
   ],
   "source": [
    "print(myList)"
   ]
  },
  {
   "cell_type": "markdown",
   "metadata": {
    "slideshow": {
     "slide_type": "fragment"
    }
   },
   "source": [
    "You can also format things using <code>print</code>"
   ]
  },
  {
   "cell_type": "code",
   "execution_count": 22,
   "metadata": {
    "collapsed": false,
    "slideshow": {
     "slide_type": "fragment"
    }
   },
   "outputs": [
    {
     "name": "stdout",
     "output_type": "stream",
     "text": [
      "This is my list: [1, 2, 3, 'inserted item', 'a', 43]\n"
     ]
    }
   ],
   "source": [
    "print('This is my list:', myList)"
   ]
  },
  {
   "cell_type": "markdown",
   "metadata": {
    "slideshow": {
     "slide_type": "slide"
    }
   },
   "source": [
    "## Arithmetic Operators\n",
    "Python supports basic math operators. You can use those on almost ANYTHING in python!"
   ]
  },
  {
   "cell_type": "markdown",
   "metadata": {
    "slideshow": {
     "slide_type": "fragment"
    }
   },
   "source": [
    "| Operation      | Symbol        |\n",
    "| -------------  |:-------------:|\n",
    "| Addition       | +             |\n",
    "| Subtraction    | -             |\n",
    "| Multiplication | *             |\n",
    "| Division       | /             |\n",
    "| Exponentiation | \\*\\*          |\n",
    "| Modulus        | %             |\n"
   ]
  },
  {
   "cell_type": "markdown",
   "metadata": {
    "slideshow": {
     "slide_type": "slide"
    }
   },
   "source": [
    "You can also use augmented assignements\n",
    "\n",
    "| Operation      | Meaning       |\n",
    "| -------------  |:-------------:|\n",
    "| a += b         | a = a + b     |\n",
    "| a -= b         | a = a -b      |\n",
    "| a \\*= b        | a = a\\*b      |\n",
    "| a /=b          | a = a/b       |\n",
    "| a \\*\\*= b      | a = a\\*\\*b    |\n",
    "| a %= b         | a = a % b     |\n",
    "\n"
   ]
  },
  {
   "cell_type": "markdown",
   "metadata": {
    "slideshow": {
     "slide_type": "slide"
    }
   },
   "source": [
    "## Comparison Operators\n",
    "Python also supports all basic comparison operators. These work on almost everything in Python - but make sure you understand their meaning!"
   ]
  },
  {
   "cell_type": "markdown",
   "metadata": {
    "slideshow": {
     "slide_type": "fragment"
    }
   },
   "source": [
    "| Symbol      | Meaning        |\n",
    "| -------------  |:-------------:|\n",
    "| <           | Less than             |\n",
    "| >           | Greater than             |\n",
    "| <=          | Less than or equal to             |\n",
    "| >=          | Greater than or equal to             |\n",
    "| ==          | Equal to          |\n",
    "| !=          | Not equal to             |\n",
    "\n"
   ]
  },
  {
   "cell_type": "markdown",
   "metadata": {
    "slideshow": {
     "slide_type": "slide"
    }
   },
   "source": [
    "When different data types are compared to each other, they are first converted, when possible, to a common type and then compared. Such is the case for example when comparing an integer and a float."
   ]
  },
  {
   "cell_type": "code",
   "execution_count": 23,
   "metadata": {
    "collapsed": false,
    "slideshow": {
     "slide_type": "fragment"
    }
   },
   "outputs": [
    {
     "name": "stdout",
     "output_type": "stream",
     "text": [
      "False\n"
     ]
    }
   ],
   "source": [
    "a = 2 # a is an integer\n",
    "b = 2.1 # b is a float\n",
    "print(a>b) # converts both numbers to a float"
   ]
  },
  {
   "cell_type": "markdown",
   "metadata": {
    "slideshow": {
     "slide_type": "fragment"
    }
   },
   "source": [
    "When a conversion to a common type is not possible, then in general, objects are considered to be unequal."
   ]
  },
  {
   "cell_type": "code",
   "execution_count": 24,
   "metadata": {
    "collapsed": false,
    "slideshow": {
     "slide_type": "fragment"
    }
   },
   "outputs": [
    {
     "name": "stdout",
     "output_type": "stream",
     "text": [
      "False\n"
     ]
    }
   ],
   "source": [
    "a=2\n",
    "b='2.1'\n",
    "print(a==b)"
   ]
  },
  {
   "cell_type": "markdown",
   "metadata": {
    "slideshow": {
     "slide_type": "slide"
    }
   },
   "source": [
    "### Conditionals (If statements)"
   ]
  },
  {
   "cell_type": "markdown",
   "metadata": {
    "slideshow": {
     "slide_type": "fragment"
    }
   },
   "source": [
    "You can use if statements to analyze the condition of a variable during runtime. An if statements looks like:\n",
    "```python\n",
    "if condition:\n",
    "  do something\n",
    "elif condition2:\n",
    "  do something else\n",
    "else:\n",
    "  all other cases\n",
    "```\n",
    "Don't forget indentation! For the **condition**, You can use any of the comparison operators introduced earlier."
   ]
  },
  {
   "cell_type": "code",
   "execution_count": 25,
   "metadata": {
    "collapsed": false,
    "slideshow": {
     "slide_type": "fragment"
    }
   },
   "outputs": [
    {
     "name": "stdout",
     "output_type": "stream",
     "text": [
      "positive\n"
     ]
    }
   ],
   "source": [
    "a = 1\n",
    "if a < 0.0:\n",
    "    print ('negative')\n",
    "elif a > 0.0:\n",
    "    print ('positive')\n",
    "else:\n",
    "    print('neither negative nor positive')"
   ]
  },
  {
   "cell_type": "markdown",
   "metadata": {
    "slideshow": {
     "slide_type": "slide"
    }
   },
   "source": [
    "## Loops\n",
    "Loops are cool."
   ]
  },
  {
   "cell_type": "markdown",
   "metadata": {
    "slideshow": {
     "slide_type": "slide"
    }
   },
   "source": [
    "### While Loops"
   ]
  },
  {
   "cell_type": "markdown",
   "metadata": {
    "slideshow": {
     "slide_type": "fragment"
    }
   },
   "source": [
    "A While loop consists of the following:\n",
    "```python\n",
    "while condition:\n",
    "    block\n",
    "```"
   ]
  },
  {
   "cell_type": "code",
   "execution_count": 26,
   "metadata": {
    "collapsed": false,
    "slideshow": {
     "slide_type": "fragment"
    }
   },
   "outputs": [
    {
     "name": "stdout",
     "output_type": "stream",
     "text": [
      "n = 0\n",
      "n = 1\n",
      "n = 2\n"
     ]
    }
   ],
   "source": [
    "nMax = 3\n",
    "n = 0\n",
    "while n < nMax:\n",
    "    print ('n =', n)\n",
    "    n += 1"
   ]
  },
  {
   "cell_type": "markdown",
   "metadata": {
    "slideshow": {
     "slide_type": "slide"
    }
   },
   "source": [
    "Sometimes, you need to do something special if the condition of the while loop is not satisfied. You can use an else statement in that case:\n",
    "```python\n",
    "while condition:\n",
    "    block\n",
    "else:\n",
    "    block\n",
    "```"
   ]
  },
  {
   "cell_type": "markdown",
   "metadata": {
    "slideshow": {
     "slide_type": "slide"
    }
   },
   "source": [
    "### For Loops"
   ]
  },
  {
   "cell_type": "markdown",
   "metadata": {
    "slideshow": {
     "slide_type": "fragment"
    }
   },
   "source": [
    "One of the greatest features of python is that almost everything is iterable! If you have a collection of things, you can simply use a for loop to go through the list: \n",
    "\n",
    "```python \n",
    "for item in sequence:\n",
    "    block\n",
    "```"
   ]
  },
  {
   "cell_type": "code",
   "execution_count": 27,
   "metadata": {
    "collapsed": false,
    "slideshow": {
     "slide_type": "fragment"
    }
   },
   "outputs": [
    {
     "name": "stdout",
     "output_type": "stream",
     "text": [
      "1\n",
      "4\n",
      "5\n",
      "6\n",
      "7\n"
     ]
    }
   ],
   "source": [
    "a = [1,4,5,6,7]\n",
    "for val in a: # iterate or loop through the items in a\n",
    "    print(val)"
   ]
  },
  {
   "cell_type": "markdown",
   "metadata": {
    "slideshow": {
     "slide_type": "slide"
    }
   },
   "source": [
    "The other way to do this is to loop through a range using the <code>range</code> function:"
   ]
  },
  {
   "cell_type": "code",
   "execution_count": 28,
   "metadata": {
    "collapsed": false,
    "slideshow": {
     "slide_type": "fragment"
    }
   },
   "outputs": [
    {
     "name": "stdout",
     "output_type": "stream",
     "text": [
      "i a[i]\n",
      "------\n",
      "0   1\n",
      "1   4\n",
      "2   5\n"
     ]
    }
   ],
   "source": [
    "print('i a[i]')\n",
    "print('------')\n",
    "for i in range(0,3):\n",
    "    print (i,' ', a[i])"
   ]
  },
  {
   "cell_type": "markdown",
   "metadata": {
    "slideshow": {
     "slide_type": "fragment"
    }
   },
   "source": [
    "The `range` function returns a sequence of numbers: \n",
    "\n",
    "```python\n",
    "range(nMin, nMax) = [nMin, nMin + 1, nMin + 2, ..., nMax -1]\n",
    "```"
   ]
  },
  {
   "cell_type": "markdown",
   "metadata": {
    "slideshow": {
     "slide_type": "slide"
    }
   },
   "source": [
    "As usual, you can <code>break</code> and <code>continue</code> for loops."
   ]
  },
  {
   "cell_type": "code",
   "execution_count": 29,
   "metadata": {
    "collapsed": false,
    "slideshow": {
     "slide_type": "fragment"
    }
   },
   "outputs": [
    {
     "name": "stdout",
     "output_type": "stream",
     "text": [
      "1\n",
      "3\n",
      "45\n",
      "found value - exiting loop.\n"
     ]
    }
   ],
   "source": [
    "# example of breaking a for loop\n",
    "seq = [1,3,45,2,4]\n",
    "for val in seq:\n",
    "    if (val == 2):\n",
    "        print('found value - exiting loop.')\n",
    "        break\n",
    "    print(val)\n",
    "        "
   ]
  },
  {
   "cell_type": "code",
   "execution_count": 30,
   "metadata": {
    "collapsed": false,
    "slideshow": {
     "slide_type": "fragment"
    }
   },
   "outputs": [
    {
     "name": "stdout",
     "output_type": "stream",
     "text": [
      "[7, 14, 21, 28, 35, 42, 49, 56, 63, 70, 77, 84, 91, 98]\n"
     ]
    }
   ],
   "source": [
    "# example of continue in a for loop\n",
    "x = []                   # Create an empty list\n",
    "for i in range(1,100):\n",
    "  if i%7 != 0: continue  # If not divisible by 7, skip rest of loop\n",
    "  x.append(i)            # Append i to the list\n",
    "print(x)"
   ]
  },
  {
   "cell_type": "markdown",
   "metadata": {
    "slideshow": {
     "slide_type": "slide"
    }
   },
   "source": [
    "# Functions"
   ]
  },
  {
   "cell_type": "markdown",
   "metadata": {
    "slideshow": {
     "slide_type": "fragment"
    }
   },
   "source": [
    "Functions in Python are defined using the following convention:\n",
    "```python\n",
    "def function(arg1, arg2, ...):\n",
    "    statements\n",
    "    return return_values\n",
    "```\n",
    "where `arg1, arg2, ...` are the function arguments. Arguments can be any Python objects and even other functions. They can be given defaults values which makes using the argument optional."
   ]
  },
  {
   "cell_type": "markdown",
   "metadata": {
    "slideshow": {
     "slide_type": "slide"
    }
   },
   "source": [
    "Let's now define a function that computes first and second derivatives of any differentiable function. Here's what our function looks like:"
   ]
  },
  {
   "cell_type": "code",
   "execution_count": 31,
   "metadata": {
    "collapsed": false,
    "slideshow": {
     "slide_type": "fragment"
    }
   },
   "outputs": [],
   "source": [
    "def derivatives(f,x,h=0.0001):  # h has a default value, \n",
    "    df =(f(x+h) - f(x-h))/(2.0*h) # compute first dervative\n",
    "    ddf =(f(x+h) - 2.0*f(x) + f(x-h))/h**2 # compute second derivative\n",
    "    return df,ddf # return first & second derivatives"
   ]
  },
  {
   "cell_type": "markdown",
   "metadata": {
    "slideshow": {
     "slide_type": "fragment"
    }
   },
   "source": [
    "Let's now call `derivatives` on the inverse tangent function (`atan`)"
   ]
  },
  {
   "cell_type": "code",
   "execution_count": 32,
   "metadata": {
    "collapsed": false,
    "slideshow": {
     "slide_type": "fragment"
    }
   },
   "outputs": [
    {
     "name": "stdout",
     "output_type": "stream",
     "text": [
      "0.3717472125930321 -0.3593095820875192\n"
     ]
    }
   ],
   "source": [
    "from math import atan # we need to import atan from the math module - you'll learn this later\n",
    "df, ddf = derivatives(atan, 1.3) # call the derivatives function on atan at the point x = 1.3\n",
    "print(df,ddf) # print the results"
   ]
  },
  {
   "cell_type": "markdown",
   "metadata": {
    "slideshow": {
     "slide_type": "slide"
    }
   },
   "source": [
    "Functions can be defined inline in a python file (just like we did here), or, they can be placed in **`modules`**."
   ]
  },
  {
   "cell_type": "markdown",
   "metadata": {
    "slideshow": {
     "slide_type": "slide"
    }
   },
   "source": [
    "# Modules"
   ]
  },
  {
   "cell_type": "markdown",
   "metadata": {
    "slideshow": {
     "slide_type": "fragment"
    }
   },
   "source": [
    "Modules consist of a collection of functions and placed together in a module for convenience. Functions in a module can be accessed by *importing* them from the module\n",
    "```python\n",
    "from module_name import function\n",
    "```"
   ]
  },
  {
   "cell_type": "markdown",
   "metadata": {
    "slideshow": {
     "slide_type": "fragment"
    }
   },
   "source": [
    "Modules are simply Python files (.py). The module name is the same as the filename."
   ]
  },
  {
   "cell_type": "markdown",
   "metadata": {
    "slideshow": {
     "slide_type": "slide"
    }
   },
   "source": [
    "## Accessing Functions in a Module"
   ]
  },
  {
   "cell_type": "markdown",
   "metadata": {
    "slideshow": {
     "slide_type": "fragment"
    }
   },
   "source": [
    "There are three ways to access functions in a module:"
   ]
  },
  {
   "cell_type": "markdown",
   "metadata": {
    "slideshow": {
     "slide_type": "fragment"
    }
   },
   "source": [
    "```python \n",
    "from module_name import *```\n",
    "Which loas ALL functions in the module. While this is certainly allowed, it is (1) wasteful since Python will load all functions definitions into memory, and (2) it can lead to ambiguity if other modules have similar function defitions. For example, the `sine` function is defined in the modules: `math`, `cmath`, and `numpy`."
   ]
  },
  {
   "cell_type": "code",
   "execution_count": 33,
   "metadata": {
    "collapsed": false,
    "slideshow": {
     "slide_type": "fragment"
    }
   },
   "outputs": [
    {
     "name": "stdout",
     "output_type": "stream",
     "text": [
      "1.1051709180756477\n"
     ]
    }
   ],
   "source": [
    "from math import *\n",
    "print(exp(0.1))"
   ]
  },
  {
   "cell_type": "markdown",
   "metadata": {
    "slideshow": {
     "slide_type": "slide"
    }
   },
   "source": [
    "```python\n",
    "from module_name import function1, function2,...\n",
    "```\n",
    "Imports only the specified functions from the module. This is certainly safer but may lead to conflicts if you're not careful"
   ]
  },
  {
   "cell_type": "code",
   "execution_count": 34,
   "metadata": {
    "collapsed": false,
    "slideshow": {
     "slide_type": "fragment"
    }
   },
   "outputs": [
    {
     "name": "stdout",
     "output_type": "stream",
     "text": [
      "-0.5306054094646787\n"
     ]
    }
   ],
   "source": [
    "from math import exp, log, sinh\n",
    "x = 0.23\n",
    "print(exp(x**2) + log(x) - sinh(x/2))"
   ]
  },
  {
   "cell_type": "markdown",
   "metadata": {
    "slideshow": {
     "slide_type": "slide"
    }
   },
   "source": [
    "```python\n",
    "import module_name\n",
    "```\n",
    "Imports the module which allows you to access function definitions in the module using: `module_name.function1` etc...\n",
    "This is by far the least ambiguous path."
   ]
  },
  {
   "cell_type": "markdown",
   "metadata": {
    "slideshow": {
     "slide_type": "fragment"
    }
   },
   "source": [
    "You can also nickname a module for easy access\n",
    "```python \n",
    "import module_name as m\n",
    "```\n",
    "Then, you'd access functions in `module_name` using: `m.function1`."
   ]
  },
  {
   "cell_type": "code",
   "execution_count": 35,
   "metadata": {
    "collapsed": false,
    "slideshow": {
     "slide_type": "fragment"
    }
   },
   "outputs": [
    {
     "data": {
      "text/plain": [
       "(-1+1.2246467991473532e-16j)"
      ]
     },
     "execution_count": 35,
     "metadata": {},
     "output_type": "execute_result"
    }
   ],
   "source": [
    "import cmath as cm # cmath library supports complex numbers\n",
    "π = cm.pi # define pi\n",
    "x = π*1j # complex number\n",
    "cm.exp(x) # e^(iπ) = -1"
   ]
  },
  {
   "cell_type": "markdown",
   "metadata": {
    "slideshow": {
     "slide_type": "slide"
    }
   },
   "source": [
    "The contents of a module can be listed using:\n",
    "```python \n",
    "dir(module_name)```"
   ]
  },
  {
   "cell_type": "code",
   "execution_count": 36,
   "metadata": {
    "collapsed": false,
    "slideshow": {
     "slide_type": "fragment"
    }
   },
   "outputs": [
    {
     "data": {
      "text/plain": [
       "['__doc__',\n",
       " '__file__',\n",
       " '__loader__',\n",
       " '__name__',\n",
       " '__package__',\n",
       " '__spec__',\n",
       " 'acos',\n",
       " 'acosh',\n",
       " 'asin',\n",
       " 'asinh',\n",
       " 'atan',\n",
       " 'atan2',\n",
       " 'atanh',\n",
       " 'ceil',\n",
       " 'copysign',\n",
       " 'cos',\n",
       " 'cosh',\n",
       " 'degrees',\n",
       " 'e',\n",
       " 'erf',\n",
       " 'erfc',\n",
       " 'exp',\n",
       " 'expm1',\n",
       " 'fabs',\n",
       " 'factorial',\n",
       " 'floor',\n",
       " 'fmod',\n",
       " 'frexp',\n",
       " 'fsum',\n",
       " 'gamma',\n",
       " 'gcd',\n",
       " 'hypot',\n",
       " 'inf',\n",
       " 'isclose',\n",
       " 'isfinite',\n",
       " 'isinf',\n",
       " 'isnan',\n",
       " 'ldexp',\n",
       " 'lgamma',\n",
       " 'log',\n",
       " 'log10',\n",
       " 'log1p',\n",
       " 'log2',\n",
       " 'modf',\n",
       " 'nan',\n",
       " 'pi',\n",
       " 'pow',\n",
       " 'radians',\n",
       " 'sin',\n",
       " 'sinh',\n",
       " 'sqrt',\n",
       " 'tan',\n",
       " 'tanh',\n",
       " 'tau',\n",
       " 'trunc']"
      ]
     },
     "execution_count": 36,
     "metadata": {},
     "output_type": "execute_result"
    }
   ],
   "source": [
    "import math\n",
    "dir(math)"
   ]
  },
  {
   "cell_type": "markdown",
   "metadata": {
    "slideshow": {
     "slide_type": "slide"
    }
   },
   "source": [
    "Another module that you may find useful is the `cmath` module. It supports the same functions as the `math` module but allows the use of complex numbers for function arguments."
   ]
  },
  {
   "cell_type": "code",
   "execution_count": 37,
   "metadata": {
    "collapsed": false,
    "slideshow": {
     "slide_type": "fragment"
    }
   },
   "outputs": [
    {
     "data": {
      "text/plain": [
       "['__doc__',\n",
       " '__file__',\n",
       " '__loader__',\n",
       " '__name__',\n",
       " '__package__',\n",
       " '__spec__',\n",
       " 'acos',\n",
       " 'acosh',\n",
       " 'asin',\n",
       " 'asinh',\n",
       " 'atan',\n",
       " 'atanh',\n",
       " 'cos',\n",
       " 'cosh',\n",
       " 'e',\n",
       " 'exp',\n",
       " 'inf',\n",
       " 'infj',\n",
       " 'isclose',\n",
       " 'isfinite',\n",
       " 'isinf',\n",
       " 'isnan',\n",
       " 'log',\n",
       " 'log10',\n",
       " 'nan',\n",
       " 'nanj',\n",
       " 'phase',\n",
       " 'pi',\n",
       " 'polar',\n",
       " 'rect',\n",
       " 'sin',\n",
       " 'sinh',\n",
       " 'sqrt',\n",
       " 'tan',\n",
       " 'tanh',\n",
       " 'tau']"
      ]
     },
     "execution_count": 37,
     "metadata": {},
     "output_type": "execute_result"
    }
   ],
   "source": [
    "import cmath\n",
    "dir(cmath)"
   ]
  },
  {
   "cell_type": "markdown",
   "metadata": {
    "slideshow": {
     "slide_type": "slide"
    }
   },
   "source": [
    "# The Almighty numpy"
   ]
  },
  {
   "cell_type": "markdown",
   "metadata": {
    "slideshow": {
     "slide_type": "fragment"
    }
   },
   "source": [
    "Numpy is one of the most famous python libraries for scientific computing. `num` stands for numerical and `py` stands for python (yeah, Python programmers are obsessed with using `py` in naming their projects). Numpy is the standard library for numerical computing with python. It provides powerful array functionality that beats python lists. Let's look at some numpy features."
   ]
  },
  {
   "cell_type": "markdown",
   "metadata": {
    "slideshow": {
     "slide_type": "slide"
    }
   },
   "source": [
    "## Numpy Arrays"
   ]
  },
  {
   "cell_type": "markdown",
   "metadata": {
    "slideshow": {
     "slide_type": "fragment"
    }
   },
   "source": [
    "Numpy arrays are similar to Python lists but can be manipulated in fantastic ways by other functions in the numpy library. They are by far the standard in python-based scientific computing. See [here for more details](https://docs.scipy.org/doc/numpy/reference/generated/numpy.array.html)."
   ]
  },
  {
   "cell_type": "markdown",
   "metadata": {
    "slideshow": {
     "slide_type": "slide"
    }
   },
   "source": [
    "A numpy array can be created several ways. It can be created from a list"
   ]
  },
  {
   "cell_type": "code",
   "execution_count": 38,
   "metadata": {
    "collapsed": false,
    "slideshow": {
     "slide_type": "fragment"
    }
   },
   "outputs": [
    {
     "name": "stdout",
     "output_type": "stream",
     "text": [
      "[[2 4]\n",
      " [2 3]]\n"
     ]
    }
   ],
   "source": [
    "import numpy as np  # don't forget to import numpy\n",
    "myList = [[2,4],[2,3]] #\n",
    "a = np.array(myList)\n",
    "print(a)"
   ]
  },
  {
   "cell_type": "markdown",
   "metadata": {
    "slideshow": {
     "slide_type": "fragment"
    }
   },
   "source": [
    "It can also be created from a tuple"
   ]
  },
  {
   "cell_type": "code",
   "execution_count": 39,
   "metadata": {
    "collapsed": false,
    "slideshow": {
     "slide_type": "fragment"
    }
   },
   "outputs": [
    {
     "name": "stdout",
     "output_type": "stream",
     "text": [
      "[1 2 3]\n"
     ]
    }
   ],
   "source": [
    "myTuple = (1,2,3)\n",
    "a = np.array(myTuple)\n",
    "print(a)"
   ]
  },
  {
   "cell_type": "markdown",
   "metadata": {
    "collapsed": true,
    "slideshow": {
     "slide_type": "slide"
    }
   },
   "source": [
    "You can initialize empty numpy arrays:"
   ]
  },
  {
   "cell_type": "code",
   "execution_count": 40,
   "metadata": {
    "collapsed": false,
    "slideshow": {
     "slide_type": "fragment"
    }
   },
   "outputs": [
    {
     "name": "stdout",
     "output_type": "stream",
     "text": [
      "[[  9.88131292e-324   1.97626258e-323]\n",
      " [  9.88131292e-324   1.48219694e-323]]\n"
     ]
    }
   ],
   "source": [
    "a = np.empty((2,2)) # 2x2 array\n",
    "print(a)"
   ]
  },
  {
   "cell_type": "markdown",
   "metadata": {
    "slideshow": {
     "slide_type": "fragment"
    }
   },
   "source": [
    "You can also create arrays of zeros or ones:"
   ]
  },
  {
   "cell_type": "code",
   "execution_count": 41,
   "metadata": {
    "collapsed": false,
    "slideshow": {
     "slide_type": "fragment"
    }
   },
   "outputs": [
    {
     "name": "stdout",
     "output_type": "stream",
     "text": [
      "[[ 0.  0.  0.]\n",
      " [ 0.  0.  0.]\n",
      " [ 0.  0.  0.]]\n",
      "[[ 1.  1.]\n",
      " [ 1.  1.]]\n"
     ]
    }
   ],
   "source": [
    "a = np.zeros((3,3))\n",
    "b = np.ones((2,2))\n",
    "print(a)\n",
    "print(b)"
   ]
  },
  {
   "cell_type": "markdown",
   "metadata": {
    "slideshow": {
     "slide_type": "slide"
    }
   },
   "source": [
    "One useful numpy function is `arange`. It works like the standard `range` function, but returns an array instead of a sequence. It looks like this:\n",
    "```python\n",
    "arange(start, stop, step)\n",
    "```"
   ]
  },
  {
   "cell_type": "code",
   "execution_count": 42,
   "metadata": {
    "collapsed": false,
    "slideshow": {
     "slide_type": "fragment"
    }
   },
   "outputs": [
    {
     "name": "stdout",
     "output_type": "stream",
     "text": [
      "[0 3 6 9]\n"
     ]
    }
   ],
   "source": [
    "a = np.arange(0,10,3) # go from 0 to 10 in steps of 3\n",
    "print(a)"
   ]
  },
  {
   "cell_type": "code",
   "execution_count": 43,
   "metadata": {
    "collapsed": false,
    "slideshow": {
     "slide_type": "fragment"
    }
   },
   "outputs": [
    {
     "name": "stdout",
     "output_type": "stream",
     "text": [
      "-2\n",
      "0\n",
      "2\n"
     ]
    }
   ],
   "source": [
    "for i in np.arange(-2,3,2): # use arange to loop\n",
    "    print(i)"
   ]
  },
  {
   "cell_type": "markdown",
   "metadata": {
    "slideshow": {
     "slide_type": "slide"
    }
   },
   "source": [
    "Another useful numpy functionality is `linspace`. With `linspace`, you can create an array of equally spaced real numbers. This is particularly useful if you're defining a grid. Here's an example"
   ]
  },
  {
   "cell_type": "code",
   "execution_count": 44,
   "metadata": {
    "collapsed": false,
    "slideshow": {
     "slide_type": "fragment"
    }
   },
   "outputs": [
    {
     "name": "stdout",
     "output_type": "stream",
     "text": [
      "[-1.         -0.77777778 -0.55555556 -0.33333333 -0.11111111  0.11111111\n",
      "  0.33333333  0.55555556  0.77777778  1.        ]\n"
     ]
    }
   ],
   "source": [
    "x = np.linspace(-1,1,10)\n",
    "print(x)"
   ]
  },
  {
   "cell_type": "markdown",
   "metadata": {
    "slideshow": {
     "slide_type": "slide"
    }
   },
   "source": [
    "you can use linspace to compute (and plot) a function"
   ]
  },
  {
   "cell_type": "code",
   "execution_count": 17,
   "metadata": {
    "collapsed": false,
    "slideshow": {
     "slide_type": "fragment"
    }
   },
   "outputs": [
    {
     "data": {
      "text/plain": [
       "[<matplotlib.lines.Line2D at 0x11b7dc630>]"
      ]
     },
     "execution_count": 17,
     "metadata": {},
     "output_type": "execute_result"
    },
    {
     "data": {
      "image/png": "[encoded data removed]",
      "text/plain": [
       "<matplotlib.figure.Figure at 0x11b86cc18>"
      ]
     },
     "metadata": {},
     "output_type": "display_data"
    }
   ],
   "source": [
    "%matplotlib inline \n",
    "import matplotlib.pyplot as plt # you will learn this later\n",
    "import numpy as np\n",
    "x = np.linspace(-1,1,100)\n",
    "y = np.exp(-x**2/0.1)\n",
    "plt.plot(x,y)"
   ]
  },
  {
   "cell_type": "markdown",
   "metadata": {
    "slideshow": {
     "slide_type": "slide"
    }
   },
   "source": [
    "### Accessing Numpy Arrays"
   ]
  },
  {
   "cell_type": "markdown",
   "metadata": {
    "slideshow": {
     "slide_type": "fragment"
    }
   },
   "source": [
    "Numpy arrays can be accessed using the bracket operator and are indexed by row and column (by default). If a is an `nxn` array, then `a[i,j]` refers to row `i` and column `j`. "
   ]
  },
  {
   "cell_type": "code",
   "execution_count": 45,
   "metadata": {
    "collapsed": false,
    "slideshow": {
     "slide_type": "fragment"
    }
   },
   "outputs": [
    {
     "name": "stdout",
     "output_type": "stream",
     "text": [
      "[[ 0.  0.]\n",
      " [ 0.  0.]]\n",
      "[[  0.  33.]\n",
      " [  0.   0.]]\n"
     ]
    }
   ],
   "source": [
    "a = np.zeros((2,2)) # create a 2x2 array of zeros\n",
    "print(a)\n",
    "a[0,1] = 33 # change element a[0,1]\n",
    "print(a)"
   ]
  },
  {
   "cell_type": "markdown",
   "metadata": {
    "slideshow": {
     "slide_type": "slide"
    }
   },
   "source": [
    "On the other hand, `a[i]` refers to the *entire* ith row"
   ]
  },
  {
   "cell_type": "code",
   "execution_count": 46,
   "metadata": {
    "collapsed": false,
    "slideshow": {
     "slide_type": "fragment"
    }
   },
   "outputs": [
    {
     "name": "stdout",
     "output_type": "stream",
     "text": [
      "[[ 1.  2.]\n",
      " [ 3.  4.]]\n"
     ]
    }
   ],
   "source": [
    "a = np.zeros((2,2)) # create a 2x2 array of zeros\n",
    "a[0] = [1,2]\n",
    "a[1] = [3,4]\n",
    "print(a)"
   ]
  },
  {
   "cell_type": "markdown",
   "metadata": {
    "slideshow": {
     "slide_type": "fragment"
    }
   },
   "source": [
    "and `a[:,j]` refers to the *entire* jth column."
   ]
  },
  {
   "cell_type": "code",
   "execution_count": 47,
   "metadata": {
    "collapsed": false,
    "slideshow": {
     "slide_type": "fragment"
    }
   },
   "outputs": [
    {
     "name": "stdout",
     "output_type": "stream",
     "text": [
      "[[ 1.  2.]\n",
      " [ 3.  4.]]\n"
     ]
    }
   ],
   "source": [
    "a = np.zeros((2,2)) # create a 2x2 array of zeros\n",
    "a[:,0] = [1,3]\n",
    "a[:,1] = [2,4]\n",
    "print(a)"
   ]
  },
  {
   "cell_type": "markdown",
   "metadata": {
    "slideshow": {
     "slide_type": "slide"
    }
   },
   "source": [
    "The colon in `a[:,0]` allows you to select a subset of an array. In general is works as: `i:j` will return the subset array consisting of the elements `a[i]` to `a[j-1]`"
   ]
  },
  {
   "cell_type": "code",
   "execution_count": 48,
   "metadata": {
    "collapsed": false,
    "slideshow": {
     "slide_type": "fragment"
    }
   },
   "outputs": [
    {
     "name": "stdout",
     "output_type": "stream",
     "text": [
      "[1 2 3 4 5 6 7 8 9]\n",
      "[2 3 4]\n"
     ]
    }
   ],
   "source": [
    "a = np.arange(1,10)\n",
    "print(a)\n",
    "print(a[1:4]) # return the subset array a[1] to a[3]"
   ]
  },
  {
   "cell_type": "markdown",
   "metadata": {
    "slideshow": {
     "slide_type": "fragment"
    }
   },
   "source": [
    "If no numbers are provided around the colon (i.e. `a[:]`), then the entire range is returned"
   ]
  },
  {
   "cell_type": "code",
   "execution_count": 49,
   "metadata": {
    "collapsed": false,
    "slideshow": {
     "slide_type": "fragment"
    }
   },
   "outputs": [
    {
     "name": "stdout",
     "output_type": "stream",
     "text": [
      "[1 2 3 4 5 6 7 8 9]\n"
     ]
    }
   ],
   "source": [
    "a = np.arange(1,10)\n",
    "print(a[:])"
   ]
  },
  {
   "cell_type": "markdown",
   "metadata": {
    "slideshow": {
     "slide_type": "slide"
    }
   },
   "source": [
    "Here's a more complex example of you can slide through a 4x4 matrix"
   ]
  },
  {
   "cell_type": "code",
   "execution_count": 50,
   "metadata": {
    "collapsed": false,
    "slideshow": {
     "slide_type": "fragment"
    }
   },
   "outputs": [
    {
     "name": "stdout",
     "output_type": "stream",
     "text": [
      "[[ 0.  0.  0.  0.]\n",
      " [ 0.  0.  0.  0.]\n",
      " [ 0.  0.  0.  0.]\n",
      " [ 0.  0.  0.  0.]]\n"
     ]
    }
   ],
   "source": [
    "a = np.zeros((4,4)) # create an array of zeros\n",
    "print(a)"
   ]
  },
  {
   "cell_type": "code",
   "execution_count": 51,
   "metadata": {
    "collapsed": false,
    "slideshow": {
     "slide_type": "fragment"
    }
   },
   "outputs": [
    {
     "name": "stdout",
     "output_type": "stream",
     "text": [
      "[[ 0.    0.    0.    0.  ]\n",
      " [ 0.    1.11  2.22  0.  ]\n",
      " [ 0.    0.    0.    0.  ]\n",
      " [ 0.    0.    0.    0.  ]]\n"
     ]
    }
   ],
   "source": [
    "# now change row 1, columns 1,2\n",
    "a[1,1:3] = [1.11,2.22]\n",
    "print(a)"
   ]
  },
  {
   "cell_type": "code",
   "execution_count": 52,
   "metadata": {
    "collapsed": false,
    "slideshow": {
     "slide_type": "fragment"
    }
   },
   "outputs": [
    {
     "name": "stdout",
     "output_type": "stream",
     "text": [
      "[[ 0.    0.    0.    0.  ]\n",
      " [ 0.    1.11  2.22  0.  ]\n",
      " [ 0.    0.    0.    3.33]\n",
      " [ 0.    0.    0.    4.44]]\n"
     ]
    }
   ],
   "source": [
    "#now change column 3, rows 2,3\n",
    "a[2:4,3]=[3.33,4.44]\n",
    "print(a)"
   ]
  },
  {
   "cell_type": "markdown",
   "metadata": {
    "slideshow": {
     "slide_type": "slide"
    }
   },
   "source": [
    "### Operations on Numpy Arrays"
   ]
  },
  {
   "cell_type": "markdown",
   "metadata": {
    "slideshow": {
     "slide_type": "fragment"
    }
   },
   "source": [
    "You can operate on arrays using standard mathematical operators as long as the array sizes are consistent with the operation being carried out. All operations are carried out element-wise - that is, applied to each element at a time."
   ]
  },
  {
   "cell_type": "code",
   "execution_count": 53,
   "metadata": {
    "collapsed": false,
    "slideshow": {
     "slide_type": "fragment"
    }
   },
   "outputs": [
    {
     "data": {
      "text/plain": [
       "array([  0,  11,  24,  39,  56,  75,  96, 119, 144, 171])"
      ]
     },
     "execution_count": 53,
     "metadata": {},
     "output_type": "execute_result"
    }
   ],
   "source": [
    "a = np.arange(0,10) #[0,1,2,...,9]\n",
    "b = np.arange(10,20) #[10,11,...,19]\n",
    "a*b"
   ]
  },
  {
   "cell_type": "markdown",
   "metadata": {
    "slideshow": {
     "slide_type": "slide"
    }
   },
   "source": [
    "Mathematical functions provided by numpy will operate on numpy arrays element-wise"
   ]
  },
  {
   "cell_type": "code",
   "execution_count": 54,
   "metadata": {
    "collapsed": false,
    "slideshow": {
     "slide_type": "fragment"
    }
   },
   "outputs": [
    {
     "data": {
      "text/plain": [
       "array([ 0.        ,  1.        ,  1.41421356,  1.73205081,  2.        ,\n",
       "        2.23606798,  2.44948974,  2.64575131,  2.82842712,  3.        ])"
      ]
     },
     "execution_count": 54,
     "metadata": {},
     "output_type": "execute_result"
    }
   ],
   "source": [
    "a = np.arange(0,10) #[0,1,2,...,9]\n",
    "np.sqrt(a) # use sqrt provided by numpy"
   ]
  },
  {
   "cell_type": "markdown",
   "metadata": {
    "slideshow": {
     "slide_type": "fragment"
    }
   },
   "source": [
    "However, functions provided by other modules, such as the math module, are not guaranteed to work with numpy arrays"
   ]
  },
  {
   "cell_type": "code",
   "execution_count": 55,
   "metadata": {
    "collapsed": false,
    "slideshow": {
     "slide_type": "fragment"
    }
   },
   "outputs": [
    {
     "ename": "TypeError",
     "evalue": "only length-1 arrays can be converted to Python scalars",
     "output_type": "error",
     "traceback": [
      "\u001b[0;31m---------------------------------------------------------------------------\u001b[0m",
      "\u001b[0;31mTypeError\u001b[0m                                 Traceback (most recent call last)",
      "\u001b[0;32m<ipython-input-55-da0c9d68ee80>\u001b[0m in \u001b[0;36m<module>\u001b[0;34m()\u001b[0m\n\u001b[1;32m      1\u001b[0m \u001b[0;32mimport\u001b[0m \u001b[0mmath\u001b[0m\u001b[0;34m\u001b[0m\u001b[0m\n\u001b[1;32m      2\u001b[0m \u001b[0ma\u001b[0m \u001b[0;34m=\u001b[0m \u001b[0mnp\u001b[0m\u001b[0;34m.\u001b[0m\u001b[0marange\u001b[0m\u001b[0;34m(\u001b[0m\u001b[0;36m0\u001b[0m\u001b[0;34m,\u001b[0m\u001b[0;36m10\u001b[0m\u001b[0;34m)\u001b[0m \u001b[0;31m#[0,1,2,...,9]\u001b[0m\u001b[0;34m\u001b[0m\u001b[0m\n\u001b[0;32m----> 3\u001b[0;31m \u001b[0mmath\u001b[0m\u001b[0;34m.\u001b[0m\u001b[0msqrt\u001b[0m\u001b[0;34m(\u001b[0m\u001b[0ma\u001b[0m\u001b[0;34m)\u001b[0m\u001b[0;34m\u001b[0m\u001b[0m\n\u001b[0m",
      "\u001b[0;31mTypeError\u001b[0m: only length-1 arrays can be converted to Python scalars"
     ]
    }
   ],
   "source": [
    "import math\n",
    "a = np.arange(0,10) #[0,1,2,...,9]\n",
    "math.sqrt(a)"
   ]
  },
  {
   "cell_type": "markdown",
   "metadata": {
    "slideshow": {
     "slide_type": "fragment"
    }
   },
   "source": [
    "In this case, the functions provided by the math module will work on one element at a time.\n",
    "```python\n",
    "math.sqrt(a[3])\n",
    "```"
   ]
  },
  {
   "cell_type": "markdown",
   "metadata": {
    "slideshow": {
     "slide_type": "slide"
    }
   },
   "source": [
    "#### Diagonal"
   ]
  },
  {
   "cell_type": "code",
   "execution_count": 56,
   "metadata": {
    "collapsed": false,
    "slideshow": {
     "slide_type": "fragment"
    }
   },
   "outputs": [
    {
     "name": "stdout",
     "output_type": "stream",
     "text": [
      "main diagonal =  [4 4 3]\n",
      "lower diagonal =  [-2 -2]\n",
      "upper diagonal =  [-2 -2]\n"
     ]
    }
   ],
   "source": [
    "import numpy as np\n",
    "A = np.array([[4,-2,1],\n",
    "              [-2,4,-2],\n",
    "              [1,-2,3]])\n",
    "d = np.diagonal(A) # main diagonal\n",
    "ud = np.diagonal(A,1) # first upper diagonal\n",
    "ld = np.diagonal(A,-1) # first lower diagonal\n",
    "print('main diagonal = ', d)\n",
    "print('lower diagonal = ', ld)\n",
    "print('upper diagonal = ', ud)"
   ]
  },
  {
   "cell_type": "markdown",
   "metadata": {
    "slideshow": {
     "slide_type": "slide"
    }
   },
   "source": [
    "you can also take the trace"
   ]
  },
  {
   "cell_type": "code",
   "execution_count": 57,
   "metadata": {
    "collapsed": false,
    "slideshow": {
     "slide_type": "fragment"
    }
   },
   "outputs": [
    {
     "name": "stdout",
     "output_type": "stream",
     "text": [
      "11\n"
     ]
    }
   ],
   "source": [
    "tr = np.trace(A)\n",
    "print(tr)"
   ]
  },
  {
   "cell_type": "markdown",
   "metadata": {
    "slideshow": {
     "slide_type": "fragment"
    }
   },
   "source": [
    "you can create an identity matrix"
   ]
  },
  {
   "cell_type": "code",
   "execution_count": 58,
   "metadata": {
    "collapsed": false,
    "slideshow": {
     "slide_type": "fragment"
    }
   },
   "outputs": [
    {
     "name": "stdout",
     "output_type": "stream",
     "text": [
      "[[ 1.  0.  0.]\n",
      " [ 0.  1.  0.]\n",
      " [ 0.  0.  1.]]\n"
     ]
    }
   ],
   "source": [
    "idm = np.identity(3)\n",
    "print(idm)"
   ]
  },
  {
   "cell_type": "markdown",
   "metadata": {
    "slideshow": {
     "slide_type": "slide"
    }
   },
   "source": [
    "#### Dot Product"
   ]
  },
  {
   "cell_type": "code",
   "execution_count": 59,
   "metadata": {
    "collapsed": false,
    "slideshow": {
     "slide_type": "fragment"
    }
   },
   "outputs": [
    {
     "name": "stdout",
     "output_type": "stream",
     "text": [
      "dot(x,y) =\n",
      " 17\n",
      "dot(A,x) =\n",
      " [13 27]\n",
      "dot(A,B) =\n",
      " [[5 5]\n",
      " [7 7]]\n"
     ]
    }
   ],
   "source": [
    "from numpy import *\n",
    "x = array([7,3])\n",
    "y = array([2,1])\n",
    "A = array([[1,2],[3,2]])\n",
    "B = array([[1,1],[2,2]])\n",
    "\n",
    "# Dot product\n",
    "print(\"dot(x,y) =\\n\",dot(x,y)) # {x}.{y}\n",
    "print(\"dot(A,x) =\\n\",dot(A,x)) # [A]{x}\n",
    "print(\"dot(A,B) =\\n\",dot(A,B)) # [A][B]"
   ]
  },
  {
   "cell_type": "markdown",
   "metadata": {
    "slideshow": {
     "slide_type": "slide"
    }
   },
   "source": [
    "There's a shorter way of computing dot products. Instead of using `dot(x,y)`, you can use `x@y`"
   ]
  },
  {
   "cell_type": "code",
   "execution_count": 64,
   "metadata": {
    "collapsed": false,
    "slideshow": {
     "slide_type": "fragment"
    }
   },
   "outputs": [
    {
     "name": "stdout",
     "output_type": "stream",
     "text": [
      "x@y =\n",
      " 17\n",
      "A@x =\n",
      " [13 27]\n",
      "A@B =\n",
      " [[5 5]\n",
      " [7 7]]\n"
     ]
    }
   ],
   "source": [
    "from numpy import *\n",
    "x = array([7,3])\n",
    "y = array([2,1])\n",
    "A = array([[1,2],[3,2]])\n",
    "B = array([[1,1],[2,2]])\n",
    "\n",
    "# Dot product\n",
    "print(\"x@y =\\n\",x@y) # {x}.{y}\n",
    "print(\"A@x =\\n\",A@x) # [A]{x}\n",
    "print(\"A@B =\\n\",A@B) # [A][B]"
   ]
  },
  {
   "cell_type": "markdown",
   "metadata": {
    "slideshow": {
     "slide_type": "fragment"
    }
   },
   "source": [
    "This depends on your having Python3 installed. Try it, and if it works, then you're likely using python3."
   ]
  },
  {
   "cell_type": "markdown",
   "metadata": {
    "slideshow": {
     "slide_type": "slide"
    }
   },
   "source": [
    "#### Inner Product"
   ]
  },
  {
   "cell_type": "code",
   "execution_count": 60,
   "metadata": {
    "collapsed": false,
    "slideshow": {
     "slide_type": "fragment"
    }
   },
   "outputs": [
    {
     "name": "stdout",
     "output_type": "stream",
     "text": [
      "inner(x,y) =\n",
      " 17\n",
      "inner(A,x) =\n",
      " [13 27]\n",
      "inner(A,B) =\n",
      " [[ 3  6]\n",
      " [ 5 10]]\n"
     ]
    }
   ],
   "source": [
    "from numpy import *\n",
    "x = array([7,3])\n",
    "y = array([2,1])\n",
    "A = array([[1,2],[3,2]])\n",
    "B = array([[1,1],[2,2]])\n",
    "\n",
    "# Inner product\n",
    "print(\"inner(x,y) =\\n\",inner(x,y))  # {x}.{y}\n",
    "print(\"inner(A,x) =\\n\",inner(A,x))  # [A]{x}\n",
    "print(\"inner(A,B) =\\n\",inner(A,B))  # [A][B_transpose]"
   ]
  },
  {
   "cell_type": "markdown",
   "metadata": {
    "slideshow": {
     "slide_type": "slide"
    }
   },
   "source": [
    "#### Outer Product"
   ]
  },
  {
   "cell_type": "code",
   "execution_count": 61,
   "metadata": {
    "collapsed": false,
    "slideshow": {
     "slide_type": "fragment"
    }
   },
   "outputs": [
    {
     "name": "stdout",
     "output_type": "stream",
     "text": [
      "outer(x,y) =\n",
      " [[14  7]\n",
      " [ 6  3]]\n",
      "outer(A,x) =\n",
      " [[ 7  3]\n",
      " [14  6]\n",
      " [21  9]\n",
      " [14  6]]\n",
      "outer(A,B) =\n",
      " [[1 1 2 2]\n",
      " [2 2 4 4]\n",
      " [3 3 6 6]\n",
      " [2 2 4 4]]\n"
     ]
    }
   ],
   "source": [
    "from numpy import *\n",
    "x = array([7,3])\n",
    "y = array([2,1])\n",
    "A = array([[1,2],[3,2]])\n",
    "B = array([[1,1],[2,2]])\n",
    "\n",
    "# Outer product\n",
    "print(\"outer(x,y) =\\n\",outer(x,y))\n",
    "print(\"outer(A,x) =\\n\",outer(A,x))\n",
    "print(\"outer(A,B) =\\n\",outer(A,B))"
   ]
  },
  {
   "cell_type": "markdown",
   "metadata": {
    "slideshow": {
     "slide_type": "slide"
    }
   },
   "source": [
    "### Linear Algebra"
   ]
  },
  {
   "cell_type": "markdown",
   "metadata": {
    "slideshow": {
     "slide_type": "fragment"
    }
   },
   "source": [
    "Numpy ships with a linear algebra module named **`linalg`** that contains a collection of routines to aid in the solution and manipulation of systems of linear equations."
   ]
  },
  {
   "cell_type": "code",
   "execution_count": 62,
   "metadata": {
    "collapsed": false,
    "slideshow": {
     "slide_type": "fragment"
    }
   },
   "outputs": [
    {
     "name": "stdout",
     "output_type": "stream",
     "text": [
      "[ 1.   2.5  2. ]\n",
      "[ 1.   2.5  2. ]\n"
     ]
    }
   ],
   "source": [
    "from numpy import array, dot\n",
    "from numpy.linalg import inv,solve # import inverse and solve from linalg\n",
    "A = array([[ 4.0, -2.0,  1.0],\n",
    "           [-2.0,  4.0, -2.0],\n",
    "           [ 1.0, -2.0,  3.0]])\n",
    "b = array([1.0, 4.0, 2.0])\n",
    "Ainv = inv(A)\n",
    "\n",
    "x = solve(A,b) # use built in solve\n",
    "print(x)\n",
    "\n",
    "xInv = dot(Ainv,b) # use Ainv . b\n",
    "print(xInv)"
   ]
  }
 ],
 "metadata": {
  "celltoolbar": "Slideshow",
  "kernelspec": {
   "display_name": "Python [default]",
   "language": "python",
   "name": "python3"
  },
  "language_info": {
   "codemirror_mode": {
    "name": "ipython",
    "version": 3
   },
   "file_extension": ".py",
   "mimetype": "text/x-python",
   "name": "python",
   "nbconvert_exporter": "python",
   "pygments_lexer": "ipython3",
   "version": "3.6.0"
  },
  "toc": {
   "colors": {
    "hover_highlight": "#DAA520",
    "navigate_num": "#000000",
    "navigate_text": "#333333",
    "running_highlight": "#FF0000",
    "selected_highlight": "#FFD700",
    "sidebar_border": "#EEEEEE",
    "wrapper_background": "#FFFFFF"
   },
   "moveMenuLeft": true,
   "nav_menu": {
    "height": "405px",
    "width": "252px"
   },
   "navigate_menu": true,
   "number_sections": true,
   "sideBar": true,
   "threshold": 4,
   "toc_cell": false,
   "toc_position": {
    "height": "710px",
    "left": "0px",
    "right": "auto",
    "top": "106px",
    "width": "190px"
   },
   "toc_section_display": "none",
   "toc_window_display": true,
   "widenNotebook": false
  }
 },
 "nbformat": 4,
 "nbformat_minor": 2
}
