{
 "cells": [
  {
   "cell_type": "markdown",
   "metadata": {
    "slideshow": {
     "slide_type": "slide"
    }
   },
   "source": [
    "<img src=\"ChemE_logo.png\"/>\n",
    "\n",
    "# Python Crash Course for Everyone\n",
    "by Tony Saad <br/>\n",
    "Assistant Professor of Chemical Engineering <br/>\n",
    "University of Utah"
   ]
  },
  {
   "cell_type": "markdown",
   "metadata": {
    "slideshow": {
     "slide_type": "subslide"
    }
   },
   "source": [
    "This is a short introductory guide for Python. In my opinion, you don't need more than this guide to get started with Python. Once you get familiar with the syntax you can dig deeper on your own."
   ]
  },
  {
   "cell_type": "markdown",
   "metadata": {
    "slideshow": {
     "slide_type": "fragment"
    }
   },
   "source": [
    "In fact, my attitude towards programming consists of the following two steps:\n",
    "1. Articulate what you want to accomplish (e.g. `I need to sort this array`)\n",
    "2. google it! (e.g. `how to sort an array in Python?`)"
   ]
  },
  {
   "cell_type": "markdown",
   "metadata": {
    "slideshow": {
     "slide_type": "fragment"
    }
   },
   "source": [
    "As an engineer, programming languages are fundamental tools in my arsenal to tackle research problems. But they are only a means to an end. Therefore, I am happy to learn programming by mimicing what other professional programmers and software developers do. That's why google is your best friend."
   ]
  },
  {
   "cell_type": "markdown",
   "metadata": {
    "slideshow": {
     "slide_type": "fragment"
    }
   },
   "source": [
    "This short guide is largerly based on the introductory chapter of the book <a href=\"http://www.cambridge.org/us/academic/subjects/engineering/engineering-mathematics-and-programming/numerical-methods-engineering-python-3-3rd-edition?format=HB&isbn=9781107033856#pxBTbtZyd8sAQIUY.97\"> Numerical Methods in Engineering with Python 3 </a> by Jaan Kiusalaas."
   ]
  },
  {
   "cell_type": "markdown",
   "metadata": {
    "slideshow": {
     "slide_type": "slide"
    }
   },
   "source": [
    "# Introduction: Python is good for your health and sanity"
   ]
  },
  {
   "cell_type": "markdown",
   "metadata": {
    "slideshow": {
     "slide_type": "fragment"
    }
   },
   "source": [
    "Python is a modern programming language that is very easy to use and promotes productivity. It is centered on the classical programming language, C. "
   ]
  },
  {
   "cell_type": "markdown",
   "metadata": {
    "slideshow": {
     "slide_type": "fragment"
    }
   },
   "source": [
    "In an age of extreme technology and unsurpassed information exchange, it is unacceptable for a modern engineer to NOT know a programming language. Python stands among the easiest and most enjoyable programming languages out there."
   ]
  },
  {
   "cell_type": "markdown",
   "metadata": {
    "slideshow": {
     "slide_type": "fragment"
    }
   },
   "source": [
    "Here's why you should learn Python:\n",
    "1. Because your future will likely depend on it. Programming job trends rank python amont the top: https://www.indeed.com/jobtrends/q-%22C++%22-q-Matlab-q-Python.html. Moreover, coding Dojo places python at the top:\n",
    "http://www.codingdojo.com/blog/our-approach-to-curriculum/\n",
    "2. Python is FREE!\n",
    "3. It is very easy to get started programming with Python\n",
    "4. Python is in very high demand (ranked between #3 and #5) making it more likely for you to have an edge when applying for jobs\n",
    "5. Python is very forgiving\n",
    "6. There is significant community support around Python\n",
    "7. You can even use Python in a web browser!"
   ]
  },
  {
   "cell_type": "markdown",
   "metadata": {
    "slideshow": {
     "slide_type": "slide"
    }
   },
   "source": [
    "## Obtaining Python: (Can't you just Google it?)\n",
    "My favorite way of obtaining python is to download the Anaconda distribution: http://www.anaconda.com. Once you install it, Python mysteriously resides on your computer. You can get to it in two ways:\n",
    "1. Using the shell: Simply type `python` in your terminal\n",
    "2. Using iPython: which is what this document is - open the shell and type: `jupyter notebook`"
   ]
  },
  {
   "cell_type": "markdown",
   "metadata": {
    "slideshow": {
     "slide_type": "slide"
    }
   },
   "source": [
    "# Core Python\n",
    "Python has a bunch of key core functionality including the ability to define variables, strings, lists and other types. Let's get started:\n",
    "## Summary\n",
    "1. Tuple: <code>a=(1,3,4,5,80)</code> - immutable, accessible via <code>a[index]</code>\n",
    "2. List: <code>a=[1,3,4,5,80]</code> - mutable, accessible via <code>a[index]</code>\n",
    "3. String: <code>a='This is my string.'</code> - immutable, accessible via <code>a[index]</code>\n",
    "4. Comments can be placed anywhere and start with the pound sign #"
   ]
  },
  {
   "cell_type": "markdown",
   "metadata": {
    "slideshow": {
     "slide_type": "slide"
    }
   },
   "source": [
    "## Variables\n",
    "Variables, just like any programming language consist of a declaration"
   ]
  },
  {
   "cell_type": "code",
   "execution_count": 1,
   "metadata": {
    "collapsed": false,
    "slideshow": {
     "slide_type": "fragment"
    }
   },
   "outputs": [
    {
     "name": "stdout",
     "output_type": "stream",
     "text": [
      "33\n"
     ]
    }
   ],
   "source": [
    "myVar = 33   # my var is an integer in this case\n",
    "print(myVar) # this will print the value of myVar"
   ]
  },
  {
   "cell_type": "code",
   "execution_count": 2,
   "metadata": {
    "collapsed": false,
    "slideshow": {
     "slide_type": "fragment"
    }
   },
   "outputs": [
    {
     "name": "stdout",
     "output_type": "stream",
     "text": [
      "99.0\n"
     ]
    }
   ],
   "source": [
    "b = 3.0 * myVar # b is now floating point variable\n",
    "print(b)"
   ]
  },
  {
   "cell_type": "markdown",
   "metadata": {
    "slideshow": {
     "slide_type": "fragment"
    }
   },
   "source": [
    "Note that Python automatically detects the data type of a variable. This is called dynamic typing."
   ]
  },
  {
   "cell_type": "markdown",
   "metadata": {
    "slideshow": {
     "slide_type": "slide"
    }
   },
   "source": [
    "### Strings\n",
    "Strings are a special type of variable that represent text. Simply use single (or double) quotations to define a string variable."
   ]
  },
  {
   "cell_type": "code",
   "execution_count": 3,
   "metadata": {
    "collapsed": false,
    "slideshow": {
     "slide_type": "fragment"
    }
   },
   "outputs": [
    {
     "name": "stdout",
     "output_type": "stream",
     "text": [
      "This is my first string variable.\n"
     ]
    }
   ],
   "source": [
    "str1 = 'This is my first string variable.'\n",
    "print(str1)"
   ]
  },
  {
   "cell_type": "code",
   "execution_count": 4,
   "metadata": {
    "collapsed": false,
    "slideshow": {
     "slide_type": "fragment"
    }
   },
   "outputs": [
    {
     "name": "stdout",
     "output_type": "stream",
     "text": [
      "this is also another string\n"
     ]
    }
   ],
   "source": [
    "str2 = \"this is also another string\"\n",
    "print(str2)"
   ]
  },
  {
   "cell_type": "markdown",
   "metadata": {
    "slideshow": {
     "slide_type": "subslide"
    }
   },
   "source": [
    "You can concatenate strings together:"
   ]
  },
  {
   "cell_type": "code",
   "execution_count": 5,
   "metadata": {
    "collapsed": false,
    "slideshow": {
     "slide_type": "fragment"
    }
   },
   "outputs": [
    {
     "name": "stdout",
     "output_type": "stream",
     "text": [
      "This is my first string variable.this is also another string\n"
     ]
    }
   ],
   "source": [
    "str3 = str1 + str2\n",
    "print(str3)"
   ]
  },
  {
   "cell_type": "markdown",
   "metadata": {
    "slideshow": {
     "slide_type": "fragment"
    }
   },
   "source": [
    "and you can add extra strings in between"
   ]
  },
  {
   "cell_type": "code",
   "execution_count": 6,
   "metadata": {
    "collapsed": false,
    "slideshow": {
     "slide_type": "fragment"
    }
   },
   "outputs": [
    {
     "name": "stdout",
     "output_type": "stream",
     "text": [
      "This is my first string variable. this is also another string.\n"
     ]
    }
   ],
   "source": [
    "str4 = str1 + \" \" + str2 + \".\"\n",
    "print(str4)"
   ]
  },
  {
   "cell_type": "markdown",
   "metadata": {
    "collapsed": false,
    "slideshow": {
     "slide_type": "subslide"
    }
   },
   "source": [
    "Strings represent an **immutable** list of characters - that is, you *cannot* assign values of individual characters - you will get an error."
   ]
  },
  {
   "cell_type": "code",
   "execution_count": 7,
   "metadata": {
    "collapsed": false,
    "slideshow": {
     "slide_type": "fragment"
    }
   },
   "outputs": [
    {
     "ename": "TypeError",
     "evalue": "'str' object does not support item assignment",
     "output_type": "error",
     "traceback": [
      "\u001b[0;31m---------------------------------------------------------------------------\u001b[0m",
      "\u001b[0;31mTypeError\u001b[0m                                 Traceback (most recent call last)",
      "\u001b[0;32m<ipython-input-7-8f098f301cdc>\u001b[0m in \u001b[0;36m<module>\u001b[0;34m()\u001b[0m\n\u001b[0;32m----> 1\u001b[0;31m \u001b[0mstr4\u001b[0m\u001b[0;34m[\u001b[0m\u001b[0;36m2\u001b[0m\u001b[0;34m]\u001b[0m\u001b[0;34m=\u001b[0m\u001b[0;34m'b'\u001b[0m\u001b[0;34m\u001b[0m\u001b[0m\n\u001b[0m",
      "\u001b[0;31mTypeError\u001b[0m: 'str' object does not support item assignment"
     ]
    }
   ],
   "source": [
    "str4[2]='b'"
   ]
  },
  {
   "cell_type": "markdown",
   "metadata": {
    "slideshow": {
     "slide_type": "fragment"
    }
   },
   "source": [
    "But you can certainly loop through a string:"
   ]
  },
  {
   "cell_type": "code",
   "execution_count": 8,
   "metadata": {
    "collapsed": false,
    "slideshow": {
     "slide_type": "fragment"
    }
   },
   "outputs": [
    {
     "name": "stdout",
     "output_type": "stream",
     "text": [
      "s\n",
      "t\n",
      "r\n",
      "i\n",
      "n\n",
      "g\n"
     ]
    }
   ],
   "source": [
    "newstr = 'string'\n",
    "for val in newstr: # you will learn about this kind of loop later\n",
    "    print(val)"
   ]
  },
  {
   "cell_type": "markdown",
   "metadata": {
    "slideshow": {
     "slide_type": "slide"
    }
   },
   "source": [
    "### Tuples"
   ]
  },
  {
   "cell_type": "markdown",
   "metadata": {
    "slideshow": {
     "slide_type": "fragment"
    }
   },
   "source": [
    "A tuple is an **immutable** sequence of **arbitrary** objects separated by commas and enclosed in parentheses."
   ]
  },
  {
   "cell_type": "code",
   "execution_count": 33,
   "metadata": {
    "collapsed": true,
    "slideshow": {
     "slide_type": "fragment"
    }
   },
   "outputs": [],
   "source": [
    "a=(1,'b',2)"
   ]
  },
  {
   "cell_type": "markdown",
   "metadata": {
    "slideshow": {
     "slide_type": "fragment"
    }
   },
   "source": [
    "You can access items in a tuple"
   ]
  },
  {
   "cell_type": "code",
   "execution_count": 34,
   "metadata": {
    "collapsed": false,
    "slideshow": {
     "slide_type": "fragment"
    }
   },
   "outputs": [
    {
     "name": "stdout",
     "output_type": "stream",
     "text": [
      "2\n"
     ]
    }
   ],
   "source": [
    "print(a[2])"
   ]
  },
  {
   "cell_type": "markdown",
   "metadata": {
    "slideshow": {
     "slide_type": "fragment"
    }
   },
   "source": [
    "but cannot modify the contents because they are immutable"
   ]
  },
  {
   "cell_type": "code",
   "execution_count": 11,
   "metadata": {
    "collapsed": false,
    "slideshow": {
     "slide_type": "fragment"
    }
   },
   "outputs": [
    {
     "ename": "TypeError",
     "evalue": "'tuple' object does not support item assignment",
     "output_type": "error",
     "traceback": [
      "\u001b[0;31m---------------------------------------------------------------------------\u001b[0m",
      "\u001b[0;31mTypeError\u001b[0m                                 Traceback (most recent call last)",
      "\u001b[0;32m<ipython-input-11-b4d7398304bd>\u001b[0m in \u001b[0;36m<module>\u001b[0;34m()\u001b[0m\n\u001b[0;32m----> 1\u001b[0;31m \u001b[0ma\u001b[0m\u001b[0;34m[\u001b[0m\u001b[0;36m3\u001b[0m\u001b[0;34m]\u001b[0m\u001b[0;34m=\u001b[0m\u001b[0;36m2.0\u001b[0m\u001b[0;34m\u001b[0m\u001b[0m\n\u001b[0m",
      "\u001b[0;31mTypeError\u001b[0m: 'tuple' object does not support item assignment"
     ]
    }
   ],
   "source": [
    "a[3]=2.0"
   ]
  },
  {
   "cell_type": "markdown",
   "metadata": {
    "slideshow": {
     "slide_type": "slide"
    }
   },
   "source": [
    "### Lists"
   ]
  },
  {
   "cell_type": "markdown",
   "metadata": {
    "slideshow": {
     "slide_type": "fragment"
    }
   },
   "source": [
    "Lists are a like tupbles but are **mutable**. They are defined using square brackets with items separated by a comma."
   ]
  },
  {
   "cell_type": "code",
   "execution_count": 3,
   "metadata": {
    "collapsed": false,
    "slideshow": {
     "slide_type": "fragment"
    }
   },
   "outputs": [
    {
     "name": "stdout",
     "output_type": "stream",
     "text": [
      "[1, 2, 3, 'b']\n"
     ]
    }
   ],
   "source": [
    "myList = [1,2,3,'b']\n",
    "print(myList)"
   ]
  },
  {
   "cell_type": "markdown",
   "metadata": {
    "slideshow": {
     "slide_type": "subslide"
    }
   },
   "source": [
    "You can modify items in a list"
   ]
  },
  {
   "cell_type": "code",
   "execution_count": 25,
   "metadata": {
    "collapsed": false,
    "slideshow": {
     "slide_type": "fragment"
    }
   },
   "outputs": [
    {
     "name": "stdout",
     "output_type": "stream",
     "text": [
      "[1, 2, 3, 'a']\n"
     ]
    }
   ],
   "source": [
    "myList[3]='a'\n",
    "print(myList)"
   ]
  },
  {
   "cell_type": "markdown",
   "metadata": {
    "slideshow": {
     "slide_type": "fragment"
    }
   },
   "source": [
    "You can append items to a list"
   ]
  },
  {
   "cell_type": "code",
   "execution_count": 30,
   "metadata": {
    "collapsed": false,
    "slideshow": {
     "slide_type": "fragment"
    }
   },
   "outputs": [
    {
     "name": "stdout",
     "output_type": "stream",
     "text": [
      "[1, 2, 3, 'a', 4, 4, 43, 43]\n"
     ]
    }
   ],
   "source": [
    "myList.append(43)\n",
    "print(myList)"
   ]
  },
  {
   "cell_type": "markdown",
   "metadata": {
    "slideshow": {
     "slide_type": "fragment"
    }
   },
   "source": [
    "You can also insert items in a list a specified location"
   ]
  },
  {
   "cell_type": "code",
   "execution_count": 8,
   "metadata": {
    "collapsed": false,
    "slideshow": {
     "slide_type": "fragment"
    }
   },
   "outputs": [
    {
     "name": "stdout",
     "output_type": "stream",
     "text": [
      "[1, 2, 3, 'inserted item', 'b']\n"
     ]
    }
   ],
   "source": [
    "myList.insert(3,'inserted item')\n",
    "print(myList)"
   ]
  },
  {
   "cell_type": "markdown",
   "metadata": {
    "slideshow": {
     "slide_type": "subslide"
    }
   },
   "source": [
    "You can create a list of lists as well"
   ]
  },
  {
   "cell_type": "code",
   "execution_count": 19,
   "metadata": {
    "collapsed": false,
    "slideshow": {
     "slide_type": "fragment"
    }
   },
   "outputs": [
    {
     "name": "stdout",
     "output_type": "stream",
     "text": [
      "[[1, 2, 3], [5, 7, 8], [17, 0, 9]]\n"
     ]
    }
   ],
   "source": [
    "b = [[1,2,3],\n",
    "     [5,7,8],\n",
    "     [17,0,9]]\n",
    "print(b)"
   ]
  },
  {
   "cell_type": "markdown",
   "metadata": {
    "slideshow": {
     "slide_type": "fragment"
    }
   },
   "source": [
    "You can create an empty list with: <code> x = [] </code> and then you can append things to it."
   ]
  },
  {
   "cell_type": "code",
   "execution_count": 3,
   "metadata": {
    "collapsed": false,
    "slideshow": {
     "slide_type": "fragment"
    }
   },
   "outputs": [
    {
     "name": "stdout",
     "output_type": "stream",
     "text": [
      "[1, 'apple']\n"
     ]
    }
   ],
   "source": [
    "x =[]\n",
    "x.append(1)\n",
    "x.append('apple')\n",
    "print(x)"
   ]
  },
  {
   "cell_type": "markdown",
   "metadata": {
    "slideshow": {
     "slide_type": "subslide"
    }
   },
   "source": [
    "For scientific computing applications, it is recommended to use numpy arrays instead of lists. We will look at numpy arrays a little bit later."
   ]
  },
  {
   "cell_type": "markdown",
   "metadata": {
    "slideshow": {
     "slide_type": "slide"
    }
   },
   "source": [
    "### WARNING!\n",
    "If b is a list, then the assignment a = b does **NOT** create a copy of b. Instead, a **AND** b both point to the same data. So if you change a, b will also change. and vice versa."
   ]
  },
  {
   "cell_type": "code",
   "execution_count": 29,
   "metadata": {
    "collapsed": false,
    "slideshow": {
     "slide_type": "fragment"
    }
   },
   "outputs": [
    {
     "name": "stdout",
     "output_type": "stream",
     "text": [
      "b =  [1, 3, 5]\n",
      "a =  [1, 3, 1.11]\n",
      "b is now also changed to:  [1, 3, 1.11]\n"
     ]
    }
   ],
   "source": [
    "b=[1,3,5] # create a list called b\n",
    "print(\"b = \", b)  # b should be [1,3,5]\n",
    "a = b     # a is [1,3,5]\n",
    "a[2]=1.11 # a is [1,3,1.11] BUT THIS ALSO CHANGES b!\n",
    "print(\"a = \", a)\n",
    "print(\"b is now also changed to: \", b)  # b is [1,3,1.11]"
   ]
  },
  {
   "cell_type": "markdown",
   "metadata": {
    "slideshow": {
     "slide_type": "subslide"
    }
   },
   "source": [
    "If you want to make a copy, you should use: <code>a = b.copy() </code>"
   ]
  },
  {
   "cell_type": "code",
   "execution_count": 31,
   "metadata": {
    "collapsed": false,
    "slideshow": {
     "slide_type": "fragment"
    }
   },
   "outputs": [
    {
     "name": "stdout",
     "output_type": "stream",
     "text": [
      "b =  [1, 3, 5]\n",
      "a =  [1, 3, 1.11]\n",
      "b remains unchange:  [1, 3, 5]\n"
     ]
    }
   ],
   "source": [
    "b=[1,3,5] # create a list called b\n",
    "print(\"b = \", b)  # b should be [1,3,5]\n",
    "a = b.copy()     # a is [1,3,5]\n",
    "a[2]=1.11 # a is [1,3,1.11] BUT THIS ALSO CHANGES b!\n",
    "print(\"a = \", a)\n",
    "print(\"b remains unchange: \", b)  # b is [1,3,1.11]"
   ]
  },
  {
   "cell_type": "markdown",
   "metadata": {
    "slideshow": {
     "slide_type": "slide"
    }
   },
   "source": [
    "### Displaying variables"
   ]
  },
  {
   "cell_type": "markdown",
   "metadata": {
    "slideshow": {
     "slide_type": "fragment"
    }
   },
   "source": [
    "You can display variables simply by typing them"
   ]
  },
  {
   "cell_type": "code",
   "execution_count": 4,
   "metadata": {
    "collapsed": false,
    "slideshow": {
     "slide_type": "fragment"
    }
   },
   "outputs": [
    {
     "data": {
      "text/plain": [
       "[1, 2, 3, 'b']"
      ]
     },
     "execution_count": 4,
     "metadata": {},
     "output_type": "execute_result"
    }
   ],
   "source": [
    "myList"
   ]
  },
  {
   "cell_type": "markdown",
   "metadata": {
    "slideshow": {
     "slide_type": "fragment"
    }
   },
   "source": [
    "or by using <code>print</code>"
   ]
  },
  {
   "cell_type": "code",
   "execution_count": 5,
   "metadata": {
    "collapsed": false,
    "slideshow": {
     "slide_type": "fragment"
    }
   },
   "outputs": [
    {
     "name": "stdout",
     "output_type": "stream",
     "text": [
      "[1, 2, 3, 'b']\n"
     ]
    }
   ],
   "source": [
    "print(myList)"
   ]
  },
  {
   "cell_type": "markdown",
   "metadata": {
    "slideshow": {
     "slide_type": "subslide"
    }
   },
   "source": [
    "You can also format things using <code>print</code>"
   ]
  },
  {
   "cell_type": "code",
   "execution_count": 37,
   "metadata": {
    "collapsed": false,
    "slideshow": {
     "slide_type": "fragment"
    }
   },
   "outputs": [
    {
     "name": "stdout",
     "output_type": "stream",
     "text": [
      "This is my list: [1, 2, 3, 'inserted item', 'a', 4, 4, 43, 43]\n"
     ]
    }
   ],
   "source": [
    "print('This is my list:', myList)"
   ]
  },
  {
   "cell_type": "markdown",
   "metadata": {
    "slideshow": {
     "slide_type": "slide"
    }
   },
   "source": [
    "## Arithmetic Operators\n",
    "Python supports basic math operators. You can use those on almost ANYTHING in python!"
   ]
  },
  {
   "cell_type": "markdown",
   "metadata": {
    "slideshow": {
     "slide_type": "fragment"
    }
   },
   "source": [
    "| Operation      | Symbol        |\n",
    "| -------------  |:-------------:|\n",
    "| Addition       | +             |\n",
    "| Subtraction    | -             |\n",
    "| Multiplication | *             |\n",
    "| Division       | /             |\n",
    "| Exponentiation | \\*\\*          |\n",
    "| Modulus        | %             |\n"
   ]
  },
  {
   "cell_type": "markdown",
   "metadata": {
    "slideshow": {
     "slide_type": "subslide"
    }
   },
   "source": [
    "You can also use augmented assignements\n",
    "\n",
    "| Operation      | Meaning       |\n",
    "| -------------  |:-------------:|\n",
    "| a += b         | a = a + b     |\n",
    "| a -= b         | a = a -b      |\n",
    "| a \\*= b        | a = a\\*b      |\n",
    "| a /=b          | a = a/b       |\n",
    "| a \\*\\*= b      | a = a\\*\\*b    |\n",
    "| a %= b         | a = a % b     |\n",
    "\n"
   ]
  },
  {
   "cell_type": "markdown",
   "metadata": {
    "slideshow": {
     "slide_type": "slide"
    }
   },
   "source": [
    "## Comparison Operators\n",
    "Python also supports all basic comparison operators. These work on almost everything in Python - but make sure you understand their meaning!"
   ]
  },
  {
   "cell_type": "markdown",
   "metadata": {
    "slideshow": {
     "slide_type": "fragment"
    }
   },
   "source": [
    "| Symbol      | Meaning        |\n",
    "| -------------  |:-------------:|\n",
    "| <           | Less than             |\n",
    "| >           | Greater than             |\n",
    "| <=          | Less than or equal to             |\n",
    "| >=          | Greater than or equal to             |\n",
    "| ==          | Equal to          |\n",
    "| !=          | Not equal to             |\n",
    "\n"
   ]
  },
  {
   "cell_type": "markdown",
   "metadata": {
    "slideshow": {
     "slide_type": "subslide"
    }
   },
   "source": [
    "When different data types are compared to each other, they are first converted, when possible, to a common type and then compared. Such is the case for example when comparing an integer and a float."
   ]
  },
  {
   "cell_type": "code",
   "execution_count": 36,
   "metadata": {
    "collapsed": false,
    "slideshow": {
     "slide_type": "fragment"
    }
   },
   "outputs": [
    {
     "name": "stdout",
     "output_type": "stream",
     "text": [
      "False\n"
     ]
    }
   ],
   "source": [
    "a = 2 # a is an integer\n",
    "b = 2.1 # b is a float\n",
    "print(a>b) # converts both numbers to a float"
   ]
  },
  {
   "cell_type": "markdown",
   "metadata": {
    "slideshow": {
     "slide_type": "fragment"
    }
   },
   "source": [
    "When a conversion to a common type is not possible, then in general, objects are considered to be unequal."
   ]
  },
  {
   "cell_type": "code",
   "execution_count": 40,
   "metadata": {
    "collapsed": false,
    "slideshow": {
     "slide_type": "fragment"
    }
   },
   "outputs": [
    {
     "name": "stdout",
     "output_type": "stream",
     "text": [
      "False\n"
     ]
    }
   ],
   "source": [
    "a=2\n",
    "b='2.1'\n",
    "print(a==b)"
   ]
  },
  {
   "cell_type": "markdown",
   "metadata": {
    "slideshow": {
     "slide_type": "slide"
    }
   },
   "source": [
    "### Conditionals (If statements)"
   ]
  },
  {
   "cell_type": "markdown",
   "metadata": {
    "slideshow": {
     "slide_type": "fragment"
    }
   },
   "source": [
    "You can use if statements to analyze the condition of a variable during runtime. An if statements looks like:\n",
    "```python\n",
    "if condition:\n",
    "  do something\n",
    "elif condition2:\n",
    "  do something else\n",
    "else:\n",
    "  all other cases\n",
    "```\n",
    "Don't forget indentation! For the **condition**, You can use any of the comparison operators introduced earlier."
   ]
  },
  {
   "cell_type": "code",
   "execution_count": 42,
   "metadata": {
    "collapsed": false,
    "slideshow": {
     "slide_type": "fragment"
    }
   },
   "outputs": [
    {
     "name": "stdout",
     "output_type": "stream",
     "text": [
      "positive\n"
     ]
    }
   ],
   "source": [
    "a = 1\n",
    "if a < 0.0:\n",
    "    print ('negative')\n",
    "elif a > 0.0:\n",
    "    print ('positive')\n",
    "else:\n",
    "    print('neither negative nor positive')"
   ]
  },
  {
   "cell_type": "markdown",
   "metadata": {
    "slideshow": {
     "slide_type": "slide"
    }
   },
   "source": [
    "## Loops"
   ]
  },
  {
   "cell_type": "markdown",
   "metadata": {
    "slideshow": {
     "slide_type": "subslide"
    }
   },
   "source": [
    "### While Loops"
   ]
  },
  {
   "cell_type": "markdown",
   "metadata": {
    "slideshow": {
     "slide_type": "fragment"
    }
   },
   "source": [
    "A While loop consists of the following:\n",
    "```python\n",
    "while condition:\n",
    "    block\n",
    "```\n",
    "Of course, the else block is not always necessary."
   ]
  },
  {
   "cell_type": "code",
   "execution_count": 51,
   "metadata": {
    "collapsed": false,
    "slideshow": {
     "slide_type": "fragment"
    }
   },
   "outputs": [
    {
     "name": "stdout",
     "output_type": "stream",
     "text": [
      "n = 0\n",
      "n = 1\n",
      "n = 2\n"
     ]
    }
   ],
   "source": [
    "nMax = 3\n",
    "n = 0\n",
    "while n < nMax:\n",
    "    print ('n =', n)\n",
    "    n += 1"
   ]
  },
  {
   "cell_type": "markdown",
   "metadata": {
    "slideshow": {
     "slide_type": "subslide"
    }
   },
   "source": [
    "Sometimes, you need to do something special if the condition of the while loop is not satisfied. You can use an else statement in that case:\n",
    "```python\n",
    "while condition:\n",
    "    block\n",
    "else:\n",
    "    block\n",
    "```"
   ]
  },
  {
   "cell_type": "markdown",
   "metadata": {
    "slideshow": {
     "slide_type": "subslide"
    }
   },
   "source": [
    "### For Loops"
   ]
  },
  {
   "cell_type": "markdown",
   "metadata": {
    "slideshow": {
     "slide_type": "fragment"
    }
   },
   "source": [
    "One of the greatest features of python is that almost everything is iterable! If you have a collection of things, you can simply use a for loop to go through the list: \n",
    "\n",
    "```python \n",
    "for *item* in *sequence*:\n",
    "    block\n",
    "```"
   ]
  },
  {
   "cell_type": "code",
   "execution_count": 44,
   "metadata": {
    "collapsed": false,
    "slideshow": {
     "slide_type": "fragment"
    }
   },
   "outputs": [
    {
     "name": "stdout",
     "output_type": "stream",
     "text": [
      "1\n",
      "4\n",
      "5\n",
      "6\n",
      "7\n"
     ]
    }
   ],
   "source": [
    "a = [1,4,5,6,7]\n",
    "for val in a: # iterate or loop through the items in a\n",
    "    print(val)"
   ]
  },
  {
   "cell_type": "markdown",
   "metadata": {
    "slideshow": {
     "slide_type": "subslide"
    }
   },
   "source": [
    "The other way to do this is to loop through a range using the <code>range</code> function:"
   ]
  },
  {
   "cell_type": "code",
   "execution_count": 45,
   "metadata": {
    "collapsed": false,
    "slideshow": {
     "slide_type": "fragment"
    }
   },
   "outputs": [
    {
     "name": "stdout",
     "output_type": "stream",
     "text": [
      "i a[i]\n",
      "------\n",
      "0   1\n",
      "1   4\n",
      "2   5\n"
     ]
    }
   ],
   "source": [
    "print('i a[i]')\n",
    "print('------')\n",
    "for i in range(0,3):\n",
    "    print (i,' ', a[i])"
   ]
  },
  {
   "cell_type": "markdown",
   "metadata": {
    "slideshow": {
     "slide_type": "fragment"
    }
   },
   "source": [
    "The `range` function returns a sequence of numbers: \n",
    "\n",
    "```python\n",
    "range(nMin, nMax) = [nMin, nMin + 1, nMin + 2, ..., nMin -1]\n",
    "```"
   ]
  },
  {
   "cell_type": "markdown",
   "metadata": {
    "slideshow": {
     "slide_type": "subslide"
    }
   },
   "source": [
    "As usual, you can <code>break</code> and <code>continue</code> for loops."
   ]
  },
  {
   "cell_type": "code",
   "execution_count": 58,
   "metadata": {
    "collapsed": false,
    "slideshow": {
     "slide_type": "fragment"
    }
   },
   "outputs": [
    {
     "name": "stdout",
     "output_type": "stream",
     "text": [
      "1\n",
      "3\n",
      "45\n",
      "found value - exiting loop.\n"
     ]
    }
   ],
   "source": [
    "# example of breaking a for loop\n",
    "seq = [1,3,45,2,4]\n",
    "for val in seq:\n",
    "    if (val == 2):\n",
    "        print('found value - exiting loop.')\n",
    "        break\n",
    "    print(val)\n",
    "        "
   ]
  },
  {
   "cell_type": "code",
   "execution_count": 4,
   "metadata": {
    "collapsed": false,
    "slideshow": {
     "slide_type": "fragment"
    }
   },
   "outputs": [
    {
     "name": "stdout",
     "output_type": "stream",
     "text": [
      "[7, 14, 21, 28, 35, 42, 49, 56, 63, 70, 77, 84, 91, 98]\n"
     ]
    }
   ],
   "source": [
    "# example of continue in a for loop\n",
    "x = []                   # Create an empty list\n",
    "for i in range(1,100):\n",
    "  if i%7 != 0: continue  # If not divisible by 7, skip rest of loop\n",
    "  x.append(i)            # Append i to the list\n",
    "print(x)"
   ]
  },
  {
   "cell_type": "markdown",
   "metadata": {
    "slideshow": {
     "slide_type": "slide"
    }
   },
   "source": [
    "# Functions"
   ]
  },
  {
   "cell_type": "markdown",
   "metadata": {
    "slideshow": {
     "slide_type": "fragment"
    }
   },
   "source": [
    "Functions in Python are defined using the following convenction:\n",
    "```python\n",
    "def function(arg1, arg2, ...):\n",
    "    statements\n",
    "    return return_values\n",
    "```\n",
    "where `arg1, arg2, ...` are the function arguments. Arguments can be any Python objects and even other functions. They can be given defaults values which makes using the argument optional."
   ]
  },
  {
   "cell_type": "markdown",
   "metadata": {
    "slideshow": {
     "slide_type": "subslide"
    }
   },
   "source": [
    "Let's now define a function that computes first and second derivatives of any differentiable function. Here's what our function looks like:"
   ]
  },
  {
   "cell_type": "code",
   "execution_count": 2,
   "metadata": {
    "collapsed": false,
    "slideshow": {
     "slide_type": "fragment"
    }
   },
   "outputs": [],
   "source": [
    "def derivatives(f,x,h=0.0001):  # h has a default value, \n",
    "    df =(f(x+h) - f(x-h))/(2.0*h) # compute first dervative using central difference\n",
    "    ddf =(f(x+h) - 2.0*f(x) + f(x-h))/h**2 # compute second derivative using central difference\n",
    "    return df,ddf # return first and second derivatives"
   ]
  },
  {
   "cell_type": "markdown",
   "metadata": {
    "slideshow": {
     "slide_type": "fragment"
    }
   },
   "source": [
    "Let's now call `derivatives` on the inverse tangent function (`atan`)"
   ]
  },
  {
   "cell_type": "code",
   "execution_count": 5,
   "metadata": {
    "collapsed": false,
    "slideshow": {
     "slide_type": "fragment"
    }
   },
   "outputs": [
    {
     "name": "stdout",
     "output_type": "stream",
     "text": [
      "0.3717472125930321 -0.3593095820875192\n"
     ]
    }
   ],
   "source": [
    "from math import atan # we need to import atan from the math module - you'll learn this later\n",
    "df, ddf = derivatives(atan, 1.3) # call the derivatives function on atan at the point x = 1.3\n",
    "print(df,ddf) # print the results"
   ]
  },
  {
   "cell_type": "markdown",
   "metadata": {
    "slideshow": {
     "slide_type": "subslide"
    }
   },
   "source": [
    "Functions can be defined inline in a python file (just like we did here), or, they can be placed in **`modules`**."
   ]
  },
  {
   "cell_type": "markdown",
   "metadata": {
    "slideshow": {
     "slide_type": "slide"
    }
   },
   "source": [
    "# Modules"
   ]
  },
  {
   "cell_type": "markdown",
   "metadata": {
    "slideshow": {
     "slide_type": "fragment"
    }
   },
   "source": [
    "Modules consist of a collection of functions that are related and placed together in a module for convenience. Functions in a module can be accessed by *importing* them from the module\n",
    "```python\n",
    "from module_name import function\n",
    "```"
   ]
  },
  {
   "cell_type": "markdown",
   "metadata": {
    "slideshow": {
     "slide_type": "fragment"
    }
   },
   "source": [
    "Modules are simply Python files (.py). The module name is the same as the filename."
   ]
  },
  {
   "cell_type": "markdown",
   "metadata": {
    "slideshow": {
     "slide_type": "subslide"
    }
   },
   "source": [
    "## Accessing Functions in a Module"
   ]
  },
  {
   "cell_type": "markdown",
   "metadata": {
    "slideshow": {
     "slide_type": "fragment"
    }
   },
   "source": [
    "There are three ways to access functions in a module:"
   ]
  },
  {
   "cell_type": "markdown",
   "metadata": {
    "slideshow": {
     "slide_type": "fragment"
    }
   },
   "source": [
    "```python \n",
    "from module_name import *```\n",
    "Which loas ALL functions in the module. While this is certainly allowed, it is (1) wasteful since Python will load all functions defs into memory, and (2) it can lead to ambiguity if other modules have similar function defitions. For example, the `sine` function is defined in the modules: `math`, `cmath`, and `numpy`."
   ]
  },
  {
   "cell_type": "code",
   "execution_count": 5,
   "metadata": {
    "collapsed": false,
    "slideshow": {
     "slide_type": "fragment"
    }
   },
   "outputs": [
    {
     "name": "stdout",
     "output_type": "stream",
     "text": [
      "1.1051709180756477\n"
     ]
    }
   ],
   "source": [
    "from math import *\n",
    "print(exp(0.1))"
   ]
  },
  {
   "cell_type": "markdown",
   "metadata": {
    "slideshow": {
     "slide_type": "subslide"
    }
   },
   "source": [
    "```python\n",
    "from module_name import function1, function2,...\n",
    "```\n",
    "Imports only the specified functions from the module. This is certainly safer but may lead to conflicts if you're not careful"
   ]
  },
  {
   "cell_type": "code",
   "execution_count": 6,
   "metadata": {
    "collapsed": false,
    "slideshow": {
     "slide_type": "fragment"
    }
   },
   "outputs": [
    {
     "name": "stdout",
     "output_type": "stream",
     "text": [
      "-0.5306054094646787\n"
     ]
    }
   ],
   "source": [
    "from math import exp, log, sinh\n",
    "x = 0.23\n",
    "print(exp(x**2) + log(x) - sinh(x/2))"
   ]
  },
  {
   "cell_type": "markdown",
   "metadata": {
    "slideshow": {
     "slide_type": "subslide"
    }
   },
   "source": [
    "```python\n",
    "import module_name\n",
    "```\n",
    "Imports the module which allows you to access function definitions in the module using: `module_name.function1` etc...\n",
    "This is by far the least ambiguous path."
   ]
  },
  {
   "cell_type": "markdown",
   "metadata": {
    "slideshow": {
     "slide_type": "fragment"
    }
   },
   "source": [
    "You can also nickname a module for easy access\n",
    "```python \n",
    "import module_name as m\n",
    "```\n",
    "Then, you'd access functions in module_name using: m.function1."
   ]
  },
  {
   "cell_type": "code",
   "execution_count": 22,
   "metadata": {
    "collapsed": false,
    "slideshow": {
     "slide_type": "fragment"
    }
   },
   "outputs": [
    {
     "data": {
      "text/plain": [
       "(-1+1.2246467991473532e-16j)"
      ]
     },
     "execution_count": 22,
     "metadata": {},
     "output_type": "execute_result"
    }
   ],
   "source": [
    "import cmath as cm # cmath library supports complex numbers\n",
    "π = cm.pi # define pi\n",
    "x = π*1j # complex number\n",
    "cm.exp(x) # e^(iπ) = -1"
   ]
  },
  {
   "cell_type": "markdown",
   "metadata": {
    "slideshow": {
     "slide_type": "subslide"
    }
   },
   "source": [
    "The contents of a module can be listed using:\n",
    "```python \n",
    "dir(module_name)```\n",
    "after importing the module. Here's an example:"
   ]
  },
  {
   "cell_type": "code",
   "execution_count": 13,
   "metadata": {
    "collapsed": false,
    "slideshow": {
     "slide_type": "fragment"
    }
   },
   "outputs": [
    {
     "data": {
      "text/plain": [
       "['__doc__',\n",
       " '__file__',\n",
       " '__loader__',\n",
       " '__name__',\n",
       " '__package__',\n",
       " '__spec__',\n",
       " 'acos',\n",
       " 'acosh',\n",
       " 'asin',\n",
       " 'asinh',\n",
       " 'atan',\n",
       " 'atan2',\n",
       " 'atanh',\n",
       " 'ceil',\n",
       " 'copysign',\n",
       " 'cos',\n",
       " 'cosh',\n",
       " 'degrees',\n",
       " 'e',\n",
       " 'erf',\n",
       " 'erfc',\n",
       " 'exp',\n",
       " 'expm1',\n",
       " 'fabs',\n",
       " 'factorial',\n",
       " 'floor',\n",
       " 'fmod',\n",
       " 'frexp',\n",
       " 'fsum',\n",
       " 'gamma',\n",
       " 'gcd',\n",
       " 'hypot',\n",
       " 'inf',\n",
       " 'isclose',\n",
       " 'isfinite',\n",
       " 'isinf',\n",
       " 'isnan',\n",
       " 'ldexp',\n",
       " 'lgamma',\n",
       " 'log',\n",
       " 'log10',\n",
       " 'log1p',\n",
       " 'log2',\n",
       " 'modf',\n",
       " 'nan',\n",
       " 'pi',\n",
       " 'pow',\n",
       " 'radians',\n",
       " 'sin',\n",
       " 'sinh',\n",
       " 'sqrt',\n",
       " 'tan',\n",
       " 'tanh',\n",
       " 'tau',\n",
       " 'trunc']"
      ]
     },
     "execution_count": 13,
     "metadata": {},
     "output_type": "execute_result"
    }
   ],
   "source": [
    "import math\n",
    "dir(math)"
   ]
  },
  {
   "cell_type": "markdown",
   "metadata": {
    "slideshow": {
     "slide_type": "subslide"
    }
   },
   "source": [
    "Another module that you may find useful is the `cmath` module. It supports the same functions as the `math` module but allows the use of complex numbers for function arguments."
   ]
  },
  {
   "cell_type": "code",
   "execution_count": 14,
   "metadata": {
    "collapsed": false,
    "slideshow": {
     "slide_type": "fragment"
    }
   },
   "outputs": [
    {
     "data": {
      "text/plain": [
       "['__doc__',\n",
       " '__file__',\n",
       " '__loader__',\n",
       " '__name__',\n",
       " '__package__',\n",
       " '__spec__',\n",
       " 'acos',\n",
       " 'acosh',\n",
       " 'asin',\n",
       " 'asinh',\n",
       " 'atan',\n",
       " 'atanh',\n",
       " 'cos',\n",
       " 'cosh',\n",
       " 'e',\n",
       " 'exp',\n",
       " 'inf',\n",
       " 'infj',\n",
       " 'isclose',\n",
       " 'isfinite',\n",
       " 'isinf',\n",
       " 'isnan',\n",
       " 'log',\n",
       " 'log10',\n",
       " 'nan',\n",
       " 'nanj',\n",
       " 'phase',\n",
       " 'pi',\n",
       " 'polar',\n",
       " 'rect',\n",
       " 'sin',\n",
       " 'sinh',\n",
       " 'sqrt',\n",
       " 'tan',\n",
       " 'tanh',\n",
       " 'tau']"
      ]
     },
     "execution_count": 14,
     "metadata": {},
     "output_type": "execute_result"
    }
   ],
   "source": [
    "import cmath\n",
    "dir(cmath)"
   ]
  },
  {
   "cell_type": "markdown",
   "metadata": {
    "slideshow": {
     "slide_type": "slide"
    }
   },
   "source": [
    "# The Almighty numpy\n",
    "Coming Soon!"
   ]
  },
  {
   "cell_type": "markdown",
   "metadata": {
    "slideshow": {
     "slide_type": "skip"
    }
   },
   "source": [
    "Numpy is one of the most famous python libraries for scientific computing. num stands for numerical and py stands for python. Numpy is the standard library for numerical computing with python. It provides powerful array functionality that beats python lists. Let's look at some numpy features."
   ]
  },
  {
   "cell_type": "code",
   "execution_count": 24,
   "metadata": {
    "collapsed": false,
    "slideshow": {
     "slide_type": "skip"
    }
   },
   "outputs": [
    {
     "data": {
      "text/html": [
       "div#notebook {\n",
       " font-family: sans-serif;\n",
       " font-size: 13pt;\n",
       " line-height: 170%;\n",
       " color: #586e75;\n",
       " -webkit-font-smoothing: antialiased !important;\n",
       "}\n",
       "body,\n",
       "div.body {\n",
       " font-family: sans-serif;\n",
       " font-size: 13pt;\n",
       " color: #586e75;\n",
       " background-color: #002b36;\n",
       " background: #002b36;\n",
       " -webkit-font-smoothing: antialiased !important;\n",
       "}\n",
       "body.notebook_app {\n",
       " padding: 0;\n",
       " background-color: #002b36;\n",
       " background: #002b36;\n",
       " padding-right: 0px !important;\n",
       " overflow-y: hidden;\n",
       "}\n",
       "a {\n",
       " font-family: sans-serif;\n",
       " color: #586e75;\n",
       " -webkit-font-smoothing: antialiased !important;\n",
       "}\n",
       "a:hover,\n",
       "a:focus {\n",
       " color: #839496;\n",
       " -webkit-font-smoothing: antialiased !important;\n",
       "}\n",
       ".list_header,\n",
       "div#notebook_list_header.row.list_header {\n",
       " font-size: 13.5pt;\n",
       " color: #839496;\n",
       " background-color: transparent;\n",
       " height: 35px;\n",
       "}\n",
       "#running .panel-group .panel .panel-heading {\n",
       " font-size: 14pt;\n",
       " color: #586e75;\n",
       " padding: 8px 8px;\n",
       " background: #002731;\n",
       " background-color: #002731;\n",
       "}\n",
       "#running .panel-group .panel .panel-heading a {\n",
       " font-size: 14pt;\n",
       " color: #586e75;\n",
       "}\n",
       "#running .panel-group .panel .panel-heading a:focus,\n",
       "#running .panel-group .panel .panel-heading a:hover {\n",
       " font-size: 14pt;\n",
       " color: #586e75;\n",
       "}\n",
       "#running .panel-group .panel .panel-body .list_container .list_item {\n",
       " background: #073642;\n",
       " background-color: #073642;\n",
       " padding: 2px;\n",
       " border-bottom: 2px solid rgba(30,67,77,.5);\n",
       "}\n",
       "#running .panel-group .panel .panel-body .list_container .list_item:hover {\n",
       " background: #073642;\n",
       " background-color: #073642;\n",
       "}\n",
       "#running .panel-group .panel .panel-body {\n",
       " padding: 2px;\n",
       "}\n",
       "div.running_list_info.toolbar_info {\n",
       " font-size: 15px;\n",
       " padding: 4px 0 4px 0;\n",
       " margin-top: 5px;\n",
       " margin-bottom: 8px;\n",
       " height: 24px;\n",
       " line-height: 24px;\n",
       " text-shadow: none;\n",
       "}\n",
       ".list_placeholder {\n",
       " font-weight: normal;\n",
       "}\n",
       "#tree-selector {\n",
       " padding: 0px;\n",
       "}\n",
       "#project_name > ul > li > a > i.fa.fa-home {\n",
       " color: #586e75;\n",
       " font-size: 17pt;\n",
       " display: inline-block;\n",
       " position: static;\n",
       " padding: 0px 0px;\n",
       " font-weight: normal;\n",
       " text-align: center;\n",
       " vertical-align: text-top;\n",
       "}\n",
       ".fa-folder:before {\n",
       " color: #268bd2;\n",
       "}\n",
       ".fa-arrow-up:before {\n",
       " font-size: 14px;\n",
       "}\n",
       ".fa-arrow-down:before {\n",
       " font-size: 14px;\n",
       "}\n",
       ".folder_icon:before {\n",
       " display: inline-block;\n",
       " font: normal normal normal 14px/1 FontAwesome;\n",
       " font-size: inherit;\n",
       " text-rendering: auto;\n",
       " -webkit-font-smoothing: antialiased;\n",
       " -moz-osx-font-smoothing: grayscale;\n",
       " content: \"\\f07b\";\n",
       " color: #268bd2;\n",
       "}\n",
       ".notebook_icon:before {\n",
       " display: inline-block;\n",
       " font: normal normal normal 14px/1 FontAwesome;\n",
       " font-size: inherit;\n",
       " text-rendering: auto;\n",
       " -webkit-font-smoothing: antialiased;\n",
       " -moz-osx-font-smoothing: grayscale;\n",
       " content: \"\\f02d\";\n",
       " position: relative;\n",
       " color: #2aa198 !important;\n",
       " top: 0px;\n",
       "}\n",
       ".file_icon:before {\n",
       " display: inline-block;\n",
       " font: normal normal normal 14px/1 FontAwesome;\n",
       " font-size: inherit;\n",
       " text-rendering: auto;\n",
       " -webkit-font-smoothing: antialiased;\n",
       " -moz-osx-font-smoothing: grayscale;\n",
       " content: \"\\f15b\";\n",
       " position: relative;\n",
       " top: 0px;\n",
       " color: #586e75 !important;\n",
       "}\n",
       "#project_name {\n",
       " display: inline-flex;\n",
       " padding-left: 7px;\n",
       " margin-left: -2px;\n",
       " margin-bottom: -20px;\n",
       " text-align: -webkit-auto;\n",
       " vertical-align: text-top;\n",
       "}\n",
       "div#notebook_toolbar div.dynamic-instructions {\n",
       " font-family: sans-serif;\n",
       " font-size: 15px;\n",
       "}\n",
       "div#maintoolbar .container {\n",
       " margin-left: -5px !important;\n",
       "}\n",
       "span#login_widget > .button,\n",
       "#logout {\n",
       " font-family: sans-serif;\n",
       " color: #586e75;\n",
       " background: rgba(30,67,77,.5);\n",
       " background-color: rgba(30,67,77,.5);\n",
       " border: 2px solid rgba(30,67,77,.5);\n",
       " font-weight: normal;\n",
       " box-shadow: none;\n",
       " text-shadow: none;\n",
       " border-radius: 2px;\n",
       " font-size: inherit;\n",
       "}\n",
       "span#login_widget > .button:hover,\n",
       "#logout:hover {\n",
       " color: #839496;\n",
       " background-color: rgba(30,67,77,.9);\n",
       " background: rgba(30,67,77,.9);\n",
       " border-color: rgba(30,67,77,.9);\n",
       " background-image: none;\n",
       " box-shadow: none !important;\n",
       " border-radius: 2px;\n",
       "}\n",
       "span#login_widget > .button:focus,\n",
       "#logout:focus,\n",
       "span#login_widget > .button.focus,\n",
       "#logout.focus,\n",
       "span#login_widget > .button:active,\n",
       "#logout:active,\n",
       "span#login_widget > .button.active,\n",
       "#logout.active,\n",
       ".open > .dropdown-togglespan#login_widget > .button,\n",
       ".open > .dropdown-toggle#logout {\n",
       " color: #cb4b16;\n",
       " background-color: #586e75;\n",
       " background: #586e75;\n",
       " border-color: #586e75;\n",
       " background-image: none;\n",
       " box-shadow: none !important;\n",
       " border-radius: 2px;\n",
       "}\n",
       "body > #header #header-container {\n",
       " padding-bottom: 0px;\n",
       " padding-top: 4px;\n",
       " box-sizing: border-box;\n",
       " -moz-box-sizing: border-box;\n",
       " -webkit-box-sizing: border-box;\n",
       "}\n",
       "body > #header {\n",
       " background: #002b36;\n",
       " background-color: #002b36;\n",
       " position: relative;\n",
       " z-index: 100;\n",
       "}\n",
       ".list_container {\n",
       " font-size: 12.0pt;\n",
       " color: #586e75;\n",
       " border: none;\n",
       " text-shadow: none !important;\n",
       "}\n",
       ".list_container > div {\n",
       " border-bottom: 1px solid rgba(30,67,77,.3);\n",
       " font-size: 12.0pt;\n",
       "}\n",
       ".list_header > div,\n",
       ".list_item > div {\n",
       " padding-left: 0px;\n",
       "}\n",
       ".list_header > div .item_link,\n",
       ".list_item > div .item_link {\n",
       " margin-left: -1px;\n",
       " vertical-align: middle;\n",
       " line-height: 22px;\n",
       " font-size: 12.0pt;\n",
       "}\n",
       ".item_icon {\n",
       " font-size: 12.0pt;\n",
       " vertical-align: middle;\n",
       "}\n",
       ".list_item input:not([type=\"checkbox\"]) {\n",
       " padding-right: 0px;\n",
       " height: auto;\n",
       " width: 20%;\n",
       " margin: 6px 0 0;\n",
       " margin-top: 1px;\n",
       "}\n",
       ".list_header > div .item_link,\n",
       ".list_item > div .item_link {\n",
       " margin-left: -1px;\n",
       " vertical-align: middle;\n",
       " line-height: 22px;\n",
       " font-size: 10.5pt;\n",
       " display: inline-table;\n",
       " position: static;\n",
       "}\n",
       "#button-select-all {\n",
       " height: 34px;\n",
       " min-width: 55px;\n",
       " z-index: 0;\n",
       " border: none !important;\n",
       " padding-top: 0px;\n",
       " padding-bottom: 0px;\n",
       " margin-bottom: 0px;\n",
       " margin-top: 0px;\n",
       " left: -3px;\n",
       " border-radius: 0px !important;\n",
       "}\n",
       "button#tree-selector-btn {\n",
       " height: 34px;\n",
       " font-size: 12.0pt;\n",
       " border: none;\n",
       " left: -3px;\n",
       " border-radius: 0px !important;\n",
       "}\n",
       "input#select-all.pull-left.tree-selector {\n",
       " margin-left: 7px;\n",
       " margin-right: 2px;\n",
       " margin-top: 2px;\n",
       " top: 4px;\n",
       "}\n",
       "input[type=\"radio\"],\n",
       "input[type=\"checkbox\"] {\n",
       " margin-top: 1px;\n",
       " line-height: normal;\n",
       "}\n",
       ".list_container a {\n",
       " font-size: 16px;\n",
       " color: #586e75;\n",
       " border: none;\n",
       " text-shadow: none !important;\n",
       " font-weight: normal;\n",
       " font-style: normal;\n",
       "}\n",
       "div.list_container a:hover {\n",
       " color: #839496;\n",
       "}\n",
       "div.list_item:hover {\n",
       " background-color: rgba(30,67,77,.1);\n",
       "}\n",
       ".breadcrumb > li {\n",
       " font-size: 12.0pt;\n",
       " color: #586e75;\n",
       " border: none;\n",
       " text-shadow: none !important;\n",
       "}\n",
       ".breadcrumb > li + li:before {\n",
       " content: \"/\\00a0\";\n",
       " padding: 0px;\n",
       " color: #586e75;\n",
       " font-size: 18px;\n",
       "}\n",
       "ul#tabs a {\n",
       " font-family: sans-serif;\n",
       " font-size: 13pt;\n",
       " font-weight: normal;\n",
       " font-style: normal;\n",
       " border-color: transparent;\n",
       " text-shadow: none !important;\n",
       "}\n",
       ".nav-tabs {\n",
       " font-family: sans-serif;\n",
       " font-size: 13pt;\n",
       " font-weight: normal;\n",
       " font-style: normal;\n",
       " background: #002b36;\n",
       " text-shadow: none !important;\n",
       " border-color: transparent;\n",
       " border-bottom-color: rgba(30,67,77,.5);\n",
       "}\n",
       ".nav-tabs > li > a:hover {\n",
       " color: #839496;\n",
       " background-color: rgba(30,67,77,.3);\n",
       "}\n",
       ".nav-tabs > li > a:active,\n",
       ".nav-tabs > li > a:focus,\n",
       ".nav-tabs > li.active > a,\n",
       ".nav-tabs > li.active > a:focus,\n",
       ".nav-tabs > li.active > a:hover,\n",
       ".nav-tabs > li.active > a,\n",
       ".nav-tabs > li.active > a:hover,\n",
       ".nav-tabs > li.active > a:focus {\n",
       " color: #cb4b16;\n",
       " background-color: #073642;\n",
       " border: 1px solid transparent;\n",
       " border-bottom-color: transparent;\n",
       " cursor: default;\n",
       "}\n",
       ".nav > li > a:hover,\n",
       ".nav > li > a:focus {\n",
       " text-decoration: none;\n",
       " background-color: rgba(30,67,77,.3);\n",
       " transition: 200ms ease;\n",
       "}\n",
       ".nav > li.disabled > a,\n",
       ".nav > li.disabled > a:hover {\n",
       " color: #586e75;\n",
       "}\n",
       "div#notebook {\n",
       " font-family: sans-serif;\n",
       " font-size: 13pt;\n",
       " padding-top: 4px;\n",
       "}\n",
       ".notebook_app {\n",
       " background-color: #002b36;\n",
       "}\n",
       "#notebook-container {\n",
       " padding: 13px 2px;\n",
       " background-color: #002b36;\n",
       " min-height: 0px;\n",
       " box-shadow: none;\n",
       " width: 980px;\n",
       " margin-right: auto;\n",
       " margin-left: auto;\n",
       "}\n",
       "div#ipython-main-app.container {\n",
       " width: 980px;\n",
       " margin-right: auto;\n",
       " margin-left: auto;\n",
       " margin-right: auto;\n",
       " margin-left: auto;\n",
       "}\n",
       ".container {\n",
       " width: 980px;\n",
       " margin-right: auto;\n",
       " margin-left: auto;\n",
       "}\n",
       "div#menubar-container {\n",
       " width: 100%;\n",
       " width: 980px;\n",
       "}\n",
       "div#header-container {\n",
       " width: 980px;\n",
       "}\n",
       ".notebook_app #header,\n",
       ".edit_app #header {\n",
       " box-shadow: none !important;\n",
       " background-color: #002b36;\n",
       " border-bottom: 2px solid rgba(30,67,77,.3);\n",
       "}\n",
       "#header,\n",
       ".edit_app #header {\n",
       " font-family: sans-serif;\n",
       " font-size: 13pt;\n",
       " box-shadow: none;\n",
       " background-color: #002b36;\n",
       "}\n",
       "#header .header-bar,\n",
       ".edit_app #header .header-bar {\n",
       " background: #002b36;\n",
       " background-color: #002b36;\n",
       "}\n",
       "body > #header .header-bar {\n",
       " width: 100%;\n",
       " background: #002b36;\n",
       "}\n",
       "span.checkpoint_status,\n",
       "span.autosave_status {\n",
       " font-size: small;\n",
       " display: none;\n",
       "}\n",
       "#menubar,\n",
       "div#menubar {\n",
       " background-color: #002b36;\n",
       " padding-top: 0px !important;\n",
       "}\n",
       "#menubar .navbar,\n",
       ".navbar-default {\n",
       " background-color: #002b36;\n",
       " margin-bottom: 0px;\n",
       " margin-top: 0px;\n",
       "}\n",
       ".navbar {\n",
       " border: none;\n",
       "}\n",
       "div.navbar-text,\n",
       ".navbar-text,\n",
       ".navbar-text.indicator_area,\n",
       "p.navbar-text.indicator_area {\n",
       " margin-top: 8px !important;\n",
       " margin-bottom: 0px;\n",
       " color: #586e75;\n",
       "}\n",
       ".navbar-default {\n",
       " font-family: sans-serif;\n",
       " font-size: 13pt;\n",
       " background-color: #002b36;\n",
       " border-color: rgba(30,67,77,.3);\n",
       " line-height: 1.5em;\n",
       " padding-bottom: 0px;\n",
       "}\n",
       ".navbar-default .navbar-nav > li > a {\n",
       " font-family: sans-serif;\n",
       " font-size: 13pt;\n",
       " color: #586e75;\n",
       " display: block;\n",
       " line-height: 1.5em;\n",
       " padding-top: 14px;\n",
       " padding-bottom: 11px;\n",
       "}\n",
       ".navbar-default .navbar-nav > li > a:hover,\n",
       ".navbar-default .navbar-nav > li > a:focus {\n",
       " color: #839496;\n",
       " background-color: rgba(30,67,77,.3);\n",
       " border-color: rgba(30,67,77,.3);\n",
       " line-height: 1.5em;\n",
       " transition: 200ms ease;\n",
       "}\n",
       ".navbar-default .navbar-nav > .open > a,\n",
       ".navbar-default .navbar-nav > .open > a:hover,\n",
       ".navbar-default .navbar-nav > .open > a:focus {\n",
       " color: #cb4b16;\n",
       " background-color: rgba(30,67,77,.3);\n",
       " border-color: rgba(30,67,77,.3);\n",
       " line-height: 1.5em;\n",
       " transition: 200ms ease;\n",
       "}\n",
       ".navbar-nav > li > .dropdown-menu {\n",
       " margin-top: 0px;\n",
       "}\n",
       ".navbar-nav {\n",
       " margin: 0;\n",
       "}\n",
       "div.notification_widget.info,\n",
       ".notification_widget.info,\n",
       ".notification_widget:active:hover,\n",
       ".notification_widget.active:hover,\n",
       ".open > .dropdown-toggle.notification_widget:hover,\n",
       ".notification_widget:active:focus,\n",
       ".notification_widget.active:focus,\n",
       ".open > .dropdown-toggle.notification_widget:focus,\n",
       ".notification_widget:active.focus,\n",
       ".notification_widget.active.focus,\n",
       ".open > .dropdown-toggle.notification_widget.focus,\n",
       "div#notification_notebook.notification_widget.btn.btn-xs.navbar-btn,\n",
       "div#notification_notebook.notification_widget.btn.btn-xs.navbar-btn:hover,\n",
       "div#notification_notebook.notification_widget.btn.btn-xs.navbar-btn:focus {\n",
       " color: #268bd2;\n",
       " background-color: transparent !important;\n",
       " border-color: transparent !important;\n",
       " padding-bottom: 0px !important;\n",
       " margin-bottom: 0px !important;\n",
       " font-size: 8pt;\n",
       " z-index: 0;\n",
       "}\n",
       "div#notification_notebook.notification_widget.btn.btn-xs.navbar-btn {\n",
       " font-size: 8pt;\n",
       " z-index: 0;\n",
       "}\n",
       ".notification_widget {\n",
       " color: #268bd2;\n",
       " z-index: -500;\n",
       " font-size: 8pt;\n",
       " background: transparent;\n",
       " background-color: transparent;\n",
       " margin-right: 3px;\n",
       " border: none;\n",
       "}\n",
       "div.notification_widget.info,\n",
       ".notification_widget.info {\n",
       " display: none !important;\n",
       "}\n",
       ".edit_mode .modal_indicator:before {\n",
       " font-size: 18px;\n",
       " color: #586e75;\n",
       " content: \"E\";\n",
       " opacity: 0.35;\n",
       " padding-bottom: 0px;\n",
       " vertical-align: -webkit-baseline-middle;\n",
       " margin-left: 1px;\n",
       " margin-bottom: 0px;\n",
       "}\n",
       ".command_mode .modal_indicator:before {\n",
       " font-family: sans-serif;\n",
       " font-size: 18px;\n",
       " color: #586e75;\n",
       " content: \"C\";\n",
       " padding-bottom: 0px;\n",
       " vertical-align: -webkit-baseline-middle;\n",
       " margin-left: 1px;\n",
       " margin-bottom: 0px;\n",
       "}\n",
       ".item_icon {\n",
       " color: #268bd2;\n",
       "}\n",
       ".item_buttons .kernel-name {\n",
       " font-size: 13pt;\n",
       " color: #268bd2;\n",
       "}\n",
       ".running_notebook_icon:before {\n",
       " color: #859900 !important;\n",
       " font: normal normal normal 15px/1 FontAwesome;\n",
       " font-size: 15px;\n",
       " text-rendering: auto;\n",
       " -webkit-font-smoothing: antialiased;\n",
       " -moz-osx-font-smoothing: grayscale;\n",
       " content: \"\\f10c\";\n",
       " vertical-align: middle;\n",
       " position: static;\n",
       " display: inherit;\n",
       "}\n",
       ".item_buttons .running-indicator {\n",
       " padding-top: 4px;\n",
       " color: #859900;\n",
       " font-family: sans-serif;\n",
       " text-rendering: auto;\n",
       " -webkit-font-smoothing: antialiased;\n",
       "}\n",
       "#notification_trusted {\n",
       " font-family: sans-serif;\n",
       " font-size: 17px !important;\n",
       " color: #268bd2;\n",
       " border: none;\n",
       " background: transparent;\n",
       " background-color: transparent;\n",
       " margin-bottom: 0px !important;\n",
       " margin-top: 11px !important;\n",
       " vertical-align: middle !important;\n",
       "}\n",
       "#modal_indicator {\n",
       " float: right !important;\n",
       " color: #4c8be2;\n",
       " background: #002b36;\n",
       " background-color: #002b36;\n",
       " margin-top: 8px !important;\n",
       " margin-left: 0px;\n",
       "}\n",
       "#kernel_indicator {\n",
       " float: right !important;\n",
       " color: #586e75;\n",
       " background: #002b36;\n",
       " background-color: #002b36;\n",
       " border-left: 2px solid #586e75;\n",
       " padding-top: 0px;\n",
       " padding-bottom: 4px;\n",
       " margin-top: 8px !important;\n",
       " margin-left: -2px;\n",
       "}\n",
       "#kernel_indicator .kernel_indicator_name {\n",
       " font-size: 17px;\n",
       " color: #586e75;\n",
       " background: #002b36;\n",
       " background-color: #002b36;\n",
       " padding-left: 5px;\n",
       " padding-right: 5px;\n",
       " margin-top: 4px;\n",
       " vertical-align: -webkit-baseline-middle;\n",
       " padding-bottom: 0px;\n",
       "}\n",
       ".kernel_idle_icon:before {\n",
       " display: inline-block;\n",
       " font: normal normal normal 22px/1 FontAwesome;\n",
       " font-size: 22px;\n",
       " text-rendering: auto;\n",
       " -webkit-font-smoothing: antialiased;\n",
       " cursor: pointer;\n",
       " margin-left: 0px !important;\n",
       " opacity: 0.7;\n",
       " vertical-align: middle;\n",
       " margin-top: 1px;\n",
       " content: \"\\f1db\";\n",
       "}\n",
       ".kernel_busy_icon:before {\n",
       " display: inline-block;\n",
       " font: normal normal normal 22px/1 FontAwesome;\n",
       " font-size: 22px;\n",
       " -webkit-animation: pulsate 2s infinite ease-out;\n",
       " animation: pulsate 2s infinite ease-out;\n",
       " text-rendering: auto;\n",
       " -webkit-font-smoothing: antialiased;\n",
       " cursor: pointer;\n",
       " margin-left: 0px !important;\n",
       " vertical-align: middle;\n",
       " margin-top: 1px;\n",
       " content: \"\\f111\";\n",
       "}\n",
       "@-webkit-keyframes pulsate {\n",
       " 0% {\n",
       "  -webkit-transform: scale(1.0,1.0);\n",
       "  opacity: 0.8;\n",
       " }\n",
       " 8% {\n",
       "  -webkit-transform: scale(1.0,1.0);\n",
       "  opacity: 0.8;\n",
       " }\n",
       " 50% {\n",
       "  -webkit-transform: scale(0.75,0.75);\n",
       "  opacity: 0.3;\n",
       " }\n",
       " 92% {\n",
       "  -webkit-transform: scale(1.0,1.0);\n",
       "  opacity: 0.8;\n",
       " }\n",
       " 100% {\n",
       "  -webkit-transform: scale(1.0,1.0);\n",
       "  opacity: 0.8;\n",
       " }\n",
       "}\n",
       "i#kernel_indicator_icon {\n",
       " vertical-align: sub;\n",
       "}\n",
       "div.notification_widget.info,\n",
       ".notification_widget.info,\n",
       ".notification_widget:active:hover,\n",
       ".notification_widget.active:hover,\n",
       ".open > .dropdown-toggle.notification_widget:hover,\n",
       ".notification_widget:active:focus,\n",
       ".notification_widget.active:focus,\n",
       ".open > .dropdown-toggle.notification_widget:focus,\n",
       ".notification_widget:active.focus,\n",
       ".notification_widget.active.focus,\n",
       ".open > .dropdown-toggle.notification_widget.focus,\n",
       "div#notification_notebook.notification_widget.btn.btn-xs.navbar-btn,\n",
       "div#notification_notebook.notification_widget.btn.btn-xs.navbar-btn:hover,\n",
       "div#notification_notebook.notification_widget.btn.btn-xs.navbar-btn:focus {\n",
       " color: #268bd2;\n",
       " background-color: #002b36;\n",
       " border-color: #002b36;\n",
       "}\n",
       "#notification_area,\n",
       "div.notification_area {\n",
       " float: right !important;\n",
       " position: static;\n",
       "}\n",
       ".notification_widget,\n",
       "div.notification_widget {\n",
       " margin-right: 0px;\n",
       " margin-left: 0px;\n",
       " padding-right: 0px;\n",
       " vertical-align: text-top !important;\n",
       " margin-top: 6px !important;\n",
       " z-index: 1000;\n",
       "}\n",
       "#kernel_logo_widget,\n",
       "#kernel_logo_widget .current_kernel_logo {\n",
       " display: none;\n",
       "}\n",
       "div#ipython_notebook {\n",
       " display: none;\n",
       "}\n",
       "i.fa.fa-icon {\n",
       " -webkit-font-smoothing: antialiased;\n",
       " -moz-osx-font-smoothing: grayscale;\n",
       " text-rendering: auto;\n",
       "}\n",
       ".fa {\n",
       " display: inline-block;\n",
       " font: normal normal normal 10pt/1 \"FontAwesome\", sans-serif;\n",
       " text-rendering: auto;\n",
       " -webkit-font-smoothing: antialiased;\n",
       " -moz-osx-font-smoothing: grayscale;\n",
       "}\n",
       ".dropdown-menu {\n",
       " font-family: sans-serif;\n",
       " font-size: 13pt;\n",
       " box-shadow: none;\n",
       " padding: 0px;\n",
       " text-align: left;\n",
       " border: 2px solid rgba(30,67,77,.5);\n",
       " background-color: #002b36;\n",
       " background: #002b36;\n",
       " line-height: 1;\n",
       "}\n",
       ".dropdown-menu:hover {\n",
       " font-family: sans-serif;\n",
       " font-size: 13pt;\n",
       " box-shadow: none;\n",
       " padding: 0px;\n",
       " text-align: left;\n",
       " border: 2px solid rgba(30,67,77,.5);\n",
       " background-color: #002b36;\n",
       " box-shadow: none;\n",
       " line-height: 1;\n",
       "}\n",
       ".dropdown-menu > li > a {\n",
       " font-family: sans-serif;\n",
       " font-size: 12.0pt;\n",
       " line-height: 1.1;\n",
       " display: block;\n",
       " padding: 10px 20px 9px 10px;\n",
       " color: #586e75;\n",
       " background-color: #002b36;\n",
       " background: #002b36;\n",
       "}\n",
       ".dropdown-menu > li > a:hover,\n",
       ".dropdown-menu > li > a:focus {\n",
       " color: #839496;\n",
       " background-color: rgba(30,67,77,.3);\n",
       " background: rgba(30,67,77,.3);\n",
       " border-color: rgba(30,67,77,.3);\n",
       " transition: 200ms ease;\n",
       "}\n",
       ".dropdown-menu .divider {\n",
       " height: 1px;\n",
       " margin: 0px 0px;\n",
       " overflow: hidden;\n",
       " background-color: rgba(30,67,77,.5);\n",
       "}\n",
       ".dropdown-submenu > .dropdown-menu {\n",
       " top: 0px;\n",
       " left: 100%;\n",
       " margin-top: -2px;\n",
       " margin-left: 0px;\n",
       " padding-top: 0px;\n",
       " transition: 200ms ease;\n",
       "}\n",
       ".dropdown-menu > .disabled > a,\n",
       ".dropdown-menu > .disabled > a:hover,\n",
       ".dropdown-menu > .disabled > a:focus {\n",
       " font-family: sans-serif;\n",
       " font-size: 12.0pt;\n",
       " font-weight: normal;\n",
       " color: #586e75;\n",
       " padding: none;\n",
       " display: block;\n",
       " clear: both;\n",
       " line-height: 1.1;\n",
       " white-space: nowrap;\n",
       "}\n",
       ".dropdown-submenu > a:after {\n",
       " color: #586e75;\n",
       " margin-right: -16px;\n",
       " margin-top: 0px;\n",
       "}\n",
       ".dropdown-submenu:hover > a:after,\n",
       ".dropdown-submenu:active > a:after,\n",
       ".dropdown-submenu:focus > a:after,\n",
       ".dropdown-submenu:visited > a:after {\n",
       " color: #586e75;\n",
       " margin-right: -16px;\n",
       "}\n",
       "div.kse-dropdown > .dropdown-menu,\n",
       ".kse-dropdown > .dropdown-menu {\n",
       " min-width: 0;\n",
       " top: 94%;\n",
       "}\n",
       ".btn,\n",
       ".btn-default {\n",
       " font-family: sans-serif;\n",
       " color: #586e75;\n",
       " background: rgba(30,67,77,.5);\n",
       " background-color: rgba(30,67,77,.5);\n",
       " border: 1px solid rgba(30,67,77,.5);\n",
       " font-weight: normal;\n",
       " box-shadow: none;\n",
       " text-shadow: none;\n",
       " border-radius: 2px;\n",
       " font-size: inherit;\n",
       "}\n",
       ".btn:hover,\n",
       ".btn:active:hover,\n",
       ".btn.active:hover,\n",
       ".btn-default:hover,\n",
       ".open > .dropdown-toggle.btn-default:hover,\n",
       ".open > .dropdown-toggle.btn:hover {\n",
       " color: #839496;\n",
       " border: 1px solid rgba(30,67,77,.9);\n",
       " background-color: rgba(30,67,77,.9);\n",
       " background: rgba(30,67,77,.9);\n",
       " background-image: none;\n",
       " box-shadow: none !important;\n",
       " border-radius: 2px;\n",
       " transition: 200ms ease;\n",
       "}\n",
       ".btn:active,\n",
       ".btn.active,\n",
       ".btn:active:focus,\n",
       ".btn.active:focus,\n",
       ".btn:active.focus,\n",
       ".btn.active.focus,\n",
       ".btn-default:focus,\n",
       ".btn-default.focus,\n",
       ".btn-default:active,\n",
       ".btn-default.active,\n",
       ".btn-default:active:hover,\n",
       ".btn-default.active:hover,\n",
       ".btn-default:active:focus,\n",
       ".btn-default.active:focus,\n",
       ".btn-default:active.focus,\n",
       ".btn-default.active.focus,\n",
       ".open > .dropdown-toggle.btn:focus,\n",
       ".open > .dropdown-toggle.btn.focus,\n",
       ".open > .dropdown-toggle.btn-default {\n",
       " color: #cb4b16;\n",
       " border: 1px solid rgba(30,67,77,.5);\n",
       " background-color: rgba(30,67,77,.5);\n",
       " background: rgba(30,67,77,.5);\n",
       " border-color: rgba(30,67,77,.5);\n",
       " background-image: none;\n",
       " box-shadow: none !important;\n",
       " border-radius: 2px;\n",
       " transition: 200ms ease;\n",
       "}\n",
       ".item_buttons > .btn,\n",
       ".item_buttons > .btn-group,\n",
       ".item_buttons > .input-group {\n",
       " margin-left: 5px;\n",
       " background: #002731;\n",
       " background-color: #002731;\n",
       " border: 1px solid #002731;\n",
       "}\n",
       ".item_buttons > .btn:hover,\n",
       ".item_buttons > .btn-group:hover,\n",
       ".item_buttons > .input-group:hover {\n",
       " margin-left: 5px;\n",
       " background: #001f27;\n",
       " background-color: #001f27;\n",
       " border: 1px solid #001f27;\n",
       " transition: 200ms ease;\n",
       "}\n",
       ".btn-group > .btn-mini,\n",
       ".btn-sm,\n",
       ".btn-group-sm > .btn,\n",
       ".btn-xs,\n",
       ".btn-group-xs > .btn,\n",
       ".alternate_upload .btn-upload,\n",
       ".btn-group,\n",
       ".btn-group-vertical {\n",
       " font-size: 12.0pt;\n",
       " font-weight: normal;\n",
       " height: inherit;\n",
       "}\n",
       ".btn-xs,\n",
       ".btn-group-xs > .btn {\n",
       " font-size: 12.0pt;\n",
       " background-image: none;\n",
       " font-weight: normal;\n",
       " text-shadow: none;\n",
       " display: inline-table;\n",
       "}\n",
       ".btn-group > .btn:first-child {\n",
       " margin-left: 3px;\n",
       "}\n",
       ".alternate_upload input.fileinput {\n",
       " text-align: center;\n",
       " vertical-align: bottom;\n",
       " margin-left: -.5ex;\n",
       " display: inline-table;\n",
       " border: solid 0px rgba(30,67,77,.5);\n",
       " margin-bottom: -1ex;\n",
       "}\n",
       ".alternate_upload .btn-upload {\n",
       " display: inline-table;\n",
       "}\n",
       ".dropdown-header {\n",
       " font-family: sans-serif !important;\n",
       " font-size: 13pt !important;\n",
       " color: #586e75 !important;\n",
       " border-bottom: none !important;\n",
       " padding: 0px !important;\n",
       " margin: 6px 6px 0px !important;\n",
       "}\n",
       "span#last-modified.btn.btn-xs.btn-default.sort-action,\n",
       "span#sort-name.btn.btn-xs.btn-default.sort-action {\n",
       " font-family: sans-serif;\n",
       " font-size: 16px;\n",
       " background-color: transparent;\n",
       " background: transparent;\n",
       " border: none;\n",
       " padding-bottom: 0px;\n",
       " margin-bottom: 0px;\n",
       " vertical-align: sub;\n",
       "}\n",
       "span#last-modified.btn.btn-xs.btn-default.sort-action {\n",
       " margin-left: 19px;\n",
       "}\n",
       "button.close {\n",
       " border: 0px none;\n",
       " font-family: sans-serif;\n",
       " font-size: 20pt;\n",
       " font-weight: normal;\n",
       "}\n",
       ".dynamic-buttons {\n",
       " font-size: 15px;\n",
       " padding-top: 0px;\n",
       " display: inline-block;\n",
       "}\n",
       ".close {\n",
       " color: #dc322f;\n",
       " opacity: .5;\n",
       " text-shadow: none;\n",
       " font-weight: normal;\n",
       "}\n",
       ".close:hover {\n",
       " color: #dc322f;\n",
       " opacity: 1;\n",
       " font-weight: normal;\n",
       "}\n",
       "div.nbext-enable-btns .btn[disabled],\n",
       "div.nbext-enable-btns .btn[disabled]:hover,\n",
       ".btn-default.disabled,\n",
       ".btn-default[disabled],\n",
       ".btn-default.disabled:hover,\n",
       ".btn-default[disabled]:hover,\n",
       "fieldset[disabled] .btn-default:hover,\n",
       ".btn-default.disabled:focus,\n",
       ".btn-default[disabled]:focus,\n",
       "fieldset[disabled] .btn-default:focus,\n",
       ".btn-default.disabled.focus,\n",
       ".btn-default[disabled].focus,\n",
       "fieldset[disabled] .btn-default.focus {\n",
       " color: #93a1a1;\n",
       " background: darken(rgba(30,67,77,.5),1%);\n",
       " background-color: darken(rgba(30,67,77,.5),1%);\n",
       " border-color: darken(rgba(30,67,77,.5),1%);\n",
       " transition: 200ms ease;\n",
       "}\n",
       ".input-group-addon {\n",
       " padding: 2px 5px;\n",
       " font-size: 12.0pt;\n",
       " font-weight: normal;\n",
       " height: auto;\n",
       " color: #586e75;\n",
       " text-align: center;\n",
       " background-color: #084150;\n",
       " border: none;\n",
       "}\n",
       ".btn-group > .btn + .dropdown-toggle {\n",
       " padding-left: 8px;\n",
       " padding-right: 8px;\n",
       " height: 100%;\n",
       " border-left: 2px solid #586e75 !important;\n",
       "}\n",
       ".btn-group > .btn + .dropdown-toggle:hover {\n",
       " border-left: 2px solid #586e75 !important;\n",
       "}\n",
       ".input-group-btn {\n",
       " position: relative;\n",
       " font-size: inherit;\n",
       " white-space: nowrap;\n",
       " background: #002731;\n",
       " background-color: #002731;\n",
       " border: none;\n",
       "}\n",
       ".input-group-btn:hover {\n",
       " background: #001f27;\n",
       " background-color: #001f27;\n",
       " border: none;\n",
       "}\n",
       ".input-group-btn:first-child > .btn,\n",
       ".input-group-btn:first-child > .btn-group {\n",
       " background: #002731;\n",
       " background-color: #002731;\n",
       " border: none;\n",
       " margin: 2px;\n",
       " font-size: inherit;\n",
       "}\n",
       ".input-group-btn:first-child > .btn:hover,\n",
       ".input-group-btn:first-child > .btn-group:hover {\n",
       " background: #001f27;\n",
       " background-color: #001f27;\n",
       " border: none;\n",
       " margin: 2px;\n",
       " font-size: inherit;\n",
       " transition: 200ms ease;\n",
       "}\n",
       "div.modal .btn-group > .btn:first-child {\n",
       " background: #002731;\n",
       " background-color: #002731;\n",
       " border: 1px solid #00232c;\n",
       " margin-top: 0px !important;\n",
       " margin-left: 0px;\n",
       " margin-bottom: 2px;\n",
       "}\n",
       "div.modal .btn-group > .btn:first-child:hover {\n",
       " background: #001f27;\n",
       " background-color: #001f27;\n",
       " border: 1px solid #001f27;\n",
       " transition: 200ms ease;\n",
       "}\n",
       "div.modal > button,\n",
       "div.modal-footer > button {\n",
       " background: #002731;\n",
       " background-color: #002731;\n",
       " border-color: #002731;\n",
       "}\n",
       "div.modal > button:hover,\n",
       "div.modal-footer > button:hover {\n",
       " background: #001f27;\n",
       " background-color: #001f27;\n",
       " border-color: #001f27;\n",
       " transition: 200ms ease;\n",
       "}\n",
       ".modal-content {\n",
       " font-family: sans-serif;\n",
       " font-size: 12.0pt;\n",
       " position: relative;\n",
       " background: #002731;\n",
       " background-color: #002731;\n",
       " border: none;\n",
       " border-radius: 1px;\n",
       " background-clip: padding-box;\n",
       " outline: none;\n",
       "}\n",
       ".modal-header {\n",
       " font-family: sans-serif;\n",
       " font-size: 13pt;\n",
       " color: #586e75;\n",
       " background: #002731;\n",
       " background-color: #002731;\n",
       " border-color: rgba(30,67,77,.5);\n",
       " padding: 12px;\n",
       " min-height: 16.4286px;\n",
       "}\n",
       ".modal-content h4 {\n",
       " font-family: sans-serif;\n",
       " font-size: 16pt;\n",
       " color: #586e75;\n",
       " padding: 5px;\n",
       "}\n",
       ".modal-body {\n",
       " background-color: #073642;\n",
       " position: relative;\n",
       " padding: 15px;\n",
       "}\n",
       ".modal-footer {\n",
       " padding: 10px;\n",
       " text-align: right;\n",
       " background-color: #073642;\n",
       " border-top: 1px solid rgba(30,67,77,.5);\n",
       "}\n",
       ".alert-info {\n",
       " background-color: #073642;\n",
       " border-color: rgba(30,67,77,.5);\n",
       " color: #586e75;\n",
       "}\n",
       ".modal-header .close {\n",
       " margin-top: -5px;\n",
       " font-size: 25pt;\n",
       "}\n",
       ".modal-backdrop,\n",
       ".modal-backdrop.in {\n",
       " opacity: 0.7;\n",
       " background-color: #c4c4c4;\n",
       "}\n",
       "div.panel,\n",
       "div.panel-default,\n",
       ".panel,\n",
       ".panel-default {\n",
       " font-family: sans-serif;\n",
       " font-size: 12.0pt;\n",
       " background-color: #073642;\n",
       " color: #586e75;\n",
       " margin-bottom: 14px;\n",
       " border: 0;\n",
       " box-shadow: none;\n",
       "}\n",
       "div.panel > .panel-heading,\n",
       "div.panel-default > .panel-heading {\n",
       " font-size: 14pt;\n",
       " color: #586e75;\n",
       " background: #002731;\n",
       " background-color: #002731;\n",
       " border: 0;\n",
       "}\n",
       ".modal .modal-dialog {\n",
       " min-width: 950px;\n",
       " margin: 50px auto;\n",
       "}\n",
       "div.container-fluid {\n",
       " margin-right: auto;\n",
       " margin-left: auto;\n",
       " padding-left: 0px;\n",
       " padding-right: 5px;\n",
       "}\n",
       "div.form-control,\n",
       ".form-control {\n",
       " font-family: sans-serif;\n",
       " font-size: inherit;\n",
       " color: #586e75;\n",
       " background-color: #084150;\n",
       " border: 2px solid #052730;\n",
       " margin-left: 2px;\n",
       " height: auto;\n",
       " box-shadow: none;\n",
       " padding: 6px 12px;\n",
       " transition: border-color 0.15s ease-in-out 0s, box-shadow 0.15s ease-in-out 0s;\n",
       "}\n",
       ".form-group.list-group-item {\n",
       " color: #586e75;\n",
       " background-color: #073642;\n",
       " border-color: rgba(30,67,77,.5);\n",
       " margin-bottom: 0px;\n",
       "}\n",
       "input,\n",
       "button,\n",
       "select,\n",
       "textarea {\n",
       " background-color: #084150;\n",
       " font-weight: normal;\n",
       " border: 1px solid rgba(30,67,77,.5);\n",
       "}\n",
       "select.form-control.select-xs {\n",
       " height: auto;\n",
       "}\n",
       ".form-control:focus {\n",
       " border-color: #586e75;\n",
       " outline: 0;\n",
       " -webkit-box-shadow: inset 0 1px 1px rgba(0,0,0,.075), 0 0 8px #084552;\n",
       " box-shadow: inset 0 1px 1px rgba(0,0,0,.075), 0 0 8px #084552;\n",
       "}\n",
       "::-webkit-input-placeholder {\n",
       " color: #586e75;\n",
       "}\n",
       "::-moz-placeholder {\n",
       " color: #586e75;\n",
       "}\n",
       ":-ms-input-placeholder {\n",
       " color: #586e75;\n",
       "}\n",
       ":-moz-placeholder {\n",
       " color: #586e75;\n",
       "}\n",
       "[dir=\"ltr\"] #find-and-replace .input-group-btn + .form-control {\n",
       " border-left: 2px solid rgba(30,67,77,.5) !important;\n",
       "}\n",
       "[dir=\"ltr\"] #find-and-replace .input-group-btn + .form-control:focus {\n",
       " border-left-color: #586e75 !important;\n",
       " outline: 0;\n",
       " -webkit-box-shadow: inset 0 1px 1px rgba(0,0,0,.075), 0 0 8px #084552 !important;\n",
       " box-shadow: inset 0 1px 1px rgba(0,0,0,.075), 0 0 8px #084552 !important;\n",
       "}\n",
       "div.output.output_scroll {\n",
       " box-shadow: none;\n",
       "}\n",
       "::-webkit-scrollbar {\n",
       " width: 11px;\n",
       " max-height: 9px;\n",
       " background-color: #004355;\n",
       " border-radius: 3px;\n",
       " border: none;\n",
       "}\n",
       "::-webkit-scrollbar-track {\n",
       " background: #004355;\n",
       " border: none;\n",
       " width: 11px;\n",
       " max-height: 9px;\n",
       "}\n",
       "::-webkit-scrollbar-thumb {\n",
       " border-radius: 2px;\n",
       " border: none;\n",
       " background: #586e75;\n",
       " background-clip: content-box;\n",
       " width: 11px;\n",
       "}\n",
       "HTML,\n",
       "body,\n",
       "div,\n",
       "dl,\n",
       "dt,\n",
       "dd,\n",
       "ul,\n",
       "ol,\n",
       "li,\n",
       "h1,\n",
       "h2,\n",
       "h3,\n",
       "h4,\n",
       "h5,\n",
       "h6,\n",
       "pre,\n",
       "code,\n",
       "form,\n",
       "fieldset,\n",
       "legend,\n",
       "input,\n",
       "button,\n",
       "textarea,\n",
       "p,\n",
       "blockquote,\n",
       "th,\n",
       "td,\n",
       "span,\n",
       "a {\n",
       " text-rendering: auto;\n",
       " -webkit-font-smoothing: antialiased;\n",
       "}\n",
       "div.input_area {\n",
       " background-color: #073642;\n",
       " background: #073642;\n",
       " padding-right: 1.2em;\n",
       " border: 0px;\n",
       " border-radius: 2px;\n",
       "}\n",
       "div.cell {\n",
       " padding: 0px;\n",
       " background: #073642;\n",
       " background-color: #073642;\n",
       " border: medium solid #002b36;\n",
       " border-radius: 2px;\n",
       " top: 0;\n",
       " border-top-left-radius: 4px;\n",
       "}\n",
       "div.cell.selected {\n",
       " background: #073642;\n",
       " background-color: #073642;\n",
       " border: medium solid #002b36;\n",
       " padding: 0px;\n",
       "}\n",
       ".edit_mode div.cell.selected {\n",
       " padding: 0px;\n",
       " background: #073642;\n",
       " background-color: #073642;\n",
       " border: medium solid #002b36;\n",
       "}\n",
       "div.cell.edit_mode {\n",
       " padding: 0px;\n",
       " background: #073642;\n",
       " background-color: #073642;\n",
       "}\n",
       "div.CodeMirror-sizer {\n",
       " margin-left: 0px;\n",
       " margin-bottom: -21px;\n",
       " border-right-width: 16px;\n",
       " min-height: 37px;\n",
       " padding-right: 0px;\n",
       " padding-bottom: 0px;\n",
       " margin-top: 0px;\n",
       "}\n",
       "div.cell.selected:before {\n",
       " background: #0b6073;\n",
       " border: 2px solid #0b6073;\n",
       " border-top-left-radius: 2px;\n",
       " border-bottom-left-radius: 4px;\n",
       " position: absolute;\n",
       " display: block;\n",
       " top: 0px;\n",
       " left: 0px;\n",
       " width: 5px;\n",
       " height: 100%;\n",
       "}\n",
       "div.cell.selected.jupyter-soft-selected:before,\n",
       ".edit_mode div.cell.selected:before {\n",
       " background: #084552;\n",
       " border: 2px solid #084552;\n",
       " border-top-left-radius: 2px;\n",
       " border-bottom-left-radius: 2px;\n",
       " position: absolute;\n",
       " display: block;\n",
       " top: 0px;\n",
       " left: 0px;\n",
       " width: 5px;\n",
       " height: 100%;\n",
       "}\n",
       "div.cell.jupyter-soft-selected,\n",
       "div.cell.selected.jupyter-soft-selected {\n",
       " border-left-color: #084552;\n",
       " border-left-width: 0px;\n",
       " padding-left: 7px;\n",
       " border-right-color: #084552;\n",
       " border-right-width: 0px;\n",
       " background: #084552;\n",
       " border-radius: 6px;\n",
       "}\n",
       "div.cell.selected.jupyter-soft-selected {\n",
       " border-left-color: #0b6073;\n",
       " border-color: #002b36;\n",
       " padding-left: 7px;\n",
       " border-radius: 6px;\n",
       "}\n",
       "div.cell.selected.jupyter-soft-selected .prompt,\n",
       "div.cell.text_cell.selected.jupyter-soft-selected .prompt {\n",
       " top: 0;\n",
       " border-left: #073642 !important;\n",
       " border-radius: 2px;\n",
       "}\n",
       "div.cell.text_cell.selected.jupyter-soft-selected .input_prompt {\n",
       " border-left: none !important;\n",
       "}\n",
       "div.cell.text_cell.selected.jupyter-soft-selected:before {\n",
       " background: #a38012 !important;\n",
       " border: 2px solid #a38012 !important;\n",
       " border-radius: 6px !important;\n",
       " position: absolute !important;\n",
       " display: block !important;\n",
       " top: 0px !important;\n",
       " left: 0px !important;\n",
       " width: 6px !important;\n",
       " height: 100% !important;\n",
       "}\n",
       "div.cell.text_cell.jupyter-soft-selected,\n",
       "div.cell.text_cell.selected.jupyter-soft-selected {\n",
       " border-left-color: #a38012 !important;\n",
       " border-left-width: 0px !important;\n",
       " padding-left: 7px !important;\n",
       " border-right-color: #a38012 !important;\n",
       " border-right-width: 0px !important;\n",
       " background: #a38012 !important;\n",
       " border-radius: 6px !important;\n",
       "}\n",
       "div.prompt,\n",
       ".prompt {\n",
       " font-family: monospace, monospace;\n",
       " font-size: 9pt !important;\n",
       " font-weight: normal;\n",
       " color: #586e75;\n",
       " line-height: 170%;\n",
       " padding: 0px;\n",
       " padding-top: 4px;\n",
       " padding-left: 0px;\n",
       " padding-right: 1px;\n",
       " text-align: right !important;\n",
       " min-width: 12.5ex !important;\n",
       " width: 12.5ex !important;\n",
       "}\n",
       "div.prompt.input_prompt {\n",
       " font-size: 9pt !important;\n",
       " background-color: #073642;\n",
       " border-top: 0px;\n",
       " border-top-right-radius: 0px;\n",
       " border-bottom-left-radius: 0px;\n",
       " border-bottom-right-radius: 0px;\n",
       " padding-right: 3px;\n",
       " min-width: 12.5ex;\n",
       " width: 12.5ex !important;\n",
       "}\n",
       "div.cell.code_cell .input_prompt {\n",
       " border-right: 2px solid #084552;\n",
       "}\n",
       "div.cell.selected .prompt {\n",
       " top: 0;\n",
       " border-left: 5px solid #0b6073;\n",
       " border-radius: 2px;\n",
       "}\n",
       ".edit_mode div.cell.selected .prompt {\n",
       " top: 0;\n",
       " border-left: 5px solid #084552;\n",
       " border-radius: 2px;\n",
       "}\n",
       ".edit_mode div.cell.selected .prompt {\n",
       " top: 0;\n",
       " border-left: 5px solid #084552;\n",
       " border-radius: 2px;\n",
       "}\n",
       "div.output_wrapper {\n",
       " background-color: #002b36;\n",
       " border: 0px;\n",
       " left: 0px;\n",
       " margin-bottom: 0em;\n",
       " margin-top: 0em;\n",
       " border-top-right-radius: 0px;\n",
       " border-top-left-radius: 0px;\n",
       "}\n",
       "div.output_subarea.output_text.output_stream.output_stdout,\n",
       "div.output_subarea.output_text {\n",
       " font-family: monospace, monospace;\n",
       " font-size: 8.5pt !important;\n",
       " line-height: 150% !important;\n",
       " background-color: #002b36;\n",
       " color: #586e75;\n",
       " border-top-right-radius: 0px;\n",
       " border-top-left-radius: 0px;\n",
       "}\n",
       "div.output_area pre {\n",
       " font-family: monospace, monospace;\n",
       " font-size: 8.5pt !important;\n",
       " line-height: 151% !important;\n",
       " color: #586e75;\n",
       " border-top-right-radius: 0px;\n",
       " border-top-left-radius: 0px;\n",
       "}\n",
       "div.output_area {\n",
       " display: -webkit-box;\n",
       "}\n",
       "div.output_html {\n",
       " font-family: monospace, monospace;\n",
       " font-size: 8.5pt;\n",
       " color: #586e75;\n",
       " background-color: #002b36;\n",
       " background: #002b36;\n",
       "}\n",
       "div.output_subarea {\n",
       " overflow-x: auto;\n",
       " padding: 0.3em;\n",
       " -webkit-box-flex: 1;\n",
       " -moz-box-flex: 1;\n",
       " box-flex: 1;\n",
       " flex: 1;\n",
       "}\n",
       "div.btn.btn-default.output_collapsed {\n",
       " background: #001318;\n",
       " background-color: #001318;\n",
       " border-color: #001318;\n",
       "}\n",
       "div.btn.btn-default.output_collapsed:hover {\n",
       " background: #000b0d;\n",
       " background-color: #000b0d;\n",
       " border-color: #000b0d;\n",
       "}\n",
       "div.prompt.output_prompt {\n",
       " font-family: monospace, monospace;\n",
       " font-size: 9pt !important;\n",
       " background-color: #002b36;\n",
       " color: transparent;\n",
       " border-bottom-left-radius: 4px;\n",
       " border-top-right-radius: 0px;\n",
       " border-top-left-radius: 0px;\n",
       " border-bottom-right-radius: 0px;\n",
       " min-width: 12.5ex !important;\n",
       " width: 12.5ex !important;\n",
       " border-right: 2px solid #084552 !important;\n",
       "}\n",
       "div.out_prompt_overlay.prompt {\n",
       " font-family: monospace, monospace;\n",
       " font-size: 9pt !important;\n",
       " background-color: #002b36;\n",
       " border-bottom-left-radius: 2px;\n",
       " border-top-right-radius: 0px;\n",
       " border-top-left-radius: 0px;\n",
       " border-bottom-right-radius: 0px;\n",
       " min-width: 12.5ex !important;\n",
       " width: 12.5ex !important;\n",
       " border-right: 2px solid #084552 !important;\n",
       " color: transparent;\n",
       "}\n",
       "div.out_prompt_overlay.prompt:hover {\n",
       " background-color: #002b36;\n",
       " box-shadow: #05262f 2px 1px 1px 2px inset;\n",
       " border: none;\n",
       " border-bottom-left-radius: 2px;\n",
       " -webkit-border-: 2px;\n",
       " -moz-border-radius: 2px;\n",
       " border-top-right-radius: 0px;\n",
       " border-top-left-radius: 0px;\n",
       " min-width: 12.5ex !important;\n",
       " width: 12.5ex !important;\n",
       " border-right: 2px solid #084552 !important;\n",
       "}\n",
       "div.cell.code_cell .output_prompt {\n",
       " border-right: 2px solid 2px solid #084552 !important;\n",
       " color: transparent;\n",
       "}\n",
       "div.cell.selected .output_prompt,\n",
       "div.cell.selected .out_prompt_overlay.prompt {\n",
       " border-left: 5px solid #0b6073;\n",
       " border-radius: 0px !important;\n",
       "}\n",
       ".edit_mode div.cell.selected .output_prompt,\n",
       ".edit_mode div.cell.selected .out_prompt_overlay.prompt {\n",
       " border-left: 5px solid #084552 !important;\n",
       " border-radius: 0px !important;\n",
       "}\n",
       "div.text_cell,\n",
       "div.text_cell_render pre,\n",
       "div.text_cell_render {\n",
       " font-family: sans-serif;\n",
       " font-size: 13pt;\n",
       " line-height: 130% !important;\n",
       " color: #586e75;\n",
       " background: #073642;\n",
       " background-color: #073642;\n",
       " border-radius: 0px;\n",
       "}\n",
       "div .text_cell_render {\n",
       " padding: 0.4em 0.4em 0em 0.4em;\n",
       "}\n",
       "div.cell.text_cell .CodeMirror-lines {\n",
       " padding-top: .7em !important;\n",
       " padding-bottom: .4em !important;\n",
       " padding-left: .5em !important;\n",
       " padding-right: .5em !important;\n",
       " margin-top: .4em;\n",
       " margin-bottom: .3em;\n",
       "}\n",
       "div.cell.text_cell.unrendered div.input_area,\n",
       "div.cell.text_cell.rendered div.input_area {\n",
       " background-color: #073642;\n",
       " background: #073642;\n",
       " border: 0px;\n",
       " border-radius: 2px;\n",
       "}\n",
       "div.cell.text_cell .CodeMirror,\n",
       "div.cell.text_cell .CodeMirror pre {\n",
       " line-height: 170% !important;\n",
       "}\n",
       "div.cell.text_cell.rendered.selected {\n",
       " font-family: sans-serif;\n",
       " line-height: 170% !important;\n",
       " background: #073642;\n",
       " background-color: #073642;\n",
       " border-radius: 0px;\n",
       "}\n",
       "div.cell.text_cell.unrendered.selected {\n",
       " font-family: sans-serif;\n",
       " line-height: 170% !important;\n",
       " background: #073642;\n",
       " background-color: #073642;\n",
       " border-radius: 0px;\n",
       "}\n",
       "div.cell.text_cell.selected {\n",
       " font-family: sans-serif;\n",
       " line-height: 170% !important;\n",
       " background: #073642;\n",
       " background-color: #073642;\n",
       " border-radius: 0px;\n",
       "}\n",
       ".edit_mode div.cell.text_cell.selected {\n",
       " font-family: sans-serif;\n",
       " line-height: 170% !important;\n",
       " background: #073642;\n",
       " background-color: #073642;\n",
       " border-radius: 0px;\n",
       "}\n",
       "div.text_cell.unrendered,\n",
       "div.text_cell.unrendered.selected,\n",
       "div.edit_mode div.text_cell.unrendered {\n",
       " font-family: sans-serif;\n",
       " line-height: 170% !important;\n",
       " background: #073642;\n",
       " background-color: #073642;\n",
       " border-radius: 0px;\n",
       "}\n",
       "div.cell.text_cell.selected:before {\n",
       " background: #b58900;\n",
       " border: 2px solid #b58900;\n",
       " border-top-left-radius: 2px;\n",
       " border-bottom-left-radius: 2px;\n",
       " position: absolute;\n",
       " display: block;\n",
       " top: 0px;\n",
       " left: 0px;\n",
       " width: 5px;\n",
       " height: 100%;\n",
       "}\n",
       ".edit_mode div.cell.text_cell.selected:before {\n",
       " background: #a38012;\n",
       " border: 2px solid #a38012;\n",
       " border-top-left-radius: 2px;\n",
       " border-bottom-left-radius: 2px;\n",
       " position: absolute;\n",
       " display: block;\n",
       " top: 0px;\n",
       " left: 0px;\n",
       " width: 5px;\n",
       " height: 100%;\n",
       "}\n",
       "div.cell.text_cell .input_prompt {\n",
       " border-right: 0;\n",
       "}\n",
       "div.cell.text_cell.rendered .input_prompt {\n",
       " font-family: monospace, monospace;\n",
       " font-size: 9.5pt;\n",
       " font-weight: normal;\n",
       " color: #586e75;\n",
       " text-align: right !important;\n",
       " min-width: 12.5ex;\n",
       " width: 12.5ex !important;\n",
       " background-color: #073642;\n",
       " border-right: 2px solid rgba(30,112,199,.50);\n",
       " border-left: 5px solid #073642;\n",
       "}\n",
       "div.cell.text_cell.unrendered .input_prompt {\n",
       " font-family: monospace, monospace;\n",
       " font-size: 9.5pt;\n",
       " font-weight: normal;\n",
       " color: #586e75;\n",
       " text-align: right !important;\n",
       " min-width: 12.5ex;\n",
       " width: 12.5ex !important;\n",
       " border-right: 2px solid rgba(30,112,199,.50);\n",
       " border-left: 5px solid #073642;\n",
       "}\n",
       "div.cell.text_cell.rendered .input_prompt {\n",
       " border-right: 2px solid rgba(30,112,199,.50);\n",
       "}\n",
       "div.cell.text_cell.rendered.selected .input_prompt {\n",
       " top: 0;\n",
       " border-left: 5px solid #b58900;\n",
       " border-radius: 2px;\n",
       " border-right: 2px solid rgba(30,112,199,.50);\n",
       "}\n",
       "div.text_cell.unrendered.selected .prompt {\n",
       " top: 0;\n",
       " border-left: 5px solid #a38012;\n",
       " border-radius: 2px;\n",
       " border-right: 2px solid rgba(30,112,199,.50);\n",
       "}\n",
       "div.rendered_html code {\n",
       " font-family: monospace, monospace;\n",
       " font-size: 11pt;\n",
       " padding-top: 3px;\n",
       " padding-left: 2px;\n",
       " color: #586e75;\n",
       " background: #073642;\n",
       " background-color: #073642;\n",
       "}\n",
       "pre,\n",
       "code,\n",
       "kbd,\n",
       "samp {\n",
       " white-space: pre-wrap;\n",
       "}\n",
       ".well code,\n",
       "code {\n",
       " font-family: monospace, monospace;\n",
       " font-size: 11pt !important;\n",
       " line-height: 170% !important;\n",
       " color: #586e75;\n",
       " background: #052730;\n",
       " background-color: #052730;\n",
       " border-color: #052730;\n",
       "}\n",
       "kbd {\n",
       " padding: 4px;\n",
       " font-size: 11pt;\n",
       " color: #586e75;\n",
       " background-color: #052730;\n",
       " border: 0;\n",
       " box-shadow: none;\n",
       "}\n",
       "pre {\n",
       " display: block;\n",
       " padding: 8.5px;\n",
       " margin: 0 0 9px;\n",
       " font-size: 12.0pt;\n",
       " line-height: 1.42857143;\n",
       " color: #586e75;\n",
       " background-color: #052730;\n",
       " border: 1px solid #052730;\n",
       " border-radius: 2px;\n",
       "}\n",
       "div.rendered_html {\n",
       " color: #586e75;\n",
       "}\n",
       ".rendered_html * + ul {\n",
       " margin-top: .4em;\n",
       " margin-bottom: .3em;\n",
       "}\n",
       ".rendered_html * + p {\n",
       " margin-top: .5em;\n",
       " margin-bottom: .5em;\n",
       "}\n",
       "div.rendered_html pre,\n",
       "div.text_cell_render pre {\n",
       " font-family: monospace, monospace;\n",
       " font-size: 11pt !important;\n",
       " line-height: 170% !important;\n",
       " color: #586e75;\n",
       " background: #073642;\n",
       " background-color: #073642;\n",
       " max-width: 80%;\n",
       " border-radius: 0px;\n",
       " border-left: 3px solid #084552;\n",
       " max-width: 80%;\n",
       " border-radius: 0px;\n",
       " padding-left: 5px;\n",
       " margin-left: 6px;\n",
       "}\n",
       "div.text_cell_render h1,\n",
       "div.rendered_html h1,\n",
       "div.text_cell_render h2,\n",
       "div.rendered_html h2,\n",
       "div.text_cell_render h3,\n",
       "div.rendered_html h3,\n",
       "div.text_cell_render h4,\n",
       "div.rendered_html h4,\n",
       "div.text_cell_render h5,\n",
       "div.rendered_html h5 {\n",
       " font-family: sans-serif;\n",
       " margin: 0.4em .2em .3em .2em !important;\n",
       "}\n",
       ".rendered_html h1:first-child,\n",
       ".rendered_html h2:first-child,\n",
       ".rendered_html h3:first-child,\n",
       ".rendered_html h4:first-child,\n",
       ".rendered_html h5:first-child,\n",
       ".rendered_html h6:first-child {\n",
       " margin-top: 0.2em !important;\n",
       " margin-bottom: 0.2em !important;\n",
       "}\n",
       ".rendered_html h1,\n",
       ".text_cell_render h1 {\n",
       " color: #b58900;\n",
       " font-size: 215%;\n",
       " text-align: center;\n",
       " font-style: normal;\n",
       " font-weight: lighter;\n",
       "}\n",
       ".rendered_html h2,\n",
       ".text_cell_render h2 {\n",
       " text-align: left;\n",
       " font-size: 180%;\n",
       " color: #b58900;\n",
       " font-style: normal;\n",
       " font-weight: lighter;\n",
       "}\n",
       ".rendered_html h3,\n",
       ".text_cell_render h3 {\n",
       " font-size: 150%;\n",
       " color: #b58900;\n",
       " font-style: normal;\n",
       " font-weight: lighter;\n",
       "}\n",
       ".rendered_html h4,\n",
       ".text_cell_render h4 {\n",
       " font-size: 120%;\n",
       " color: #b58900;\n",
       " font-style: normal;\n",
       " font-weight: lighter;\n",
       "}\n",
       ".rendered_html h5,\n",
       ".text_cell_render h5 {\n",
       " font-size: 100%;\n",
       " color: #839496;\n",
       " font-style: normal;\n",
       " font-weight: lighter;\n",
       "}\n",
       "hr {\n",
       " margin-top: 8px;\n",
       " margin-bottom: 10px;\n",
       " border: 0;\n",
       " border-top: 1px solid #b58900;\n",
       "}\n",
       ".rendered_html hr {\n",
       " color: #b58900;\n",
       " background-color: #b58900;\n",
       " margin-right: 2em;\n",
       "}\n",
       "#complete > select > option:hover {\n",
       " background: rgba(30,67,77,.3);\n",
       " background-color: rgba(30,67,77,.3);\n",
       "}\n",
       "div#_vivaldi-spatnav-focus-indicator._vivaldi-spatnav-focus-indicator {\n",
       " position: absolute;\n",
       " z-index: 9999999999;\n",
       " top: 0px;\n",
       " left: 0px;\n",
       " box-shadow: none;\n",
       " pointer-events: none;\n",
       " border-radius: 2px;\n",
       "}\n",
       ".rendered_html tr,\n",
       ".rendered_html th,\n",
       ".rendered_html td {\n",
       " text-align: left;\n",
       " vertical-align: middle;\n",
       " padding: 0.42em 0.47em;\n",
       " line-height: normal;\n",
       " white-space: normal;\n",
       " max-width: none;\n",
       " border: none;\n",
       "}\n",
       ".rendered_html tr,\n",
       ".rendered_html td {\n",
       " font-size: 9.3pt !important;\n",
       "}\n",
       ".rendered_html thead {\n",
       " font-family: sans-serif;\n",
       " font-size: 10.3pt !important;\n",
       "}\n",
       ".rendered_html table {\n",
       " font-family: sans-serif !important;\n",
       " margin-left: 8px;\n",
       " margin-right: auto;\n",
       " border: none;\n",
       " border-collapse: collapse;\n",
       " border-spacing: 0;\n",
       " color: #586e75;\n",
       " table-layout: fixed;\n",
       "}\n",
       ".rendered_html thead {\n",
       " background: #001f27;\n",
       " color: #93a1a1;\n",
       " border-bottom: 1px solid #001f27;\n",
       " vertical-align: bottom;\n",
       "}\n",
       ".rendered_html tbody tr:nth-child(odd) {\n",
       " background: #002b36;\n",
       "}\n",
       ".rendered_html tbody tr {\n",
       " background: #001f27;\n",
       "}\n",
       ".rendered_html tbody tr:hover:nth-child(odd) {\n",
       " background: #002731;\n",
       "}\n",
       ".rendered_html tbody tr:hover {\n",
       " background: #001b22;\n",
       "}\n",
       ".rendered_html * + table {\n",
       " margin-top: .05em;\n",
       "}\n",
       "div.widget-area {\n",
       " background-color: #002b36;\n",
       " background: #002b36;\n",
       " color: #586e75;\n",
       "}\n",
       "div.widget-area a {\n",
       " font-family: sans-serif;\n",
       " font-size: 12.0pt;\n",
       " font-weight: normal;\n",
       " font-style: normal;\n",
       " color: #586e75;\n",
       " text-shadow: none !important;\n",
       "}\n",
       "div.widget-area a:hover,\n",
       "div.widget-area a:focus {\n",
       " font-family: sans-serif;\n",
       " font-size: 12.0pt;\n",
       " font-weight: normal;\n",
       " font-style: normal;\n",
       " color: #839496;\n",
       " background: rgba(30,67,77,.3);\n",
       " background-color: rgba(30,67,77,.3);\n",
       " border-color: transparent;\n",
       " background-image: none;\n",
       " text-shadow: none !important;\n",
       "}\n",
       "div.widget_item.btn-group > button.btn.btn-default.widget-combo-btn,\n",
       "div.widget_item.btn-group > button.btn.btn-default.widget-combo-btn:hover {\n",
       " background: #00232c;\n",
       " background-color: #00232c;\n",
       " border: 2px solid #00232c !important;\n",
       " font-size: inherit;\n",
       " z-index: 0;\n",
       "}\n",
       "div.jupyter-widgets.widget-hprogress.widget-hbox {\n",
       " display: inline-table !important;\n",
       " width: 38% !important;\n",
       " margin-left: 10px;\n",
       "}\n",
       "div.jupyter-widgets.widget-hprogress.widget-hbox .widget-label,\n",
       "div.widget-hbox .widget-label,\n",
       ".widget-hbox .widget-label,\n",
       ".widget-inline-hbox .widget-label,\n",
       "div.widget-label {\n",
       " text-align: -webkit-auto !important;\n",
       " margin-left: 15px !important;\n",
       " max-width: 240px !important;\n",
       " min-width: 100px !important;\n",
       " vertical-align: text-top !important;\n",
       " color: #586e75 !important;\n",
       "}\n",
       ".widget-hprogress .progress {\n",
       " flex-grow: 1;\n",
       " height: 20px;\n",
       " margin-top: auto;\n",
       " margin-left: 12px;\n",
       " margin-bottom: auto;\n",
       " width: 300px;\n",
       "}\n",
       ".progress {\n",
       " overflow: hidden;\n",
       " height: 22px;\n",
       " margin-bottom: 10px;\n",
       " padding-left: 10px;\n",
       " background-color: #d6d6d6 !important;\n",
       " border-radius: 2px;\n",
       " -webkit-box-shadow: none;\n",
       " box-shadow: none;\n",
       " z-index: 10;\n",
       "}\n",
       ".progress-bar-danger {\n",
       " background-color: #e16256 !important;\n",
       "}\n",
       ".progress-bar-info {\n",
       " background-color: #3498db !important;\n",
       "}\n",
       ".progress-bar-warning {\n",
       " background-color: #ff914d !important;\n",
       "}\n",
       ".progress-bar-success {\n",
       " background-color: #83a83b !important;\n",
       "}\n",
       ".widget-select select {\n",
       " margin-left: 12px;\n",
       "}\n",
       ".rendered_html :link {\n",
       " font-family: sans-serif;\n",
       " font-size: 100%;\n",
       " color: #268bd2;\n",
       " text-decoration: underline;\n",
       "}\n",
       ".rendered_html :visited,\n",
       ".rendered_html :visited:active,\n",
       ".rendered_html :visited:focus {\n",
       " color: #3894d4;\n",
       "}\n",
       ".rendered_html :visited:hover,\n",
       ".rendered_html :link:hover {\n",
       " font-family: sans-serif;\n",
       " font-size: 100%;\n",
       " color: #268bd2;\n",
       "}\n",
       "a.anchor-link:link {\n",
       " font-size: inherit;\n",
       " text-decoration: none;\n",
       " padding: 0px 20px;\n",
       " visibility: none;\n",
       " color: #268bd2;\n",
       "}\n",
       "a.anchor-link:link:hover {\n",
       " font-size: inherit;\n",
       " color: #268bd2;\n",
       "}\n",
       ".navbar-text {\n",
       " margin-top: 4px;\n",
       " margin-bottom: 0px;\n",
       "}\n",
       "#clusters > a {\n",
       " color: #268bd2;\n",
       " text-decoration: underline;\n",
       " cursor: auto;\n",
       "}\n",
       "#clusters > a:hover {\n",
       " color: #268bd2;\n",
       " text-decoration: underline;\n",
       " cursor: auto;\n",
       "}\n",
       "#nbextensions-configurator-container > div.row.container-fluid.nbext-selector > h3 {\n",
       " font-size: 15px;\n",
       " margin-top: 5px;\n",
       " margin-bottom: 8px;\n",
       " height: 24px;\n",
       " padding: 4px 0 4px 0;\n",
       "}\n",
       "div#nbextensions-configurator-container.container,\n",
       "#nbextensions-configurator-container.container {\n",
       " width: 100%;\n",
       " margin-right: auto;\n",
       " margin-left: auto;\n",
       "}\n",
       "div.nbext-selector > nav > .nav > li > a {\n",
       " font-family: sans-serif;\n",
       " font-size: 10.5pt;\n",
       " padding: 2px 5px;\n",
       "}\n",
       "div.nbext-readme > .nbext-readme-contents > .rendered_html {\n",
       " font-family: sans-serif;\n",
       " font-size: 11.5pt;\n",
       " line-height: 145%;\n",
       " padding: 1em 1em;\n",
       " color: #586e75;\n",
       " background-color: #073642;\n",
       " -webkit-box-shadow: none;\n",
       " -moz-box-shadow: none;\n",
       " box-shadow: none;\n",
       "}\n",
       ".nbext-icon,\n",
       ".nbext-desc,\n",
       ".nbext-compat-div,\n",
       ".nbext-enable-btns,\n",
       ".nbext-params {\n",
       " margin-bottom: 8px;\n",
       " font-size: 11.5pt;\n",
       "}\n",
       "div.nbext-readme > .nbext-readme-contents {\n",
       " padding: 0;\n",
       " overflow-y: hidden;\n",
       "}\n",
       "div.nbext-readme > .nbext-readme-contents:not(:empty) {\n",
       " margin-top: 0.5em;\n",
       " margin-bottom: 2em;\n",
       " border: none;\n",
       " border-top-color: rgba(30,67,77,.5);\n",
       "}\n",
       ".nbext-showhide-incompat {\n",
       " padding-bottom: 0.5em;\n",
       " color: #93a1a1;\n",
       " font-size: 10.5pt;\n",
       "}\n",
       ".nbext-filter-menu.dropdown-menu > li > a:hover,\n",
       ".nbext-filter-menu.dropdown-menu > li > a:focus,\n",
       ".nbext-filter-menu.dropdown-menu > li > a.ui-state-focus {\n",
       " color: #839496 !important;\n",
       " background-color: rgba(30,67,77,.3) !important;\n",
       " background: rgba(30,67,77,.3) !important;\n",
       " border-color: rgba(30,67,77,.3) !important;\n",
       "}\n",
       "span.rendered_html code {\n",
       " background-color: transparent;\n",
       " color: #586e75;\n",
       "}\n",
       "#nbextensions-configurator-container > div.row.container-fluid.nbext-selector {\n",
       " padding-left: 0px;\n",
       " padding-right: 0px;\n",
       "}\n",
       ".nbext-filter-menu {\n",
       " max-height: 50vh;\n",
       " overflow-y: auto;\n",
       " outline: none;\n",
       " border: 2px solid rgba(30,67,77,.5);\n",
       "}\n",
       ".alert-warning {\n",
       " background-color: #073642;\n",
       " border-color: #073642;\n",
       " color: #586e75;\n",
       "}\n",
       ".notification_widget.danger {\n",
       " color: #ffffff;\n",
       " background-color: #e16256;\n",
       " border-color: #e16256;\n",
       " padding-right: 5px;\n",
       "}\n",
       "mark,\n",
       ".mark {\n",
       " background-color: #073642;\n",
       " color: #586e75;\n",
       " padding: .15em;\n",
       "}\n",
       "a.text-warning,\n",
       "a.text-warning:hover {\n",
       " color: #586e75;\n",
       "}\n",
       "a.text-warning.bg-warning {\n",
       " background-color: #002b36;\n",
       "}\n",
       "span.bg-success.text-success {\n",
       " background-color: transparent;\n",
       " color: #859900;\n",
       "}\n",
       "span.bg-danger.text-danger {\n",
       " background-color: #002b36;\n",
       " color: #dc322f;\n",
       "}\n",
       ".has-success .input-group-addon {\n",
       " color: #859900;\n",
       " border-color: transparent;\n",
       " background: inherit;\n",
       " background-color: rgba(83,180,115,.10);\n",
       "}\n",
       ".has-success .form-control {\n",
       " border-color: #859900;\n",
       " -webkit-box-shadow: inset 0 1px 1px rgba(0,0,0,0.025);\n",
       " box-shadow: inset 0 1px 1px rgba(0,0,0,0.025);\n",
       "}\n",
       ".has-error .input-group-addon {\n",
       " color: #dc322f;\n",
       " border-color: transparent;\n",
       " background: inherit;\n",
       " background-color: rgba(192,57,67,.10);\n",
       "}\n",
       ".has-error .form-control {\n",
       " border-color: #dc322f;\n",
       " -webkit-box-shadow: inset 0 1px 1px rgba(0,0,0,0.025);\n",
       " box-shadow: inset 0 1px 1px rgba(0,0,0,0.025);\n",
       "}\n",
       ".kse-input-group-pretty > kbd {\n",
       " font-family: monospace, monospace;\n",
       " color: #586e75;\n",
       " font-weight: normal;\n",
       " background: transparent;\n",
       "}\n",
       ".kse-input-group-pretty > kbd {\n",
       " font-family: monospace, monospace;\n",
       " color: #586e75;\n",
       " font-weight: normal;\n",
       " background: transparent;\n",
       "}\n",
       "div.nbext-enable-btns .btn[disabled],\n",
       "div.nbext-enable-btns .btn[disabled]:hover,\n",
       ".btn-default.disabled,\n",
       ".btn-default[disabled] {\n",
       " background: darken(rgba(30,67,77,.5),1%);\n",
       " background-color: darken(rgba(30,67,77,.5),1%);\n",
       " color: #51666c;\n",
       "}\n",
       "label#Keyword-Filter {\n",
       " display: none;\n",
       "}\n",
       ".nav-pills > li.active > a,\n",
       ".nav-pills > li.active > a:hover,\n",
       ".nav-pills > li.active > a:focus {\n",
       " color: #cb4b16;\n",
       " background-color: #073642;\n",
       "}\n",
       ".input-group .nbext-list-btn-add,\n",
       ".input-group-btn:last-child > .btn-group > .btn {\n",
       " background: #002731;\n",
       " background-color: #002731;\n",
       " border-color: #002731;\n",
       "}\n",
       ".input-group .nbext-list-btn-add:hover,\n",
       ".input-group-btn:last-child > .btn-group > .btn:hover {\n",
       " background: #001f27;\n",
       " background-color: #001f27;\n",
       " border-color: #001f27;\n",
       "}\n",
       "#notebook-container > div.cell.code_cell.rendered.selected > div.widget-area > div.widget-subarea > div > div.widget_item.btn-group > button.btn.btn-default.dropdown-toggle.widget-combo-carrot-btn {\n",
       " background: #002731;\n",
       " background-color: #002731;\n",
       " border-color: #002731;\n",
       "}\n",
       "#notebook-container > div.cell.code_cell.rendered.selected > div.widget-area > div.widget-subarea > div > div.widget_item.btn-group > button.btn.btn-default.dropdown-toggle.widget-combo-carrot-btn:hover {\n",
       " background: #001f27;\n",
       " background-color: #001f27;\n",
       " border-color: #001f27;\n",
       "}\n",
       ".ui-widget-content {\n",
       " background: rgba(30,67,77,.5);\n",
       " background-color: rgba(30,67,77,.5);\n",
       " border: 2px solid rgba(30,67,77,.5);\n",
       " color: #586e75;\n",
       "}\n",
       "div.collapsible_headings_toggle {\n",
       " color: rgba(30,67,77,.5) !important;\n",
       "}\n",
       "div.collapsible_headings_toggle:hover {\n",
       " color: #586e75 !important;\n",
       "}\n",
       ".collapsible_headings_toggle .h1,\n",
       ".collapsible_headings_toggle .h2,\n",
       ".collapsible_headings_toggle .h3,\n",
       ".collapsible_headings_toggle .h4,\n",
       ".collapsible_headings_toggle .h5,\n",
       ".collapsible_headings_toggle .h6 {\n",
       " margin: 0.3em .4em 0em 0em !important;\n",
       " line-height: 1.2 !important;\n",
       "}\n",
       "div.collapsible_headings_toggle .fa-caret-down:before,\n",
       "div.collapsible_headings_toggle .fa-caret-right:before {\n",
       " font-size: xx-large;\n",
       " transition: transform 1000ms;\n",
       " transform: none !important;\n",
       "}\n",
       ".collapsible_headings_collapsed.collapsible_headings_ellipsis .rendered_html h1:after,\n",
       ".collapsible_headings_collapsed.collapsible_headings_ellipsis .rendered_html h2:after,\n",
       ".collapsible_headings_collapsed.collapsible_headings_ellipsis .rendered_html h3:after,\n",
       ".collapsible_headings_collapsed.collapsible_headings_ellipsis .rendered_html h4:after,\n",
       ".collapsible_headings_collapsed.collapsible_headings_ellipsis .rendered_html h5:after,\n",
       ".collapsible_headings_collapsed.collapsible_headings_ellipsis .rendered_html h6:after {\n",
       " position: absolute;\n",
       " right: 0;\n",
       " bottom: 20% !important;\n",
       " content: \"[\\002026]\";\n",
       " color: rgba(30,67,77,.5) !important;\n",
       " padding: 0.5em 0em 0em 0em !important;\n",
       "}\n",
       ".collapsible_headings_ellipsis .rendered_html h1,\n",
       ".collapsible_headings_ellipsis .rendered_html h2,\n",
       ".collapsible_headings_ellipsis .rendered_html h3,\n",
       ".collapsible_headings_ellipsis .rendered_html h4,\n",
       ".collapsible_headings_ellipsis .rendered_html h5,\n",
       ".collapsible_headings_ellipsis .rendered_html h6,\n",
       ".collapsible_headings_toggle .fa {\n",
       " transition: transform 1000ms !important;\n",
       " -webkit-transform: inherit !important;\n",
       " -moz-transform: inherit !important;\n",
       " -ms-transform: inherit !important;\n",
       " -o-transform: inherit !important;\n",
       " transform: inherit !important;\n",
       " padding-right: 0px !important;\n",
       "}\n",
       "input.raw_input {\n",
       " font-family: monospace, monospace;\n",
       " font-size: 11pt !important;\n",
       " color: #586e75;\n",
       " background-color: #052730;\n",
       " border-color: #05232b;\n",
       " background: #05232b;\n",
       " width: auto;\n",
       " vertical-align: baseline;\n",
       " padding: 0em 0.25em;\n",
       " margin: 0em 0.25em;\n",
       " -webkit-box-shadow: none;\n",
       " box-shadow: none;\n",
       "}\n",
       "audio,\n",
       "video {\n",
       " display: inline;\n",
       " vertical-align: middle;\n",
       " align-content: center;\n",
       " margin-left: 20%;\n",
       "}\n",
       ".cmd-palette .modal-body {\n",
       " padding: 0px;\n",
       " margin: 0px;\n",
       "}\n",
       ".cmd-palette form {\n",
       " background: #002731;\n",
       " background-color: #002731;\n",
       "}\n",
       ".typeahead-field input:last-child,\n",
       ".typeahead-hint {\n",
       " background: #002731;\n",
       " background-color: #002731;\n",
       " z-index: 1;\n",
       "}\n",
       ".typeahead-field input {\n",
       " font-family: sans-serif;\n",
       " color: #586e75;\n",
       " border: none;\n",
       " font-size: 28pt;\n",
       " display: inline-block;\n",
       " line-height: inherit;\n",
       " padding: 3px 10px;\n",
       " height: 70px;\n",
       "}\n",
       ".typeahead-select {\n",
       " background-color: #002731;\n",
       "}\n",
       "body > div.modal.cmd-palette.typeahead-field {\n",
       " display: table;\n",
       " border-collapse: separate;\n",
       " background-color: #073642;\n",
       "}\n",
       ".typeahead-container button {\n",
       " font-family: sans-serif;\n",
       " font-size: 28pt;\n",
       " background-color: #004355;\n",
       " border: none;\n",
       " display: inline-block;\n",
       " line-height: inherit;\n",
       " padding: 3px 10px;\n",
       " height: 70px;\n",
       "}\n",
       ".typeahead-search-icon {\n",
       " min-width: 40px;\n",
       " min-height: 55px;\n",
       " display: block;\n",
       " vertical-align: middle;\n",
       " text-align: center;\n",
       "}\n",
       ".typeahead-container button:focus,\n",
       ".typeahead-container button:hover {\n",
       " color: #839496;\n",
       " background-color: #586e75;\n",
       " border-color: #586e75;\n",
       "}\n",
       ".typeahead-list > li.typeahead-group.active > a,\n",
       ".typeahead-list > li.typeahead-group > a,\n",
       ".typeahead-list > li.typeahead-group > a:focus,\n",
       ".typeahead-list > li.typeahead-group > a:hover {\n",
       " display: none;\n",
       "}\n",
       ".typeahead-dropdown > li > a,\n",
       ".typeahead-list > li > a {\n",
       " color: #586e75;\n",
       " text-decoration: none;\n",
       "}\n",
       ".typeahead-dropdown,\n",
       ".typeahead-list {\n",
       " font-family: sans-serif;\n",
       " font-size: 13pt;\n",
       " color: #586e75;\n",
       " background-color: #084150;\n",
       " border: none;\n",
       " background-clip: padding-box;\n",
       " margin-top: 0px;\n",
       " padding: 3px 2px 3px 0px;\n",
       " line-height: 1.7;\n",
       "}\n",
       ".typeahead-dropdown > li.active > a,\n",
       ".typeahead-dropdown > li > a:focus,\n",
       ".typeahead-dropdown > li > a:hover,\n",
       ".typeahead-list > li.active > a,\n",
       ".typeahead-list > li > a:focus,\n",
       ".typeahead-list > li > a:hover {\n",
       " color: #839496;\n",
       " background-color: #073642;\n",
       " border-color: #073642;\n",
       "}\n",
       ".command-shortcut:before {\n",
       " content: \"(command)\";\n",
       " padding-right: 3px;\n",
       " color: #586e75;\n",
       "}\n",
       ".edit-shortcut:before {\n",
       " content: \"(edit)\";\n",
       " padding-right: 3px;\n",
       " color: #586e75;\n",
       "}\n",
       "ul.typeahead-list i {\n",
       " margin-left: 1px;\n",
       " width: 18px;\n",
       " margin-right: 10px;\n",
       "}\n",
       "ul.typeahead-list {\n",
       " max-height: 50vh;\n",
       " overflow: auto;\n",
       "}\n",
       ".typeahead-list > li {\n",
       " position: relative;\n",
       " border: none;\n",
       "}\n",
       "div.input.typeahead-hint,\n",
       "input.typeahead-hint,\n",
       "body > div.modal.cmd-palette.in > div > div > div > form > div > div.typeahead-field > span.typeahead-query > input.typeahead-hint {\n",
       " color: #586e75 !important;\n",
       " background-color: transparent;\n",
       " padding: 3px 10px;\n",
       "}\n",
       ".typeahead-dropdown > li > a,\n",
       ".typeahead-list > li > a {\n",
       " display: block;\n",
       " padding: 5px;\n",
       " clear: both;\n",
       " font-weight: 400;\n",
       " line-height: 1.7;\n",
       " border: 1px solid #084150;\n",
       " border-bottom-color: rgba(30,67,77,.5);\n",
       "}\n",
       "body > div.modal.cmd-palette.in > div {\n",
       " min-width: 750px;\n",
       " margin: 150px auto;\n",
       "}\n",
       ".typeahead-container strong {\n",
       " font-weight: bolder;\n",
       " color: #586e75;\n",
       "}\n",
       "#find-and-replace #replace-preview .match,\n",
       "#find-and-replace #replace-preview .insert {\n",
       " color: #ffffff;\n",
       " background-color: #0b6073;\n",
       " border-color: #0b6073;\n",
       " border-style: solid;\n",
       " border-width: 1px;\n",
       " border-radius: 0px;\n",
       "}\n",
       "#find-and-replace #replace-preview .replace .match {\n",
       " background-color: #dc322f;\n",
       " border-color: #dc322f;\n",
       " border-radius: 0px;\n",
       "}\n",
       "#find-and-replace #replace-preview .replace .insert {\n",
       " background-color: #859900;\n",
       " border-color: #859900;\n",
       " border-radius: 0px;\n",
       "}\n",
       ".shortcut_key,\n",
       "span.shortcut_key {\n",
       " display: inline-block;\n",
       " width: 16ex;\n",
       " text-align: right;\n",
       " font-family: monospace;\n",
       "}\n",
       ".jupyter-keybindings {\n",
       " padding: 1px;\n",
       " line-height: 24px;\n",
       " border-bottom: 1px solid rgba(30,67,77,.3);\n",
       "}\n",
       ".jupyter-keybindings i {\n",
       " background: #052730;\n",
       " font-size: small;\n",
       " padding: 5px;\n",
       " margin-left: 7px;\n",
       "}\n",
       "div#short-key-bindings-intro.well,\n",
       ".well {\n",
       " background-color: #002731;\n",
       " border: 1px solid #002731;\n",
       " color: #586e75;\n",
       " border-radius: 2px;\n",
       " -webkit-box-shadow: none;\n",
       " box-shadow: none;\n",
       "}\n",
       "#texteditor-backdrop {\n",
       " background: #002b36;\n",
       " background-color: #002b36;\n",
       "}\n",
       "#texteditor-backdrop #texteditor-container .CodeMirror-gutter,\n",
       "#texteditor-backdrop #texteditor-container .CodeMirror-gutters {\n",
       " background: #062e39;\n",
       " background-color: #062e39;\n",
       " color: #657b83;\n",
       "}\n",
       ".edit_app #menubar .navbar {\n",
       " margin-bottom: 0px;\n",
       "}\n",
       "#texteditor-backdrop #texteditor-container {\n",
       " padding: 0px;\n",
       " background-color: #073642;\n",
       " box-shadow: none;\n",
       "}\n",
       ".terminal-app {\n",
       " background: #002b36;\n",
       "}\n",
       ".terminal-app .terminal {\n",
       " font-family: monospace, monospace;\n",
       " font-size: 11pt;\n",
       " line-height: 170%;\n",
       " color: #586e75;\n",
       " background: #073642;\n",
       " padding: 0.4em;\n",
       " border-radius: 2px;\n",
       " -webkit-box-shadow: none;\n",
       " box-shadow: none;\n",
       "}\n",
       ".terminal .xterm-viewport {\n",
       " background-color: #073642;\n",
       " color: #586e75;\n",
       " overflow-y: auto;\n",
       "}\n",
       ".terminal .xterm-color-0 {\n",
       " color: #586e75;\n",
       "}\n",
       ".terminal .xterm-color-1 {\n",
       " color: #d33682;\n",
       "}\n",
       ".terminal .xterm-color-2 {\n",
       " color: #859900;\n",
       "}\n",
       ".terminal .xterm-color-3 {\n",
       " color: #d33682;\n",
       "}\n",
       ".terminal .xterm-color-4 {\n",
       " color: #2aa198;\n",
       "}\n",
       ".terminal .xterm-color-5 {\n",
       " color: #2aa198;\n",
       "}\n",
       ".terminal .xterm-color-6 {\n",
       " color: #268bd2;\n",
       "}\n",
       ".terminal .xterm-color-7 {\n",
       " color: #268bd2;\n",
       "}\n",
       ".terminal .xterm-color-8 {\n",
       " color: #268bd2;\n",
       "}\n",
       ".terminal .xterm-color-9 {\n",
       " color: #2aa198;\n",
       "}\n",
       ".terminal .xterm-color-10 {\n",
       " color: #d33682;\n",
       "}\n",
       ".terminal .xterm-color-14 {\n",
       " color: #268bd2;\n",
       "}\n",
       ".terminal .xterm-bg-color-15 {\n",
       " background-color: #073642;\n",
       "}\n",
       ".terminal:not(.xterm-cursor-style-underline):not(.xterm-cursor-style-bar) .terminal-cursor {\n",
       " background-color: #586e75;\n",
       " color: #073642;\n",
       "}\n",
       ".terminal:not(.focus) .terminal-cursor {\n",
       " outline: 1px solid #586e75;\n",
       " outline-offset: -1px;\n",
       "}\n",
       "div#pager #pager-contents {\n",
       " background: #002b36 !important;\n",
       " background-color: #002b36 !important;\n",
       "}\n",
       "div#pager pre {\n",
       " color: #586e75 !important;\n",
       " background: #073642 !important;\n",
       " background-color: #073642 !important;\n",
       " padding: 0.4em;\n",
       "}\n",
       "div#pager .ui-resizable-handle {\n",
       " top: 0px;\n",
       " height: 8px;\n",
       " background: #586e75 !important;\n",
       " border-top: 1px solid #586e75;\n",
       " border-bottom: 1px solid #586e75;\n",
       "}\n",
       "div.CodeMirror,\n",
       "div.CodeMirror pre {\n",
       " font-family: monospace, monospace;\n",
       " font-size: 11pt;\n",
       " line-height: 170%;\n",
       " color: #586e75;\n",
       "}\n",
       "div.CodeMirror-lines {\n",
       " padding-bottom: .9em;\n",
       " padding-left: .5em;\n",
       " padding-right: 1.5em;\n",
       " padding-top: .7em;\n",
       "}\n",
       "span.ansiblack,\n",
       ".ansi-black-fg {\n",
       " color: #002b36;\n",
       "}\n",
       "span.ansiblue,\n",
       ".ansi-blue-fg,\n",
       ".ansi-blue-intense-fg {\n",
       " color: #268bd2;\n",
       "}\n",
       "span.ansigray,\n",
       ".ansi-gray-fg,\n",
       ".ansi-gray-intense-fg {\n",
       " color: #839496;\n",
       "}\n",
       "span.ansigreen,\n",
       ".ansi-green-fg {\n",
       " color: #859900;\n",
       "}\n",
       ".ansi-green-intense-fg {\n",
       " color: #839496;\n",
       "}\n",
       "span.ansipurple,\n",
       ".ansi-purple-fg,\n",
       ".ansi-purple-intense-fg {\n",
       " color: #6c71c4;\n",
       "}\n",
       "span.ansicyan,\n",
       ".ansi-cyan-fg,\n",
       ".ansi-cyan-intense-fg {\n",
       " color: #6c71c4;\n",
       "}\n",
       "span.ansiyellow,\n",
       ".ansi-yellow-fg,\n",
       ".ansi-yellow-intense-fg {\n",
       " color: #b58900;\n",
       "}\n",
       "span.ansired,\n",
       ".ansi-red-fg,\n",
       ".ansi-red-intense-fg {\n",
       " color: #dc322f;\n",
       "}\n",
       "div.output-stderr {\n",
       " background-color: #cb4b16;\n",
       "}\n",
       "div.output-stderr pre {\n",
       " color: #586e75;\n",
       "}\n",
       "div.js-error {\n",
       " color: #dc322f;\n",
       "}\n",
       ".ipython_tooltip {\n",
       " font-family: monospace, monospace;\n",
       " font-size: 11pt;\n",
       " line-height: 170%;\n",
       " border: 2px solid #03181d;\n",
       " background: #073642;\n",
       " background-color: #073642;\n",
       " border-radius: 2px;\n",
       " overflow-x: visible;\n",
       " overflow-y: visible;\n",
       " box-shadow: none;\n",
       " position: absolute;\n",
       " z-index: 1000;\n",
       "}\n",
       ".ipython_tooltip .tooltiptext pre {\n",
       " font-family: monospace, monospace;\n",
       " font-size: 11pt;\n",
       " line-height: 170%;\n",
       " background: #073642;\n",
       " background-color: #073642;\n",
       " color: #586e75;\n",
       " overflow-x: visible;\n",
       " overflow-y: visible;\n",
       " max-width: 900px;\n",
       "}\n",
       "div#tooltip.ipython_tooltip {\n",
       " overflow-x: wrap;\n",
       " overflow-y: visible;\n",
       " max-width: 800px;\n",
       "}\n",
       "div.tooltiptext.bigtooltip {\n",
       " overflow-x: visible;\n",
       " overflow-y: scroll;\n",
       " height: 400px;\n",
       " max-width: 800px;\n",
       "}\n",
       ".cm-s-ipython.CodeMirror {\n",
       " font-family: monospace, monospace;\n",
       " font-size: 11pt;\n",
       " background: #073642;\n",
       " color: #586e75;\n",
       " border-radius: 2px;\n",
       " font-style: normal;\n",
       " font-weight: normal;\n",
       "}\n",
       ".cm-s-ipython div.CodeMirror-selected {\n",
       " background: #062e39;\n",
       "}\n",
       ".cm-s-ipython .CodeMirror-gutters {\n",
       " background: #062e39;\n",
       " border: none;\n",
       " border-radius: 0px;\n",
       " width: 36px;\n",
       "}\n",
       ".cm-s-ipython .CodeMirror-linenumber {\n",
       " color: #657b83;\n",
       "}\n",
       ".CodeMirror-sizer {\n",
       " margin-left: 40px;\n",
       "}\n",
       ".CodeMirror-linenumber,\n",
       "div.CodeMirror-linenumber,\n",
       ".CodeMirror-gutter.CodeMirror-linenumberdiv.CodeMirror-gutter.CodeMirror-linenumber {\n",
       " padding-right: 1px;\n",
       " margin-left: 0px;\n",
       " margin: 0px;\n",
       " width: 26px !important;\n",
       " padding: 0px;\n",
       " text-align: right;\n",
       "}\n",
       ".CodeMirror-linenumber {\n",
       " color: #657b83;\n",
       "}\n",
       ".cm-s-ipython .CodeMirror-cursor {\n",
       " border-left: 2px solid #0095ff !important;\n",
       "}\n",
       ".cm-s-ipython span.cm-comment {\n",
       " color: #93a1a1;\n",
       " font-style: italic;\n",
       "}\n",
       ".cm-s-ipython span.cm-atom {\n",
       " color: #d33682;\n",
       "}\n",
       ".cm-s-ipython span.cm-number {\n",
       " color: #2aa198;\n",
       "}\n",
       ".cm-s-ipython span.cm-property {\n",
       " color: #586e75;\n",
       "}\n",
       ".cm-s-ipython span.cm-attribute {\n",
       " color: #586e75;\n",
       "}\n",
       ".cm-s-ipython span.cm-keyword {\n",
       " color: #859900;\n",
       " font-weight: normal;\n",
       "}\n",
       ".cm-s-ipython span.cm-string {\n",
       " color: #2aa198;\n",
       "}\n",
       ".cm-s-ipython span.cm-meta {\n",
       " color: #6c71c4;\n",
       "}\n",
       ".cm-s-ipython span.cm-operator {\n",
       " color: #d33682;\n",
       "}\n",
       ".cm-s-ipython span.cm-builtin {\n",
       " color: #d33682;\n",
       "}\n",
       ".cm-s-ipython span.cm-variable {\n",
       " color: #586e75;\n",
       "}\n",
       ".cm-s-ipython span.cm-variable-2 {\n",
       " color: #586e75;\n",
       "}\n",
       ".cm-s-ipython span.cm-variable-3 {\n",
       " color: #586e75;\n",
       "}\n",
       ".cm-s-ipython span.cm-def {\n",
       " color: #268bd2;\n",
       " font-weight: normal;\n",
       "}\n",
       ".cm-s-ipython span.cm-error {\n",
       " background: #073642;\n",
       "}\n",
       ".cm-s-ipython span.cm-tag {\n",
       " color: #268bd2;\n",
       "}\n",
       ".cm-s-ipython span.cm-link {\n",
       " color: #268bd2;\n",
       "}\n",
       ".cm-s-ipython span.cm-storage {\n",
       " color: #d33682;\n",
       "}\n",
       ".cm-s-ipython span.cm-entity {\n",
       " color: #268bd2;\n",
       "}\n",
       ".cm-s-ipython span.cm-quote {\n",
       " color: #2aa198;\n",
       "}\n",
       "div.CodeMirror span.CodeMirror-matchingbracket {\n",
       " color: #cb4b16;\n",
       " background-color: #002b36;\n",
       "}\n",
       "div.CodeMirror span.CodeMirror-nonmatchingbracket {\n",
       " color: #cb4b16;\n",
       " background: #dc322f !important;\n",
       "}\n",
       ".cm-header-1 {\n",
       " font-size: 215%;\n",
       "}\n",
       ".cm-header-2 {\n",
       " font-size: 180%;\n",
       "}\n",
       ".cm-header-3 {\n",
       " font-size: 150%;\n",
       "}\n",
       ".cm-header-4 {\n",
       " font-size: 120%;\n",
       "}\n",
       ".cm-header-5 {\n",
       " font-size: 100%;\n",
       "}\n",
       ".cm-s-default .cm-hr {\n",
       " color: #d33682;\n",
       "}\n",
       "div.cell.text_cell .cm-s-default .cm-header {\n",
       " font-family: sans-serif;\n",
       " font-weight: normal;\n",
       " color: #b58900;\n",
       " margin-top: 0.3em !important;\n",
       " margin-bottom: 0.3em !important;\n",
       "}\n",
       "div.cell.text_cell .cm-s-default span.cm-variable-2 {\n",
       " color: #586e75;\n",
       "}\n",
       "div.cell.text_cell .cm-s-default span.cm-variable-3 {\n",
       " color: #586e75;\n",
       "}\n",
       ".cm-s-default span.cm-comment {\n",
       " color: #93a1a1;\n",
       "}\n",
       ".cm-s-default .cm-tag {\n",
       " color: #586e75;\n",
       "}\n",
       ".cm-s-default .cm-builtin {\n",
       " color: #d33682;\n",
       "}\n",
       ".cm-s-default .cm-string {\n",
       " color: #2aa198;\n",
       "}\n",
       ".cm-s-default .cm-keyword {\n",
       " color: #859900;\n",
       "}\n",
       ".cm-s-default .cm-number {\n",
       " color: #2aa198;\n",
       "}\n",
       ".cm-s-default .cm-error {\n",
       " color: #d33682;\n",
       "}\n",
       ".cm-s-default .cm-link {\n",
       " color: #268bd2;\n",
       "}\n",
       ".cm-s-default .cm-atom {\n",
       " color: #2aa198;\n",
       "}\n",
       ".CodeMirror-cursor {\n",
       " border-left: 2px solid #0095ff !important;\n",
       " border-right: none;\n",
       " width: 0;\n",
       "}\n",
       ".cm-s-default div.CodeMirror-selected {\n",
       " background: #062e39;\n",
       "}\n",
       ".cm-s-default .cm-selected {\n",
       " background: #062e39;\n",
       "}\n",
       ".completions {\n",
       " position: absolute;\n",
       " z-index: 110;\n",
       " overflow: hidden;\n",
       " border: medium solid #084552;\n",
       " box-shadow: none;\n",
       " line-height: 1;\n",
       "}\n",
       ".completions select {\n",
       " background: #073642;\n",
       " background-color: #073642;\n",
       " outline: none;\n",
       " border: none;\n",
       " padding: 0px;\n",
       " margin: 0px;\n",
       " margin-left: 2px;\n",
       " overflow: auto;\n",
       " font-family: monospace, monospace;\n",
       " font-size: 11pt;\n",
       " color: #586e75;\n",
       " width: auto;\n",
       "}\n",
       "div#maintoolbar {\n",
       " display: none !important;\n",
       "}\n",
       "#header-container {\n",
       " display: none !important;\n",
       "}\n",
       "\n",
       "/**********************************\n",
       " MathJax Settings and Style Script\n",
       "**********************************/\n",
       ".MathJax_Display,\n",
       ".MathJax nobr>span.math>span {\n",
       "    border: 0 !important;\n",
       "    font-size: 110% !important;\n",
       "    text-align: center !important;\n",
       "    margin: 0em !important;\n",
       "}\n",
       "/* Prevents MathJax from jittering */\n",
       "/* cell position when cell is selected */\n",
       ".MathJax:focus, body :focus .MathJax {\n",
       "    display: inline-block !important;\n",
       "}\n",
       "\n",
       "<script>\n",
       "    MathJax.Hub.Config({\n",
       "        \"HTML-CSS\": {\n",
       "            /*preferredFont: \"TeX\",*/\n",
       "            /*availableFonts: [\"TeX\", \"STIX\"],*/\n",
       "            styles: {\n",
       "                scale: 110,\n",
       "                \".MathJax_Display\": {\n",
       "                    \"font-size\": \"110%\",\n",
       "                }\n",
       "            }\n",
       "        }\n",
       "    });\n",
       "</script>\n"
      ],
      "text/plain": [
       "<IPython.core.display.HTML object>"
      ]
     },
     "execution_count": 24,
     "metadata": {},
     "output_type": "execute_result"
    }
   ],
   "source": [
    "from IPython.core.display import HTML\n",
    "def css_styling():\n",
    "    styles = open(\"custom.css\", \"r\").read()\n",
    "    return HTML(styles)\n",
    "css_styling()"
   ]
  },
  {
   "cell_type": "code",
   "execution_count": null,
   "metadata": {
    "collapsed": true
   },
   "outputs": [],
   "source": []
  }
 ],
 "metadata": {
  "celltoolbar": "Slideshow",
  "kernelspec": {
   "display_name": "Python [default]",
   "language": "python",
   "name": "python3"
  },
  "language_info": {
   "codemirror_mode": {
    "name": "ipython",
    "version": 3
   },
   "file_extension": ".py",
   "mimetype": "text/x-python",
   "name": "python",
   "nbconvert_exporter": "python",
   "pygments_lexer": "ipython3",
   "version": "3.6.0"
  },
  "toc": {
   "colors": {
    "hover_highlight": "#DAA520",
    "navigate_num": "#000000",
    "navigate_text": "#333333",
    "running_highlight": "#FF0000",
    "selected_highlight": "#FFD700",
    "sidebar_border": "#EEEEEE",
    "wrapper_background": "#FFFFFF"
   },
   "moveMenuLeft": true,
   "nav_menu": {
    "height": "405px",
    "width": "252px"
   },
   "navigate_menu": true,
   "number_sections": true,
   "sideBar": true,
   "threshold": 4,
   "toc_cell": false,
   "toc_section_display": "none",
   "toc_window_display": false,
   "widenNotebook": false
  }
 },
 "nbformat": 4,
 "nbformat_minor": 2
}
