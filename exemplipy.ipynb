{
 "cells": [
  {
   "cell_type": "markdown",
   "metadata": {},
   "source": [
    "![](ChemE_logo.png \"ChemE Logo\")\n",
    "\n",
    "# ExempliPy\n",
    "by [Tony Saad](www.tonysaad.net) <br/>\n",
    "Assistant Professor of [Chemical Engineering](www.che.utah.edu) <br/>\n",
    "[University of Utah](www.utah.edu)\n",
    "\n",
    "\n",
    "A collection of example of problems solved numerically with Python. Applications span physics, chemical, mechanical, civil, and electrical engineering."
   ]
  },
  {
   "cell_type": "markdown",
   "metadata": {
    "toc": "true"
   },
   "source": [
    "# Table of Contents\n",
    " <p><div class=\"lev1 toc-item\"><a href=\"#ExempliPy\" data-toc-modified-id=\"ExempliPy-1\"><span class=\"toc-item-num\">1&nbsp;&nbsp;</span>ExempliPy</a></div><div class=\"lev1 toc-item\"><a href=\"#Free-Fall:-ODE-Time-Integration\" data-toc-modified-id=\"Free-Fall:-ODE-Time-Integration-2\"><span class=\"toc-item-num\">2&nbsp;&nbsp;</span>Free Fall: ODE Time Integration</a></div><div class=\"lev2 toc-item\"><a href=\"#Method-1:-Using-Lists\" data-toc-modified-id=\"Method-1:-Using-Lists-21\"><span class=\"toc-item-num\">2.1&nbsp;&nbsp;</span>Method 1: Using Lists</a></div><div class=\"lev2 toc-item\"><a href=\"#Method-2:-Using-Numpy-Arrays\" data-toc-modified-id=\"Method-2:-Using-Numpy-Arrays-22\"><span class=\"toc-item-num\">2.2&nbsp;&nbsp;</span>Method 2: Using Numpy Arrays</a></div><div class=\"lev1 toc-item\"><a href=\"#Interpolation\" data-toc-modified-id=\"Interpolation-3\"><span class=\"toc-item-num\">3&nbsp;&nbsp;</span>Interpolation</a></div>"
   ]
  },
  {
   "cell_type": "markdown",
   "metadata": {
    "slideshow": {
     "slide_type": "slide"
    }
   },
   "source": [
    "# Free Fall: ODE Time Integration"
   ]
  },
  {
   "cell_type": "markdown",
   "metadata": {
    "slideshow": {
     "slide_type": "fragment"
    }
   },
   "source": [
    "Consider the free fall of an astronaut subject to drag. The governing equation is according to Newton's second law is:\n",
    "$$m \\frac{\\text{d}u}{\\text{d} t} = m g - c u$$\n",
    "or\n",
    "$$\\frac{\\text{d}u}{\\text{d} t} = g - \\frac{c}{m} u$$\n",
    "where $u$(m/s) is the (downward) speed of the astronaut, $g$(m/s/s) is the acceleration of gravity, and $c$(kg/s) is the drag coefficient. Here, the drag force acts in the direction opposite to the fall of the astronaut and is given by $F_\\text{D} = cu\\mathbf{j}$"
   ]
  },
  {
   "cell_type": "markdown",
   "metadata": {
    "slideshow": {
     "slide_type": "subslide"
    }
   },
   "source": [
    "## Method 1: Using Lists"
   ]
  },
  {
   "cell_type": "code",
   "execution_count": 3,
   "metadata": {
    "collapsed": false,
    "slideshow": {
     "slide_type": "fragment"
    }
   },
   "outputs": [
    {
     "name": "stdout",
     "output_type": "stream",
     "text": [
      "0.0\n"
     ]
    },
    {
     "data": {
      "text/plain": [
       "[<matplotlib.lines.Line2D at 0x1193f8828>]"
      ]
     },
     "execution_count": 3,
     "metadata": {},
     "output_type": "execute_result"
    },
    {
     "data": {
      "image/png": "[encoded data removed]",
      "text/plain": [
       "<matplotlib.figure.Figure at 0x10fba7b38>"
      ]
     },
     "metadata": {},
     "output_type": "display_data"
    }
   ],
   "source": [
    "%matplotlib inline\n",
    "import matplotlib.pyplot as plt\n",
    "import numpy as np\n",
    "dt = 0.5 # step size in s\n",
    "u=[0.0] # create a list for the velocity array. This contains the initial condition\n",
    "t=[0.0] # create a list for the time array. starts at t = 0.0\n",
    "tend = 30.0 # set end time\n",
    "\n",
    "c = 12.5 # drag coefficientkg/s\n",
    "m = 60   # object's mass, kg\n",
    "g = 9.81 # gravitational acceleration m/s/s\n",
    "\n",
    "# t[-1] returns the last element in the list\n",
    "while t[-1] < tend:\n",
    "    unp1 = u[-1] + dt * (g - c/m*u[-1]) # time advance\n",
    "    u.append(unp1)\n",
    "    t.append(t[-1] + dt)\n",
    "    \n",
    "# tplot = np.linspace(t0,tend,len(u)) # create an equally space array for time. This will be used for plotting.\n",
    "plt.plot(t,u)"
   ]
  },
  {
   "cell_type": "markdown",
   "metadata": {
    "slideshow": {
     "slide_type": "subslide"
    }
   },
   "source": [
    "## Method 2: Using Numpy Arrays"
   ]
  },
  {
   "cell_type": "code",
   "execution_count": 138,
   "metadata": {
    "collapsed": false,
    "slideshow": {
     "slide_type": "fragment"
    }
   },
   "outputs": [
    {
     "data": {
      "text/plain": [
       "[<matplotlib.lines.Line2D at 0x119b02d30>]"
      ]
     },
     "execution_count": 138,
     "metadata": {},
     "output_type": "execute_result"
    },
    {
     "data": {
      "image/png": "[encoded data removed]",
      "text/plain": [
       "<matplotlib.figure.Figure at 0x11954a4e0>"
      ]
     },
     "metadata": {},
     "output_type": "display_data"
    }
   ],
   "source": [
    "%matplotlib inline\n",
    "import matplotlib.pyplot as plt\n",
    "import numpy as np\n",
    "dt = 0.5 # step size in s\n",
    "\n",
    "t0 = 0.0 # set initial time\n",
    "tend = 30.0 # set end time\n",
    "\n",
    "ndt = int( (tend-t0)/dt ) # number of timesteps that we will take\n",
    "t = np.linspace(t0,tend,ndt) # create an equally space array for time. This will be used for plotting.\n",
    "u= np.zeros(ndt) # allocate a numpy array of the same size as the number of timesteps\n",
    "\n",
    "\n",
    "c = 12.5 # drag coefficientkg/s\n",
    "m = 60   # object's mass, kg\n",
    "g = 9.81 # gravitational acceleration m/s/s\n",
    "\n",
    "n = 0 # just a counter\n",
    "while n < ndt-1:\n",
    "    u[n+1] = u[n] + dt *(g - c/m*u[n]) # time advance\n",
    "    n += 1\n",
    "    \n",
    "plt.plot(t,u)"
   ]
  },
  {
   "cell_type": "markdown",
   "metadata": {
    "slideshow": {
     "slide_type": "slide"
    }
   },
   "source": [
    "# Interpolation"
   ]
  },
  {
   "cell_type": "markdown",
   "metadata": {
    "slideshow": {
     "slide_type": "fragment"
    }
   },
   "source": [
    "Use linear, polynomial, and cubic spline interpolants to interpolate the function\n",
    "$$ f(x) = e^{-x^2/\\sigma^2}$$\n",
    "on the interval $[-1,1]$. Start with $n=10$ samples and experiment with different values of the standard deviation, $\\sigma$."
   ]
  },
  {
   "cell_type": "code",
   "execution_count": 151,
   "metadata": {
    "collapsed": false,
    "slideshow": {
     "slide_type": "subslide"
    }
   },
   "outputs": [
    {
     "data": {
      "image/png": "[encoded data removed]",
      "text/plain": [
       "<matplotlib.figure.Figure at 0x11b891828>"
      ]
     },
     "metadata": {},
     "output_type": "display_data"
    }
   ],
   "source": [
    "import numpy as np\n",
    "from numpy import interp\n",
    "from numpy import polyfit, polyval, poly1d\n",
    "from scipy.interpolate import CubicSpline\n",
    "\n",
    "%matplotlib inline\n",
    "import matplotlib.pyplot as plt\n",
    "\n",
    "n = 10 # sampling points - we will use this many samples\n",
    "\n",
    "# we want to interpolate this gaussian data\n",
    "σ = 0.4\n",
    "y = lambda x: np.exp(-x**2/σ**2)\n",
    "\n",
    "# exact solution\n",
    "xe = np.linspace(-1,1,200) # create equally spaced points between -1 and 1\n",
    "ye = y(xe)\n",
    "\n",
    "plt.figure(figsize=(8, 6))\n",
    "\n",
    "# sampling points\n",
    "xi = np.linspace(-1,1,n)\n",
    "yi = y(xi)\n",
    "\n",
    "# plot sample point locations\n",
    "plt.plot(xi,yi,'o',markersize=10)\n",
    "\n",
    "plt.plot(xe,ye,'k-',label='Exact')\n",
    "\n",
    "# linear interpolation. Interpolate to to xe using sampling points xi\n",
    "ylin = interp(xe, xi, yi)\n",
    "plt.plot(xe,ylin,'r-',label='Linear')\n",
    "\n",
    "# polynomial interpolation. Interpolate to to xe using sampling points xi\n",
    "p = np.polyfit(xi, yi, n-1)\n",
    "ypoly =polyval(p,xe)\n",
    "plt.plot(xe,ypoly,'b-', label='Polynomial')\n",
    "\n",
    "# cubic spline interpolation. Interpolate to to xe using sampling points xi\n",
    "cs = CubicSpline(xi,yi)\n",
    "ycs = cs(xe)\n",
    "plt.plot(xe,ycs,'g-', label='Cubic Spline')\n",
    "\n",
    "# finalize plot\n",
    "plt.legend()\n",
    "plt.draw()"
   ]
  },
  {
   "cell_type": "markdown",
   "metadata": {
    "slideshow": {
     "slide_type": "slide"
    }
   },
   "source": [
    "More examples coming soon!"
   ]
  }
 ],
 "metadata": {
  "celltoolbar": "Slideshow",
  "kernelspec": {
   "display_name": "Python [default]",
   "language": "python",
   "name": "python3"
  },
  "language_info": {
   "codemirror_mode": {
    "name": "ipython",
    "version": 3
   },
   "file_extension": ".py",
   "mimetype": "text/x-python",
   "name": "python",
   "nbconvert_exporter": "python",
   "pygments_lexer": "ipython3",
   "version": "3.6.0"
  },
  "toc": {
   "colors": {
    "hover_highlight": "#DAA520",
    "navigate_num": "#000000",
    "navigate_text": "#333333",
    "running_highlight": "#FF0000",
    "selected_highlight": "#FFD700",
    "sidebar_border": "#EEEEEE",
    "wrapper_background": "#FFFFFF"
   },
   "moveMenuLeft": true,
   "nav_menu": {
    "height": "84px",
    "width": "252px"
   },
   "navigate_menu": true,
   "number_sections": true,
   "sideBar": true,
   "threshold": 4,
   "toc_cell": true,
   "toc_section_display": "block",
   "toc_window_display": true,
   "widenNotebook": false
  }
 },
 "nbformat": 4,
 "nbformat_minor": 2
}
