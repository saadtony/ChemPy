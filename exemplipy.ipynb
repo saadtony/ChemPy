{
 "cells": [
  {
   "cell_type": "markdown",
   "metadata": {
    "slideshow": {
     "slide_type": "slide"
    }
   },
   "source": [
    "![](ChemE_logo.png \"ChemE Logo\")\n",
    "\n",
    "# ExempliPy\n",
    "by [Tony Saad](www.tonysaad.net) <br/>\n",
    "Assistant Professor of [Chemical Engineering](www.che.utah.edu) <br/>\n",
    "[University of Utah](www.utah.edu)\n",
    "\n",
    "\n",
    "A collection of example of problems solved numerically with Python. Applications span physics, chemical, mechanical, civil, and electrical engineering."
   ]
  },
  {
   "cell_type": "markdown",
   "metadata": {
    "slideshow": {
     "slide_type": "slide"
    },
    "toc": "true"
   },
   "source": [
    "# Table of Contents\n",
    " <p><div class=\"lev1 toc-item\"><a href=\"#ExempliPy\" data-toc-modified-id=\"ExempliPy-1\"><span class=\"toc-item-num\">1&nbsp;&nbsp;</span>ExempliPy</a></div><div class=\"lev1 toc-item\"><a href=\"#Free-Fall:-ODE-Time-Integration\" data-toc-modified-id=\"Free-Fall:-ODE-Time-Integration-2\"><span class=\"toc-item-num\">2&nbsp;&nbsp;</span>Free Fall: ODE Time Integration</a></div><div class=\"lev2 toc-item\"><a href=\"#Method-1:-Using-Lists\" data-toc-modified-id=\"Method-1:-Using-Lists-21\"><span class=\"toc-item-num\">2.1&nbsp;&nbsp;</span>Method 1: Using Lists</a></div><div class=\"lev2 toc-item\"><a href=\"#Method-2:-Using-Numpy-Arrays\" data-toc-modified-id=\"Method-2:-Using-Numpy-Arrays-22\"><span class=\"toc-item-num\">2.2&nbsp;&nbsp;</span>Method 2: Using Numpy Arrays</a></div>"
   ]
  },
  {
   "cell_type": "markdown",
   "metadata": {
    "slideshow": {
     "slide_type": "slide"
    }
   },
   "source": [
    "# Free Fall: ODE Time Integration"
   ]
  },
  {
   "cell_type": "markdown",
   "metadata": {
    "slideshow": {
     "slide_type": "fragment"
    }
   },
   "source": [
    "Consider the free fall of an astronaut subject to drag. The governing equation is according to Newton's second law is:\n",
    "$$m \\frac{\\text{d}u}{\\text{d} t} = m g - c u$$\n",
    "or\n",
    "$$\\frac{\\text{d}u}{\\text{d} t} = g - \\frac{c}{m} u$$\n",
    "where $u$(m/s) is the (downward) speed of the astronaut, $g$(m/s/s) is the acceleration of gravity, and $c$(kg/s) is the drag coefficient. Here, the drag force acts in the direction opposite to the fall of the astronaut and is given by $F_\\text{D} = cu\\mathbf{j}$"
   ]
  },
  {
   "cell_type": "markdown",
   "metadata": {
    "slideshow": {
     "slide_type": "subslide"
    }
   },
   "source": [
    "## Method 1: Using Lists"
   ]
  },
  {
   "cell_type": "code",
   "execution_count": 137,
   "metadata": {
    "collapsed": false,
    "slideshow": {
     "slide_type": "fragment"
    }
   },
   "outputs": [
    {
     "data": {
      "text/plain": [
       "[<matplotlib.lines.Line2D at 0x1199e50b8>]"
      ]
     },
     "execution_count": 137,
     "metadata": {},
     "output_type": "execute_result"
    },
    {
     "data": {
      "image/png": "[encoded data removed]",
      "text/plain": [
       "<matplotlib.figure.Figure at 0x1199289b0>"
      ]
     },
     "metadata": {},
     "output_type": "display_data"
    }
   ],
   "source": [
    "%matplotlib inline\n",
    "import matplotlib.pyplot as plt\n",
    "import numpy as np\n",
    "dt = 0.5 # step size in s\n",
    "u=[] # create an empty list for the velocity array\n",
    "u.append(0.0) # att the initial condition (u0 = 0.0)\n",
    "t0 = 0.0 # set initial time\n",
    "tend = 30.0 # set end time\n",
    "\n",
    "c = 12.5 # drag coefficientkg/s\n",
    "m = 60   # object's mass, kg\n",
    "g = 9.81 # gravitational acceleration m/s/s\n",
    "\n",
    "n = 0 # counter\n",
    "t = 0\n",
    "while t < tend:\n",
    "    unp1 = u[n] + dt * (g - c/m*u[n]) # time advance\n",
    "    u.append(unp1)\n",
    "    t += dt\n",
    "    n += 1\n",
    "    \n",
    "tplot = np.linspace(t0,tend,len(u)) # create an equally space array for time. This will be used for plotting.\n",
    "plt.plot(tplot,u)"
   ]
  },
  {
   "cell_type": "markdown",
   "metadata": {
    "slideshow": {
     "slide_type": "subslide"
    }
   },
   "source": [
    "## Method 2: Using Numpy Arrays"
   ]
  },
  {
   "cell_type": "code",
   "execution_count": 138,
   "metadata": {
    "collapsed": false,
    "slideshow": {
     "slide_type": "fragment"
    }
   },
   "outputs": [
    {
     "data": {
      "text/plain": [
       "[<matplotlib.lines.Line2D at 0x119b02d30>]"
      ]
     },
     "execution_count": 138,
     "metadata": {},
     "output_type": "execute_result"
    },
    {
     "data": {
      "image/png": "[encoded data removed]",
      "text/plain": [
       "<matplotlib.figure.Figure at 0x11954a4e0>"
      ]
     },
     "metadata": {},
     "output_type": "display_data"
    }
   ],
   "source": [
    "%matplotlib inline\n",
    "import matplotlib.pyplot as plt\n",
    "import numpy as np\n",
    "dt = 0.5 # step size in s\n",
    "\n",
    "t0 = 0.0 # set initial time\n",
    "tend = 30.0 # set end time\n",
    "\n",
    "ndt = int( (tend-t0)/dt ) # number of timesteps that we will take\n",
    "t = np.linspace(t0,tend,ndt) # create an equally space array for time. This will be used for plotting.\n",
    "u= np.zeros(ndt) # allocate a numpy array of the same size as the number of timesteps\n",
    "\n",
    "\n",
    "c = 12.5 # drag coefficientkg/s\n",
    "m = 60   # object's mass, kg\n",
    "g = 9.81 # gravitational acceleration m/s/s\n",
    "\n",
    "n = 0 # just a counter\n",
    "while n < ndt-1:\n",
    "    u[n+1] = u[n] + dt *(g - c/m*u[n]) # time advance\n",
    "    n += 1\n",
    "    \n",
    "plt.plot(t,u)"
   ]
  }
 ],
 "metadata": {
  "celltoolbar": "Slideshow",
  "kernelspec": {
   "display_name": "Python [default]",
   "language": "python",
   "name": "python3"
  },
  "language_info": {
   "codemirror_mode": {
    "name": "ipython",
    "version": 3
   },
   "file_extension": ".py",
   "mimetype": "text/x-python",
   "name": "python",
   "nbconvert_exporter": "python",
   "pygments_lexer": "ipython3",
   "version": "3.6.0"
  },
  "toc": {
   "colors": {
    "hover_highlight": "#DAA520",
    "navigate_num": "#000000",
    "navigate_text": "#333333",
    "running_highlight": "#FF0000",
    "selected_highlight": "#FFD700",
    "sidebar_border": "#EEEEEE",
    "wrapper_background": "#FFFFFF"
   },
   "moveMenuLeft": true,
   "nav_menu": {
    "height": "84px",
    "width": "252px"
   },
   "navigate_menu": true,
   "number_sections": true,
   "sideBar": true,
   "threshold": 4,
   "toc_cell": true,
   "toc_section_display": "block",
   "toc_window_display": true,
   "widenNotebook": false
  }
 },
 "nbformat": 4,
 "nbformat_minor": 2
}
